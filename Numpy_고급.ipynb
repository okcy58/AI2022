{
  "cells": [
    {
      "cell_type": "markdown",
      "metadata": {
        "id": "view-in-github",
        "colab_type": "text"
      },
      "source": [
        "<a href=\"https://colab.research.google.com/github/okcy58/AI2022/blob/main/Numpy_%EA%B3%A0%EA%B8%89.ipynb\" target=\"_parent\"><img src=\"https://colab.research.google.com/assets/colab-badge.svg\" alt=\"Open In Colab\"/></a>"
      ]
    },
    {
      "cell_type": "markdown",
      "metadata": {
        "id": "YVM2yY5Tv22P"
      },
      "source": [
        "## 1. ndarray 객체 내부 알아보기\n",
        "- a means to interpret a block of homogeneou sdata as a multidimensional array object(다양한 형태의 데이터를 다차원 배열 객체로 해석하는 방법 제공)\n",
        "- 데이터 블록에 대한 부분적인 view를 제공\n",
        "- a *pointer to data* is a block of system memory(데이터에 대한 포인터)\n",
        "- the *data type* or dtype\n",
        "- a tuple indicating the array's *shape*\n",
        "- a tuple of *strides*, integers indicating the # of bytes to \"step\" in order to advance one element along a dimension\n",
        "![그림12-1](img/p354.png)"
      ]
    },
    {
      "cell_type": "code",
      "execution_count": null,
      "metadata": {
        "id": "xC48urVwv22S"
      },
      "outputs": [],
      "source": [
        "import numpy as np"
      ]
    },
    {
      "cell_type": "code",
      "execution_count": null,
      "metadata": {
        "id": "cqhkl3MPv22T"
      },
      "outputs": [],
      "source": [
        "np.ones((10,5)).shape"
      ]
    },
    {
      "cell_type": "markdown",
      "metadata": {
        "id": "jLht_-2lv22T"
      },
      "source": [
        "- stride: 하나의 원소에서 다음 원소까지의 너비를 표현\n",
        "- 3x4x5 크기의 float64(8bytes) 배열의 stride (160,40,8)\n",
        "    - 4x5 x 8 = 160\n",
        "    - 5 x 8 = 40\n",
        "    - 8"
      ]
    },
    {
      "cell_type": "code",
      "execution_count": null,
      "metadata": {
        "id": "HuWoSo8hv22U"
      },
      "outputs": [],
      "source": [
        "np.ones((3,4,5),dtype=np.float64).strides"
      ]
    },
    {
      "cell_type": "markdown",
      "metadata": {
        "id": "42A5erhbv22U"
      },
      "source": [
        "### NumPy dtype Hierarchy\n",
        "![p355.PNG](data:image/png;base64,iVBORw0KGgoAAAANSUhEUgAAAU8AAADUCAYAAAAcG6HGAAAAAXNSR0IArs4c6QAAAARnQU1BAACxjwv8YQUAAAAJcEhZcwAADsMAAA7DAcdvqGQAAENpSURBVHhe7Z0JvE1V+8ffMrvILFRmCiERETKkUiHSRIokVCJFyhCReZ7JPM/zPGSeqZAhTRrfod5633//eXj+9/uwTtuxL+49e597zz7r9/k8n7PPnvez1/rutdZeez1/EisrKyurZOu64Pl///d/cWF+y+2YQbRoye3YQbRoyO241i5aUrLwdJjfcjtmEC1acjt2EC0acjuutYuWlK4KT7Px//7v/8aFXctZKZX1o7ey/vRO8ebLlJrbPUgSnsah//M//yP//d//Lf/5n/8p//Ef/yH//u//Lv/2b/8WCONauCaujWvkWo2jvJJxetD9iHFt//Vf/3WZH730JYoXf5p0Ge5PL2V8yb6D6suUmrkH+B/fuKVnV3gah7KTJUuWyLx582T27Nkyc+ZMmTFjhkyfPj0QxrV89dVX8ttvv8m//uu/auIhoYY7KRKxH/a5bt069eOcOXNk1qxZgfPj4cOH5ddff5V/+Zd/0UTnTHBeyvhz7dq1gU6Xp06d0nTppz+NL7ds2RJKm0HzZUpt8eLF8ve//13+8Y9/XMEGoyThyYqAM126dFLwltsCaTfeeKP07t1bLly4IH/96181oeIkrxIp+2BfAPpPf/qT5MmX3/U8Yt0SsmWX6tWry9dffy1//vOfNcGR4UlDXL9XMunyxIkTgfZnxkyZpF27dvLNN99c4U8v0iUyafPnn39WX+bKk9f1XOLRSFf4ZNeuXfLdd9/J3/72N/n999+1FOpkwxXwNE7lScfTiJ0d/e4fgTQSTOfOneXYsWPy5ZdfqpMobXPtXiRS9kGCP3v2rN6MKUvWuZ5HrNszL3aUSpUqyaFDh/Raf/rpJ30QhSe2SMV+uDfcryD78+7q90mLFi3k6NGjcu7cOQWo1/40aZN948vhH853PZd4NNIVPlm6dKl8+umnWvjhIUNV3vkASxKelMCoEgUdnm3btpVt27apk3744QdNpKaKFKlMZj99+nTg4Vm2bFnZuHGjHDlyREugVOEpLXkJT/YFQGgiCDo8H330Ua1OG39ShfeyVsR+SJukeQvPy83Ac8qUKVr6PHnypPqJ0qeTDUnCk4RP+0fQ4fnUU0/JsmXLZP/+/aH2T6+e8OyDfeH8oMOzVKlSMn/+fNmxY4ecOXPG9UkdiUy6BCAHDx4MPDzr16+v7W4fffSRlubxp1cPI+NL0ua3335r4RlmBp6DBw+W1atXy4EDB/QBRvOJkw1JwpOET8Nx0OHZtGlTLWGTSD///HNtJPbqCc8+2JdpowsyPIsXLy5Tp06VDRs26MOCNmQa2r2GJwDhQRd0eNaqVUvzH6V540/ypBfp0viStEl7v4Xn5WbgyfuQhQsXys6dO+X8+fNam3KyIUl40vbHW6e0CM9+oyZL3Ycfc12WHAOejz32mF4nVXfal3755Zdkw5MnkptMAqVJIDUz+wcTZ0rpsne6LvPCgGexYsVkwoQJ+hb8k08+kb/85S8phidpL1wmXUYCz9GzlkjFqtVl6ydfui5PKwY8a9asqQ8j/En6wZ/4JTnpEtEMFS7jS9ImL6X8huerb78nz3Xo7LospfZsu06JDGh82byadR+Qmau3XTYvJWbg+fbbb8vcuXNl+/btyobwglVMwrPviInS4JGmrsuSY8CTtqVp06bJ1q1btXqUEnjefffdMn78+Ev//pBJoKkNzx4Dhuvx3ZZ5YcCzaNGiMm7cOFmzZo3CkxcRKYUn4Fi5cuWlfxdl0iXw3LdvX4r8OWrmYrmzclXZcfIb1+XYoy2e1fTltixaBjxr1KghkydPDvkzpfBs2LChDB8+/NK/izK+jBY8O3XvLS+80tV1WUqtzoOPSPHSt182r1qtujJvw+7L5jmtS68B8nTbDq7LnGbg2b17d62VUrCCDVGB5+ELv0rv4eOl3+gp0n/MVJmzbqfOX77zqLzSo48MmzZP/09fuUWXT168Vl7r+Z5sOHJG5+87/xfpNXSsdOk9UDYePSd7z/9Z3ug7SKYt2yjvDB4tU5au1/+se+ibv2um4Om27tBnOu96LRyetNWlBJ68LMHZlStX1sRuZBJoSuA5b+NuGTDuQy0tdX63v2z79Cud//bAkfp0XbXnE/XB+sOnZcT0Bepr/PBaz36yfNcxeb3X+zJyxiLdxsCT43d7b7D6l/n4i/XY9uDXv8i6g6dCfua45lyuZU540kYUKTyLFCmi58tDif6xyKTLSOCJ37g+Sp6UxsfNWyE9PxilaY00O2TybN1vvUZNNI2xzZjZS6XjW71k+orN+j+ptM2vW9oGSmv2n9B512tewrNOnTp6TeXKldO2fWR8mRx4Lti8L5TnJiXmV3zAdPfEtDV3wy5No/iTebvP/qA+ZR4PKtIh/mLZpsT8TF4lrbI//vcdOVEmLFglb/Yfqulz7+c/6bqr932q6Xng+On6H+M+MK9KjdpXwJP9cZ7G9yM+XKDrwhXyE12QSpQpqwxxbhduqQrPV3r01YPnyV9AbrjhBs28H536VnLlziu16j8oGTJklHFzV0j7rm9LhowZ5aZcuSV9+gxSs15D3b5W/YekSIlSeuxbi5XQG8D+ErJnV4eRWfnPupQUmC5R5g5ZuuPwZedxLfMansYeeOAB7eRsEmhK4InP8EnuvPm0PyrXyfxsOW5Sv5HYzT4phbMu18O8zFmy6nbM257oOwNP7ge/VKGAcY6bckqle+6VG9Ol05KBSTT4uUXrdlecU1LmFzyNPfTQQ9pgjz8jgSd+Y7v5m/YooPBPvgIFdR4PC7O8TPkKWvqkeShrQjapWrOOpuOLD/8r0zZQZjo8bdP/lX7SyT1PP+Bp7L777tO2fZM2rxeeJg0xTdowXCA9ZsqUWXLkzKU+AHiU7kiDVe6tpenPWUqkdIjf2Y79cS9Y5rwXPND2f/FXubnwLbp+lqwJiTCcommW/ZLOOVY4PNmW83RyhXlwhfvL/eAYTZ5+7rLtws3kg1SBZ9GSpaVG3QfUceaCeg0dpw7myY1DuAEmsS7csk8eePRxTZA8JZj33qhJug3TOJjfshUry+bj50PwpFTKb+0HHnY9j2sZNyFPnjxSunRpqVChgtxzzz1aZaxdu7Ymuuu1rFmz6nk4jUwzcOBAbeRPKTzZhidz9dr1pOQd5XR+UvBkeu2BU5IlIUFLTjNWbdV501duDu2LxFe5Wk190Lw/dlpom+p16kvxUreHEk2jZk/J7jM/XHFOSRn3I3PmzFKyZEkpX768VKlSRTM/Lz3c/HUtY1+ch9O4T3yZ5SU8S95eVg4llrgzJR6vw5u9dB2W4y+mgehjT7aUnae/0/kA1S1t8zAi7bqlbUBw4KufLzuPaxnnliNHDk2XkfrzppsuQspp7Jv2adKmF/Bs1rKN1pJYPnTqPPXBHXdWSixB/lnXMfAEiOSL1xOrz5QyWd/Ak4c4JVbmtXzp1cTa1EJ9ELEN6RujNMly8kTVmleWPFnGeRrfr9r7idxc6Ba9Nyxnfc7FuY2bpSo8KSmZtgVzQfznaYGz06dPLw0bNwtdJNUoSlbAjCoj83jCYExPXbZBf9u93l33aeBp5lPUdx7/eo3j8aKDbiGPP/64tG7dWl5++WV57bXXtPP866+/fl2WO/fFJ5zTKI0uWrQoopIn2zDtfHJfDZ5auk+8Jny5ZPuh0HLnvlhGqbTDm+/qvITsOfSpT5XGJJqhU+eGzuN6jPtBhrz//vv1BVzLli3lpZdekldeeSVZfjSWPbHky3k4DXDQDcpLeGLMNz5lmuX4i2kyOiUYljP/zX5DXNN2vYcb63y3tA1kWTc5xnkVLFhQ6tWrJ40bN1Z/tm/fXl599dVk+7Nw4cJ6Hk6jkEBzCL70Ap7O9Dh40ixNP+TdYqXKyKZjn4fS77KPjug6VPupqjNt4GmgxjzSE00lTKtPM2RQWHIc/rOeM08YY33O0/ie/MA65AmWO49zNTP5IFXgmb9gocQE9ZjsOfdT6IJo/8ieWE3kSW/WMxfphKdxcJ/hE0Lr4QTmsT7/DTzNug8nlpTMuskxBY3H1XZKSHwjzPaY1/CkKvJsu1dCT3r2eb3wpO2YUhMvTSgRMY9qljmmSTTXykjhxv0o6lO1PV++fPqlm0mX0YCnadsj7T/S/JnQ9phb2m7Wqq0+kNzSNvfEuf31GOflR7U9V65c+gbfmTavF57vDhmj61EKf6T501eFJ/M3HTuny2jmMOkXX1CA6jloVCj9JQVPSvmUPPGz8xx4SHEOVMVNnjDGtteC5331H7xsGzcz+SBV4Nn5nf56kUVLlgldEE+g/DcXkmKJ1Z5qtevKrDXbQxfphOeRb39LrIY3Sqzi59QLpTqfFDxZ9/6HHtXp2xOrCan5wojSEs4mkRuZBOolPGkoJ1EVvq1oaJ/XA0/ae6iaU5qi+kPzCPfjliLFFKhvDxwRSjRpAZ48hOgqQv9GZNKl3/C8rVgJ/U+zBg9wSp5UQ1mXl3NuafvD5Zv0e3S3tJ0W4EmzUpcuXfQrGWR8mRx4Lt52QK+7QKHC+qC4GjyfaP2iwi1T5izafORMv/fWqa+l0rwFbg7dC5aFwxNA3lq0uKZzthk7d7lsOX5eC2C8B8mZO09on8bY9mrwpDmKUmyTp1tftl24mXyQKvDEqH7zAoeTeG/UZJ1HmxtPFN50fnTqQmIGP6jOpl1j9tod2s5htsdZtHnSZkebEeuxPstwuHnCYVOXbtD94nAz73rMK3hSzScRhssk0JTAc+Wej0PXiA/Mm0zaeXkCm+U8lEigTOMnfIgv8QXztn7yhSzbeVQmLlyjmdp5DjzVgQTGG2HWZRvT6+F6zWt49u3bV/75z39e+ndRJl1GAk+T3kh7bGu2J+ObtEVJnAxIrYb/vL2lhwNvh00vBbe0jc/c0nZy2zsxL+H57rvvagdvp4wvkwNPDH/RpkmvDNOTw/iO6+d61x86rekPn5kXuM70S7um6RXCcXkJxzLWYTn7IH8zjR950FPLIm0yj/vywYSZsnDL/it6hLAt+cLpe/ZtuAJneJfCCz3nduHGdXJuqQJPHMHbW0o0PGWSmxmjZV7BMymZBJoSeMaSeQ1PN5l0GQk8vbBopG0v4ekm48vkwtML6z1snJYMixQvKbcULaZd5NzWS01LVXiOn79Si9p1Gj6iT2m3ddKCWXh6Y/EEz2ik7SDDk37FXF+zVm2054zbOqltqQrPWLFweOIgC8/kWzzBMxoWZHjGgll4XodZeHpjBp58omoyu4Vnyg140t+YIdEi/bbdTcaXFp7uZuDZo0cP7TnDt+3Jhiejupj+f0E03hTSj47rTOrj/0hkEqiBJ11g3M4j1q1eoybaX3bSpEnaf9Bkdr/gaQYGCao/GcSFL4F4qK9fv15H5aLXgZ/wpF+l27nEo5Gu8Mk777wTGmbRbcS1JOHJ1wfcOL5QyJYtm3Z3yJIli3794ZfRjYbuEG7L/LI2bdrIggULZPfu3fLFF19cMexUJDIJlFHq8+fPHzU/ZsiQQW9+pkyZXJf7YdWqVdPxXxnA97PPPguNyu8HPNk//T+j5U86vuNPt2V+WZMmTXREH6c//RiSjlH/CxQoEDVfxoolJCToeJ6MB7B3717Nw+EDUicJTxIppAUoPOkZ5ebDDz+UsWPHyogRI2TYsGGeG+08jAvptsxLY5SZkSNHajWTT/6oGjFiN2MbOgc8jVT4kn2xz2+//VbDKvBAIlPweRznwLm4nWMk9vzzz2tm79+/v+tyL420MGbMGE0by5cv14RG1xjSDpndK3gik+FJxMaflHS5h9xLzsUPfzJWAf50W+a1cQ3kMWpDtB/TREEexJ/kSZNxIxX7YVR0uoQRp8ekTXxJ27XJ40OHDo0rM/eA9ESVfdOmTeob0hu+crIhSXiyEivTsZZBLvbs2aPOXbFihQaGY5RrPj/00hg+y3zW6Kdx7sQn4YGAc3g40KZBVTN8qP1IhC/ZF9VX9k2zAKNSU5pYtWqVnoMffnzzzTc1s5MB3ZZ7ZZw7BjRJG5TeGbj3+++/17TjVQneyKRLxqh0+pN7yL30K10+8cQT6k+3ZV4a5841kMcYBBlwOv1pMq6X8CS90z5NTxMefDyMOAeqqzzkAUg8GdfMtZM3SdOwgTA6lNDJx/jM+P8KeCLjWKpdPPF4MgGXjz/+WEtohEEg0XptzZs3l7vuust1mddGsDKuhfY52jN+/PFHLdHwdPeyqsm+2CelT45BqYwMwdOMc3A7t0htyJAhmtmBtNtyL420QEwh0gZphCc0L91IO149hIyMPynROv3JPfQzXb744ovqT7dlXhvXwLXw0o2HA3mPPOi1P40v2S8P2X79+ukXXV27dtVv6Dt16iQdO3aMS+PaeVlEgZG0ZQLAhTdDucKThdwknnTQlnZAnk7cSBqYGR4MY6deWqtWrbTtzG2Zl2bOn2o6T3VKMYDTmUCNgyKR8aN5EHEMGv4pzXNsv/xIFxcyOxnQbblXZs6fNEHaII2Q0UkzXpaSjJzp0ulP7qGf/mSADfzptsxLC/cn6dIvf7IfQMAxuDZrVxq1GQo63I9kwdOZUHnScwOpLlF94Knvh7Vr107fMrot88O4Fq6Ja6N06CU4jYwf2TfH4Ab47UeqHdx8SoFuy702px9JKyaje+1LlBr+pESGP92W+WFJ+ZNr98qf7AcQUB3l2t4bOUk2H/tcNh45KxsOn9bPLNcf+iwujU878QkvkqkhUjPlIcP9uCY8kblRJhOwEQnWT+vQoYOOpem2zE/j2sx1epU4nYq2H3lDyM3nDa3bcr+MazO+NOnHa5n9RtOfBALDn27L/DQ//ck+OQaldq6NEfAPX/i7RmY4+M0vcW0TF61Rn0ycOFG7KVGDw0880PAZvkNJwtPI3DRjJtH6YX369NFRYNyW+WXh1+eXwo/jdi5eGS8cuPm0Pbot98PCr89vhR/P7Zy8MtIl/nRb5peFX5+XMv6iREvthGujkzyjlFn7TSYvudhJftCgQfpil7ZomlOoFThrAdeEZzTFaDrA0yoy0VbDzaet2ipykS7xZ1Bk4ElvCBt6+Eqjozw+6dWrV/JCD6emLDy9kYWnt4plePKiI1xOeJovjLyAJ2E3CJUzaOIfw0VGattPfK2fiDuHnxs6Za7UuL/BZeu5GaVIt/nXMgPPZIceTk2RSHnbbhWZLDy9VSzDs27dulqCoq3OyC94Mn4mA3MDH7flKTEGSuf8eIlj5k1atFaeeqH9Zes5jdhFlapWD405mlwz8Ez2wCCpKRJpxYoVL/2zSqksPL1VLMPThOEgkBxvjpGX8GSAc0bcZ5xTBhsGcmZgaQZDZjBjwjIzKDFhSlgOEBmU2BkChtDADH7uHKaO0ubEhav1/JzwZP/mfAEkPQMYpNlA23ybTmA+Bkc2212vWXjGsSw8vVUQ4IllzJhRXnjhhRSFHnYzSpqFbi0id1SoJC1feiVUSmSw4xW7jkm27Dm0ys2g0YwUxTYsJ5QHsbgIqcHI8r2HjdfQHuXvqiI5E+cDUMb9ZJwLtmcbJzzZP4P6MM1ytuU8WJ8R5gm3wTblKt0tY2YvC213vWbhGcey8PRWBp58OhxrxmAfnLvTGPzj/fff136LkcCTkiPbEraE/054tnm1WyjgIxBzwpPIre8MHq3ThDkBfpQSCQXDPNo0CRlcv1GT0DGuBs+GjZtrcEPWI/yHgV9KS9MWnnEsC09vxXffpM1YNGckUmO0gzIOgRfV9seffUG3b/5c28vgSeBGhtZjHcDphCewNaGHTahxAugBRGzghBk6j3Fi3do8w+FJKGTnvi08rVIsC08rI2e1naHnGPDCyzZPjLDixP53wvP5jl205Ek76B0V7koSngR7I7Jr8+devGyfQJEQz6Y0mhJ4EozPbJMcs/CMY1l4WhkBz5w5c+obdz6aQF7Bk1DMxUqV0RDWhFx2wpOomLR55sqdV7JkTbgqPKnCE+KZNs8SZe7QkMGmzfO24iW1zTQ58OQT00yMyZl4/Jmrt4W2u16z8IxjWXhaGTGgL58WOuUVPA9f+FVDWhMUj5dHGOChtMhywmQT9pq+nwTMYx7LiThKyGymeWHEfLoXDZk8R+au36mfiDKPkNqsS8jsTcfO6TyM/RMrn2ngyMspps2+mdY38FPmavhis931moVnHMvC0+pq8gqeVzPA+vIbPaXd6921BEn3Ibf10qJZeMaxLDytrqZowJP+n3UaNpJ77rtf4yOlxfjsSVnMwrNMmTKX/lmlVBaeVldTNOAZyxaz8KRrhVVksvC0uposPK9uBp7JDj2cmrLw9EYWnlZXkxs86aTOG21rs/RtPj4xoYc/+uij6ws9nJoiaqCFZ+Sy8LS6mpzwJHRKyZIlpWDBghoeO0+ePJIrVy7t3hTPljdvXo0FFh56OM2O50m4TwvPyGXhaXUtAQBGWiLkB12Zjh8/rhE7TVjsUaNGaQheE845Hsxc7+jRo3UU+Xnz5snmzZvl2LFj1xd6ODVl4emNLDytriUDT75vJ4gebXqE2d2wYYOWthgEmBg+VFvjybhmrp1w2oS0JsItvjExjPAZpU5k4RlAWXhaXUsAgPhIzrDYtOsRrwdgANJ9+/bFpRF2g3DahB3+4osvkgxLbuEZQFl4Wl1Lpt2TkpSJg0/AQEBB2GPCc/AyKR6Na8cHRBZlJH6q6/gIX5n2TmThGUBZeFpdjwxAKU3x8ogwzr///nsolHM8Gz7AF0AT34SDE1l4BlDxAk8ScryYX2LfQMGUQjFeigTRzPUlx0zo53BwojQHz3z58l36Z5VSBRmeBiYkZhI2RiJ3yyyxbOGZ11y313L60ulHSltBsGv5MzkWrjQHT/pYWUWmoMOTxE9GoAGfN6BUsWizo1E/CMa1UHXk2qg2kvnJ9Ell4pTK6UtAQ7U9qL40VXAvfWnhGUAFFZ4ms9O15oEHHpBatWrJfffdJzVr1pQaNWoEyqZOnarXCQCAGpnelJi8kPEl+27UqFGgffnWW29pVyPyAw8kr3xp4RlABRmelBo+/vhjvb56jZpoqIagGYMLt2zZUvsX0jmbQYyBHCVErwBqfAlU8GWtBg+5nkusG76sUqWKnD59Wt+ie+lLC88AKsjwJNEfOXJEr48BHNwGdoh1Y9T1pk2byp49e+TEiRP6BRBVTy9LnwaedE3Cl0EdGARf3nnnnfp9Ov026YJEVZ5mCgtPqysUVHiS2En0dOIOOjwffPBBWbVqlX5Xff78eR2UgjZer+DJfoAxMAk6PBnmkq+mCHrHhwCUPr3wpYVnABVEeJLISewker4ACTo877//fv3OfMuWLfLZZ59pB3ZeeHgBT+NLHkRUZYMOzxIlSsj06dP1c8tTp05pWzJVd/PiKKWy8Ayggg5PPh1MCTy3n/hag43tO/8X1+VpxcjwvLyZNm2arF+/XqvutE2S4ZMLT/wVLic8+aImJfAkVlC39wZrDPY+wyek2KeE6+g7YqJsOvpHjCIvDV8WK1ZMB/pYs2aNfn7KSFIWnlauinV4MjBDuJzw5PvjlMCz56DRul1KIiom1wg7MXbOshRBhQzPW+LJkyfL2rVrNcOnFJ5LliyRNm3aaJupkRfwLFKilOTOm08K31ZUt1+z/6Trem4GMCcvXqvT6w59ptv3/GDUFet5YfiyaNGiMm7cOG0G4WVjIOHJqM0WnpEr1uHJV2bAg6HAjLyA555zP8noWUs087ot99I6dHtXz5Ewum7Lr2ZOeJrSUiTw5DwKFSqkQ86hSOG5cMtF/09bvkkDuzGdHHh2eLNXKHQwNm7uilAUTa/NwJOxggMNT250xowZL/2zSqmCAE/O/4YbbpBWrVrpCxMv4PnBxJlSuuydMmfdTnnsyZbSqNlTGiu8YtXqsvWTL3Sd90ZO0tjhZDpC3D7+7Atyb536Ct5yle5WyFCCLXl72UQrJ28PHKHb0SRA/HDimL/Ws5/kyZdfz7FEmbKy4+Q3l53HtcwPeBp/PvbYYzpiUErhSYjgW4oU020ofbbu8LpOA0+W3f/Qo1K0ZGl5vlNXfUi9P3aalClXQYqVLCNPvdBeFm87qL4hoib3ghIov6w3YNx0ncbntxQtLu8MHqPHZHR3jtWwcTO9B4QkDj+vpCyu4MmNsIpMBp5U+eiiEWtWoEABPX9jZHpCtPB2OBJ49hgwPLQdmSohe3Z5+4ORuv+3+g9TgKZPn0Hjh1euVlMefvwp6TV0rG7zVJuXtZp6KLE6vmjbAY0LDnzZllJT3Yce02nWJ1Y5IGU7mgjYxu18kjLOjRHdK1eurJ3W+SAA6DVr1kyeeOIJtRYtWlyXVa9eXc/DaYCrY8eO2k0pufDc/8Vfpe/IibrNiOkLpfO7/XUaeFaoUk1uypVbuvb5QOeNm7dClmw/qFBt/lxbnTdp4Rr1TdaEbInLDsmyjy52O6MEa+7Poy2e1QdYqTvK6zHz5i+gPnkyEb4sT859t/C0SpYAEM0fsWpkbtKB09KlSyc9e/b0FJ4AkvlUIYlbQ+mH5U+37aClJTLvztPfSY6cufScXnilq64/Zs4yLQGxHesDAM6PMLvmWCYOTkqr7YzxcO+990q9evWkcePG8tRTT2kp/Pnnn0+W1alTR8/DadmyZZM33nhDS/QpqbbjP7YBfqbavnTHYX141H6gUeJD6Eud9+rb78n0lZvlrmo11IfmOPjGVNuBLvOd8KQ0CmAL3nJbqE101MzFejymLTxdZOFphUy13RhvS+mjF2m1PRyeGPMNPHnry/J2XXrof6rnu858L5mzZFUwPPn8S7p+vgIFNWCaExz8VqtVN3SsSOHpR7Udq1u3rg7wm9JqO+YGT1OCrNPwkRA8O3XvLTluyinNWrXRqrc5zrXgyf4NPFfv+1Tn8cCy8LyKLDytkIEn1XfekpLJSeR+w3PtgVOSMVMmbZv7YMJMrZ53T9wmU+bM0vKlVyR7Igg+OnVBErJlT6yGvigNGzfX/QEASp2UPl/p0Vdh+nqv93XZy93eueI8rmV+wLNChQranIOML72EJz4wJcy2r3XTeePnrVR/PtS0hTze8oXQcdiGkjwlU5o4mJ8UPA9983fJd3NBbZemOm+Wu52Xm1l4WsWV+CLk/fff107hRl7Ac+D46VK89O0ye+0OzYgY83lpRMbVdSbMkCLFS8otRYspQAEk7Z20h7Jtr6HjFIz5CxbSEhXzKB1tP/mNQuLmwrfodoC4TPkKUrzU7Zedw/WYl/BcvXq1gsOpSOGJ/7julXs+ln6jp+j0hiNnte9n7Qce1u5LtCGz7juJpXf+t3m1m65HCRJf0eyBDymxMp/9OO8P/UdNSZ621TvurCRNn31ez3Xq0g2Xnc/VzMLTKq709ddfX5r6Q17AM1bMS3i6KVJ4RtsoffLbb9RkPVde1oWvk5RZeFrFvSw84xeeDzz2uFbhqeo/2OQJ13WSMgtPq7iXhWf8wnPbp1/pvaZ91G351czC0yruZeEZv/CMxOIOngwZZWXlVLzBk87xjCa/bt06HYfSwjNlhi/p6sa4Gbw8Czw8SShWVk454WlGVeJTPjJH0IyuU3Runzlzpn6PfvLkSR1Gzc8h6cwnqUEzfFm8eHGZMmXKFSNUWXhaxY1Mhmdsyz59+ki7du3k6aef1i9wGDy4QYMGUr9+fc+Nkgvp0m2ZH9awYUPp3bu35ge+FiMcx88//6wPDi/gidgPn7syqvrAgQPlpZdekmeeecZ3X0bb8GXnzp1l/vz5sn37djlz5oxnY6NaeFrFjJwZ/ocfftC2QAYLXrx4sQ52Sxsh4zZOmDDBUyNAGunSbZmXxrlPmjRJPvzwQx2Wj8F7GcSDrlsM8sKDw0t4EtKEaJl8406JbNu2bZoHZ8yY4Zsvo2XGl4yJOm/ePG3+OHjwoHz55ZfqSy8eRBaeVjEjEjoZngiIlMS++uorOX78uH66uXnzZtmwYYNmEq/t2Wcvftnitsxro2rJtezcuVOOHj0q586d0zY6Quf6EcOI6ivvGAA07YH4kgeSX76MpuFLHkA7duzQ0C2U4H/66Sd9YHjhyzQFTy7YwtMqKZHQSfCUwIAJ1S+iSzLABdERCbFA+6DXxghEpEu3ZV4b18C1EGuH9kjyAiVtSkqRttE5ZXwJRJy+5LiE/aAkyouqWDauAX9SVedBCzgJ5UyV3Qtfpil40r5j4WmVlEyGJ+EDUEqggIWSE5mflyp+GHG/SZduy/wwroVrIqMDNgNOr0qdiP1glOTZP36kNE8VnqBwgBR4x7pxHTTxwBSq64GN227haXUtGYBiZHwyAiClNOGXvfvuxVHh3Zb5ZQCN6+IavQankYEn7YIjRoyQoUOHyqBBg/QF0oABA9QYYyBWzVzD8uXLtemDCKReNn9YeFrFnEj0Toj6bbzZJ126LYuGmev1UsZ/lHS5tkK3FtGuX0GzLFkTpGrVqtocQfx7AMrDyVbbrawSZeDilzGKPenSbZmf5qfYPwChHZBrC3In+YoVK2rfYNpyaZYgGF7gXhgZeNLAa2WVVmTgGSQBDqrslMaCDs+yZctqSBrTVYnSZ+C6Khl48obMyiqtKGjwBBiAg9IXL1SCDs9SpUrJ3LlztR8rPRlMJ/lIq+4WnlZW11BQ4ckLKd5IBx2efJ5Jp3+6QtKFKZDftlt4WqVFxTI86XYULic808rAIIu27tfv0AnN4bY8pQY8GVWJcC6BHhjEwtMqLSqW4ckAIx06dFBYGKVFeM7ftEfPg1hSbstTagaegR+SzsLTKi0q1uHJuefPn19Gjx6twIwUnst3HpXWHbtoBNEj3/6m8YeatWqrv4cv/CozVm2VZ17sKAPHz5AmT7eWCQtW67rPtusk2058rds/36mrhnomPhSxj8LhOW3ZRo313vmd/rL38590/bavvamROdn39BWbrzgvN7PwtLJKRQUBnsaITLpr164Uw3PN/hOSJSFBbiteUuPYm5DC99V/UH8JkNd35MUQzvSzTJ8+gxqRNZnXtc8HOg4r0wyDlzUhm1SvU+8yeC7edkBDPQPeG9OlS9znWI2myXICybEM4LqdX7hZeFpZpaIMPPPlyxdzliFDBj13p6VPn166dOminyomF57tXu+u689as13/E1I4V+68cuCrnxWSNe5vEIIn61SoUk1t/xcXO+NT+jTwnLN+pzzx3Iu63dwNu3Qe8OzSe6BOrzv4mUbNBJwrdh1TaBL+uV6jxlecV1Jm4WlllYpixKFRo0bFpJUoUULzlNOaNm2qw/mlpOT5wKOP6/pUv/lf96HHNFww07ny5JWSt5cNwZPSJPDCWM48qtwGnsR9B5ZMT1m6Xn/53/KlV3WaoG9Y6w6v6/bsm/l9hk/Q/9djFp5WVlYpkrPaTpcd8lgkbZ4GdqNmLtb/tFlmTazGb0+EKfMbPNL0uuE5bfkmjYaZkC37ZdV2qvZME/veHJdY7cwjnj7VfTP/WhZ38GRMQSsrq8gFPAsUKCDDhw/XcSxRJPDcfPy8lK1YWTJkzChVa9aW+Rt3a1U6Z+48kv/mQrJg877rhifrp0uXTmHphOfGo2elWMnSclPOXFKkRCk9N6r+BQoWlt7Dxul6E+avuuLc3Cxu4Ll37151DBC1srKKXHQODw+oGAk8jQG7lXs+1uk9536S2Wt3aLsn/z869a1Wyfed/4us2X9SjfnM23Ts8xA8Z6/9SNsyWca6LOdtOv95a0876KKtB0LL1h86HZre/PF5Xe9aFjfwpLpu4Wll5a+8gGck5mzzdFvupVl4WllZeabUhifdnaiem1Kmn2bhaWVl5ZlSG57RNAtPKysrzxSP8Az8t+0WnlZW/ssNnnR27zFgeODs1mIlNO4+oYgZ0zOwoypZeFpZ+S8DT8bzJGpD5cqVdcxLIHPLLbdIoUKFpGDBgnLzzTfHvHEd999/v8ycOVNDOjOaPKFHLDytrKxSJODJSPKEpGA0eaqzxDifN2+eTJo0ScaMGaNfKI0cOTImjXNnIJQJEybIjBkzZOXKlbJv3z4NU03XrcCNJG/gyYjPVlZW/snAk+/bGVkdqBw+fFjz3po1a2TFihUadXLZsmUxa5w/7Zw8FOhDDl8IQ8wDgyaLQMJzyZIll+ZYWVn5IVN1ByLAhOr7V199pdVaSqFHjx6VI0eOxLRxDcePH5cTJ05cET2TBwfXH4ksPK2s4lAGnkCEKiwA/fnnnzWaJpAhtlEQjJH0KW3Szvnrr79qSTuQcdstPK2soicDUF6cUAKlRAZc+AY+SPb777/rCyIeEqbEybVbeFpZWaVYBqAGohiACZpxXeY6vQAnsvC0sopzGZjEi3klC88oyu1GBtGiJbdjW7toVv7LwjMKMgnaVBucVaQgmdfVoqQU7k+3c4lXMz6Jxn2Id6UpeNJNImjwNJmchM1bPtMwTwM2jfNBMK7FNMhzjSYT+5F548GfKTV8gC/wCe18Tohaea80BU/6mgURniRmRvJ+9913pWfPntKjRw/p3r27vPXWW4EwroWO1Xy5QZcXZz86rzMu+wTSw4YNC6w/U2pDhw7VDu+//fabwtQ8yCw8/VGahOfChQsvzYltmVISX29wXYRiZZSXoBnhFO655x754osv5Mcff9TM6wSoV8KfwIBO3EH2Z0qMuD74hM7h9G+kzyZddLzq02h1pdIkPMePH39pTmzLZPazZ8/qdTGCttuwWbFuxKWpWLGi7N+/X06fPq0ApX8dJW4vMy77Ach8ORJkf6bEGFIOn6xbt04fLkT85GsaqvK29OmPLDx9FAmWJ79pyw0yPO+44w79jvjAgQPy5Zdfasaleu1lxgXE+PPQoUMWnmFm4MkgGNu3b5eTJ0/q10I8xHjgWHh6LwtPH2UyO9/WBh2eJUuWlDlz5ujAEpQ+aXvzstTDPvAnQAbQFp6Xm4EnIwoxghCDfFB9/8c//mGr7j7JwtNHkWCpusYDPIkJPmXKFFm/fr1eL98S89LCD3jSPGDhebkZeA4cOFAWLVqkw68x0DHfc1t4+iMLTw9EInWTgSejV6cksz/UtIWUv6uK6zIv7NA3f9cQr27LkmPAk1AH3DdG6/7kk0/0XqYUnmwbLic8AUM04GlC6YbbG30Hye13VnRdllpm4Pnee+/pmJx79uzRUZIsPP2ThacHKlu2rHTu3FnfMDsVKTzrPPiIFC99u+uySG3QxJmSLcdNGmPbbXlyzMCTODF0WQKehDpIKTzxJ91unP6MNjx7DR0rWRMSXJeNnbtcoz+6LUstM/Ds27evzJ07V3bv3m3h6bMsPD0QmZ3zZsh/Rq4GmCgl8Jy8eK08+UJ76T1svMLztuIlpdNbvaV1x9cTQXdBdpy8IB3f6iWPP/uCdH6nv+w9/2eZu2GXAmzQxFnSb/QUGTN7qbRo3U6ebddJlmw/qPullMmy5s+1TVy+TEu0nBP/d5/9QbZ9+pW07fymPNXmZVm191PZefo73efEhWukXZceV5yn05zw5KVRpPAsUqSInlvhwoV1VHPzwsNPeC7dcVh9zPWv2H1cypSroMfg2owv8C++GDZtnv7fc+5H/X1/7DRp1qqtdOreWw5+/Yvur8fAEfJ02w7S7b3B8u6QMVccz2sz8OzTp08Inry4s/D0TxaeHsjA0xjxYCiBJReeQybP0fUqVKkmfYZfhCf/y1asrL8vd3tHIQcYW7V/Tef1/GCUDJ40S6fTp8+QCIAumlmpWhYtWVoK3nKb7ptMzDq1Gjwk4+ev1L6B/H++U9dECPwkZcpXkLuq1dRj3Vf/QY2pzfIMGTNes+nAL3gaK1OmjLZz+gVPmi7y5C8ghW8tosDbfPx86OFi4oszjX+Zz/Xyn1I7vzly5pLipW7X6UmJDz8Dsio1assNN9wgDR5p6npcL83CM/pKk/DMkiWL5MyZM2bsxhtv1PMOt5YtW+ob5+uF5x0V7tKqNKVJ/gPPwrcVVWCyfcPGzeTIt7/JgHEfJk4313nPvvRKCJ6duvfR7ZbvOiYtX3pVbi1aXOdvP/G1lKt0t9xz3/2hYwEFlgGAWWu26zTbAIY8+fKHgNEycf9mm6SMbfAB9y0hsaqbPXt2yZEjh9x0000hc/NbUubmz3Tp0unXRH7Ac/8Xf5WExHMm0iK+YJ4BJNPGFw0evQjBcHi+8EpXmbBglU73HTlRHmzyRKi5hV8Lz2AqTcKTSHcEgYsVCy8pUdp47rnn9HqSU/LMnTefZmDz37R5mkxKJqSKyDRhVfklIxt4koHYjn3Uqv+QPPz4kzqfzF8osVTV9JnnQ/t2wnPo1Hk6XaBQYT0eJV8DDPZttknKOAciFdLuy9veDz/8UGPgbNy4Ufsc7tixw9VvSVmBAgX02Mbw59tvv60Q8KvaPm35Jrm50C2SMVMmWb3vU1d4mnbOcHgyn3NhGnhS4qQUz7p8BWXhGUylSXgyulIsyVltZ5oqJkputZ2q9I2JJay1B07pfzd4UjpMyJZd3wQzLxye209ejMM9bt4KafNqN50m87NvoLrv/F903y+/0VOXbThyRhZtvdhvkqq9OZfkwtOvanu5cuW0Uzz78Kvajh36+hdt+wWevYaO0/ZijkGTRnLhyUMqb/4CWqKl2cTCM5iy8PRAAJN418CDarpRcuE5fcVmzXRZE7Ip+NzgOWTKHC2JlSlfUdvaeLkUXvIseXs5LUUWK1VG5288ek6XZcqcOXGbnDJq5mI19pO3wM26DW19gINvpGlTTW148sXSxIkTQ/70E557P/9JS/28nKPtk4eXKeHjw+TCc+GW/dr8QlMADzoLz2AqTcKTTtaxJGJE8yVHuJILT4wSJe1uZNh1hz6TlXs+1jflS7YfkvWHTus6K3Yfk/WHT8ua/ScTS45n9W0wy3ed+V6XU4JiH2Ru5lMCYj7/mU9pyuxn9todOo2t2X9CZqzaqvujJMa2TJvlSZnX8Jw9e7b6zik/4YlRVafqju/MPHoqzNu4O+QL7gnzNx37XP+b+8J8fMo0PmYdfqkF0FxCjwazT7/MwjP6SpPwpN0rCEoJPGPRvIanm/yGp5e25fh5uf/BR+XeOvUlfYYMMm3ZRuk7YqKWUMPNbfuUmIVn9JWm4MkNtvCMPbPwvNzo6kSzCz0hzNt7v83CM/pKU/BEFp6xZxaeqW8GnvYLo+jJwtNHxRs8+brKi88z3WTheXUz8LTftkdPFp4+KhyeQIb+mUGzKvfWkmLFiumnlGZUJdqv/YKnGVUpqP5MiT3e8gX1yYABAzQSw969e3VAZAtP/2Th6aMMPC9cuCCVKlXSzzYpod16661SqFAh/RaezuV+WP78+dWX/Lot99K4jgYNGsisWbNk69atvo/nycj8FSpUCPmTbmL40+3c4sW4B3TxGjNmjH6gYMfz9F8Wnj6KxMqgFgRF++677+T48eOyYcMGWbBggUyePFkTOt2cGMDWa+vfv7/6kl+35V4Y5z569Ggdi4ARzFetWqWlQmIZMZI8oyJ5BU8EAAABMZIAw7Fjx7SkyyDMNBlwPiNGjIg7415wHyj5k7Z4gFH6N+FQ7Ejy/sjC00cZeFJ9ZXBgAsFRIuCTRca9pISwbNkyXwyY4Ut+3ZZ7ZcuXL1dobtq0SdsiCTnyww8/6AODUreXJR4DT4BAm+qZM2e0egpAly5dqtXV+fPnx6UxADL3gvvAF1mkNUr/XjadWF0uC08fRYIlwwMRYEKGp/sI1VqCdBHIjGiHftiWLVvUl/y6LffSKFFT0vn8888VnLSz+RU9k31Squ3Vq5e8/vrr8vLLL0ubNm10LAEGYolXa9WqlbRv314fYMQvomRu7oOFpz+y8PRRBp4kXtrqKDGR8SmFEpwL0PhlwAxf8uu23EujesiDgXC3tLE5wellpjXwpLrOtdnQw3+YCT3Mw9LCMzqy8PRZToBS5QSiJGiqU34aoUHwJb9uy702Xg5xXZSyneD0A56Udrk221XpDzNdlWgKotpOuzMPM+6Nhac/svCMggxADUQxIOCnURrEl/y6LffDuC5znV6DE7FfHkC0G1t4Xm4Gnjb0cPRk4RklGZhEy8w4Afy6LffbvBb7BJ6U3G3o4SvNwJMeB7zAo3RODw/bVck/WXgGVE54BkFOeNrQw1eagacNPRw9pUl4Llmy5NI/q5QqluFJux1fZTnlhGc0P88kJEqu3HnlhVfecF1+NWMsVsZkdVvmtdnPM6MvC8+AKpbhSRckzr1Fixb6Fh+lFjwJDsfQcdNXbnZdfjVLDXjagUGiJwvPgCoI8MRy584t77//vnbx8hKeDBn3Zr8hOv1oi2c1xPLM1dukZftXpWufD+TBxs11oGhGmWc534+zLmGem7Vso9+SMxjym/2HamA+fgk7DGwJCd3k6dYagsPAk8Grn3z+JWnU7ClZvO1iOGgvzcDTDkkXPaU5eGbLls3C0wMZeA4ePFg/n4wlq1u3bgiexojhzohNXsHTWSpkX8DRhDO5q1oNDctRvtLdoVAbhNJgZH9CMd9RoZJ06TVA4+CzDLjy+1YiQEfPWqLT9L3kl2MA1CLFS0rNeg01OFz12vWuOJ9IzcIz+kpz8CT0rIVn5OKLpsyZM2uGCooxAAhfZ/kNz7UHT2kJMVeevJfB853Bo3V6/qY9ul3jp1ppzCNKnEC1as06WsVnHcI9E3CPY8zbsFvndek9UF7r2U9DOzvPxQuz8Iy+LDwDLDpIk3lizTp06KAgMJYnTx4ZPny4Xk80Sp7EJKI0GQ7Pl7u9o9PE0We7eg831v0wfVOu3FLqjvI6ejzrEF/fHGPYpdDOxDPiq6jKl8ISe2kWntGXhadVmpOzzZPv1n///XfN+F62eZatWFmNIHjs63rg2X/MVJ0eOH6GVsUJT5wpU2YN38z8h5q20NIl0ws279NSKfBctvOoznv17ff02Gwbfj6RmoVn9GXhaZXm1K1bN3nmmWfk4MGDl+Z4/7bdQI4qNKXGt94fdk14Ep20Wq26GrIZ8BItM//NhSRzlqxSpEQpWZ4ISaJw0l5q5tVu2EiP91KXHhramfV5mRR+PpGahWf0ZeFpleZE9TxcXsMT4wUQoZ4BJKGDCdEMOCkZAkqq50wzzxmCmXDPbMM0YYkJAW2WYeyTbdinWQ9jmlDStJE61/fCLDyjLwtPq5iQH/BMTUsqFDGx893Wv5ZZeEZfFp5WMaGgwdNrs/CMviw8rWJCFp5XNwNP+4VR9GThmUoiIQfN/BT7t/BM2gw87bft0ZOFZ5RkAEMiDrKZ6/Q6oxrfAU8zqhJvxN3aDePR+EQUn5jQwzxgbOhhf5Um4cknekGSyfhmEGQSMxAIkjGCPNflHBTZy8zqhCexku677z6pXLmylCtXTkqXLi3FixfX2PGEIo5H49rLlCkjY8eOlZUrV9rQw1GQhafPMpmekAgMTktpgIZ8ohsCgaAYcZn4JJRuRoDUD4CyP0BA6GETynnjxo0aPZJQzuPGjdNwzoThjSfjmskz06ZN07E87Ujy0ZGFp48y4Pz+++8lXbp0Wq0KqjVo0EBLOgaiBqBeZlr2BQj44ig8lPO6det0BHXGAo1H49o3bNggO3fu1MisPKQZiYrYUl7fB6uLsvD0USRYEu65c+cUMDTq03k6aMbwbHfddZdGtQRojOgE4LyuLhp/UnU3oZx5KcJgIZ988okeP16NUjgDSJ89e1YuXLigMdu5BzzEvK4BWF2UhaePIsFSUiJzA8+gvh1+5sWOUr58eQ17SyYm81K1BnJew5P94VMDUJpDgCghkKnKU/qNR6N2gw94cFHiNOC0pU7/lObgmT9//kDBk9LXqVOnAg9PXtrQ3rZr1y4taf/yyy++xAw3AGW/wMGEcQYWGG188WhcO36gms6DhXSHj2yp0z+lOXgWKVIkMPAk4ZLBT5w4EXh4lihRQl9Y8AKHlxW0SZKZ/Sj5GIAa4xiURq35H/7Z6g9ZePooEjDwpC0qUngyiAXDm42csch1+bWs97BxofErvTbgSVeZiRMnytq1a/V6qT76BU9kwGAtabPyVxaeHqh58+YaJztcXsKT4c/Yxxt9B7kuv5YBOLZ3WxapsW/6GtJViFAZvLyhHdJPeFpZpbYsPD1Q2bJlJUOGDNK6dWtt7zPyA57t3+gpAyfM0IBizGfItMmL18qAcdNDI5xjBC8bNHGWfHTqgv6PFjxXr15t4WkVF7Lw9EAWnhaeVvEnC08PBDwBE0bQtX79+ulbTz/gyWjk/Ja/q4rO79S9t45snuOmnFKizB0K0/fHTtN1ErJnl/wFC+lAvhaeVlbeKk3Cs3bt2tKpU6eYsVy5cimYnHbbbbfJjh07PIdnq/avSbvXuyswd5/5QSM0EkeciI4sn7Fqq4aKqFS1ukxYsFrn9Ro6zsLTyspjpUl4Vq1aVZo0aRIzlj2xhAeYnJaQkCC9e/fWPndevzCalFhNZ5p5N954o8bfocTJvHcGjZbCRYpJ8+delNX7LnaRerptBwtPKyuPlSbhGWtD0jmr7ZQI27dvr111/Ki2E7hsyOQ5Ok1MnOyJ1XWq7ttPfqPzhkyZI2XKVdBIjgu3XBy6jZC5Fp5WVt7KwtMDAU+g2ahRIzl06NCluf68MCIWOPG/K1appvMbNX9a8uYvIPfWqS8FChaW3Wd/0Go90RvvvreW5MiZS1bt/cTC08rKY1l4eqC6devqqD7h8hKem46d00FvR81cLG1e7aad5plPhMYuvQbI8x27aGRG5hGdkXbOF155Q9YdPKXzxs5drtub/XlpFp5W8SgLTw8EINzkJTy9Ms7BOQK5Mbo2ua1/PWbhaRWPsvD0UWkRnn6YhadVPMrC00dZeFp4WgVXFp4+Kt7gyccN9tt2q3iRhaePiid4RntUJSur1Faag2fJkiU17nQQZOBJaAS6MgHQoNrtt98u06dPl02bNungz4znaePnWAVZaQ6eFStWjLlv25MS0GBEb8K/Ekd78eLFem0ffPCB9OzZU7p16yZdu3aNaXvjjTeke/fuGsWRGsPu3bs1mqZfI8lbWaUVWXj6KKDB6N6ESKAN8LPPPlO40CcUkM6dO1dmz54ts2bNilmbM2eOhv5dvny5bNu2TSM3EsOIBwalbkrfFp5WQZSFp48CGpS8KIFREvvmm280JMfBgwc1RCyw2bp1qwZOi0Xj3DEGQNm7d68Gf/MzeqaVVVqShaePAhrAg8FBgOWyZcu0PXfGjBkyZcoUfcGCTZgwISbNnP+kSZMUorTtEsmRBwXtnZS6uX4rqyDKwtNHmZInscV5qZIla4Jky3FT4CxDxoxSvXp1bZagdE04YAtPq6DLwtNHGXhSIgOeQe6qxH2jOeLMmTPy448/ajhc2+ZpFWRZePoooEHpixJZ0OHJyFK8CGNUKUrav/76qzZX2LftVkGVhaePotTFSxPimAcdnqVKldL23O3bt2vp829/+5vtqmQVaFl4+ijgSdWVN+xewZPxOrHw+fu//OsV86JlwLN48eL6EmzDhg16vXSS/1f7hZFVgGXh6YF4OeImA08vP8+8u/p9as55r/Toq4Mf7zj5zWXzo2Xm80zewJtv2+3nmVZBl4WnB6pRo4YsWrTo0r8/FC14Ei3zrmo1dGBk5/yk7IMJM+XBJk+4LkuJAU8zqpIdGMQqXmTh6YFMDKM6depof06jSOG568z3GtDtrf5DQ6VKwHlXtZryzuDRMnTKXJ1HQDgCwxFimEBwA8dPl1fffk/WHjgZ2tekRWs01tGI6QuldNk7JV+BgrrN/i8ir+474WmHpLOKF1l4eiBnADjs6aef1v6OkcLzkSee0X6UBQoVljvurKTzgCeDjBD4jX3OXL1NWrRup9Nr9p+U1h27KBjLlK8gFS7FOeo7YqIuB5od3+qlsdzZb4NHml53afVqZuFpFY9Kc/CsVKmSvrmlFBcrljVrVoWT0zJlyqQDZqQ09DBxiDJlziJvJpY6ew8bp9vPWrNd4Ul0zKU7Duu8Lr0HhOC57KMjidtklidavyj9Rk/RsMS8XMqdN580ePTx0L6BJiB1Hi8Ss/C0ikelOXgyHmTfvn1jyvLly6fwchpDtB04cCDFJc+tn3yp2wyeNEuGfzg/NG3aPAk7zLyX3+gZgueUJev112nLdh7V33ZdeoT2beFpZRW50hw8Y1HOavudd94pS5cuDX2aGEm1nao1wdlom1QQJpYsAWfRkqXlw+WbdF6/UZP/KHkmgpK37s2fa6vbH/zqZ20DJTQxYYj3fv5nncfLosK3FVUAhx8zJWbhaRWPsvD0QMAzISFBhg0bprA0ihSez3XorNulT59BmrVso/OAJ22WzL8pV259keRs83yr/zCdTsiWXSpXq6nb8AKJKjzzR89aoi+gmM6VJ+9lx0upWXhaxaMsPD1QmzZt9CuicEUKz0Pf/F2r7LwhpwTJvIkL12h7J2/a1x86rfMee7KV7n/DkbP6f/rKzdJz0GhtIzX7mrNup7w7ZIxsPHpO90UTAFA1yyMxC0+reJSFp4+KFJ7XYyOmL5CE7Nnl1mIlFLZu61zNeBMfHsMdS85beAtPq3iUhaePigY8+4+ZqvDadOyc6/JomIWnVTzKwtNHRQOeacEsPK3iURaePire4MnHDfbzTKt4kYWnjwqH5/OdukrfkRMDZ9Vq19WBQQjHsX79eh1VyQ4MYhV0WXj6KANPBgemKxMADapVrVpVo2kSGI7BnxnP08ZttwqyLDx9FNAwcdsJjHb06FH9gopww7QPDh8+XIYMGRLTRt/WUaNGydSpUzXA3Z49e2zcdqu4kIWnjwIafGlE9ZVqLLGM9u/fL5s3b5YVK1Zo7PaFCxfKggULYtI4d4bi44sqHgq7du3SKvv3339v47ZbBV4Wnj4KaFDyYnCQ3377TQOjUSqjDfTIkSP67Tsw3bdvX0wa544Rt4iY7adPn7ahh63iRhaePgp4Ag8gQhWW0hhtgUD0u+++kwsXLujQdbFuAJPSJqVrAr9R0qa5wpY6rYIsC0+fZQBKCZRqLCUy4EJoXuyf//xnTJu5jt9//12vjVK2KXFy7RaeVkGVhWeUZEBiDLgEzcKv0coqyLLwjJLCweIGn1i38Gu0sgqyLDytrKysUiALTysrK6tkS+T/AUUOxsP1xjQRAAAAAElFTkSuQmCC)"
      ]
    },
    {
      "cell_type": "code",
      "execution_count": null,
      "metadata": {
        "id": "ebBGxRRkv22U"
      },
      "outputs": [],
      "source": [
        "ints = np.ones(10,dtype=np.uint16)\n",
        "np.issubdtype(ints.dtype, np.integer)"
      ]
    },
    {
      "cell_type": "code",
      "execution_count": null,
      "metadata": {
        "id": "2psL02Djv22V"
      },
      "outputs": [],
      "source": [
        "floats = np.ones(10,dtype=np.float32)\n",
        "np.issubdtype(floats.dtype, np.floating)"
      ]
    },
    {
      "cell_type": "code",
      "execution_count": null,
      "metadata": {
        "id": "Eu0gdrE9v22V"
      },
      "outputs": [],
      "source": [
        "np.float64.mro()  # mro: 특정 dytpe의 모든 부모 class 목록"
      ]
    },
    {
      "cell_type": "markdown",
      "metadata": {
        "id": "JFOVOzhdv22W"
      },
      "source": [
        "## 2. 고급 Array 조작"
      ]
    },
    {
      "cell_type": "markdown",
      "metadata": {
        "id": "VhZQ3ID3v22W"
      },
      "source": [
        "### 2.1 Reshaping"
      ]
    },
    {
      "cell_type": "code",
      "execution_count": null,
      "metadata": {
        "id": "90_BPESQv22W"
      },
      "outputs": [],
      "source": [
        "arr = np.arange(8)\n",
        "arr"
      ]
    },
    {
      "cell_type": "code",
      "execution_count": null,
      "metadata": {
        "id": "RKWs_ZGHv22X"
      },
      "outputs": [],
      "source": [
        "arr.reshape((4,2))"
      ]
    },
    {
      "cell_type": "code",
      "execution_count": null,
      "metadata": {
        "id": "IgTvf77lv22X"
      },
      "outputs": [],
      "source": [
        "arr.reshape((4,2)).reshape((2,4))"
      ]
    },
    {
      "cell_type": "markdown",
      "metadata": {
        "id": "RFPQxmSWv22X"
      },
      "source": [
        "- reshape의 값이 -1이면 워논데이터를 참조해서 적절한 값을 추론"
      ]
    },
    {
      "cell_type": "code",
      "execution_count": null,
      "metadata": {
        "id": "4302QdWbv22X"
      },
      "outputs": [],
      "source": [
        "arr = np.arange(15)\n",
        "arr.reshape((5,-1))"
      ]
    },
    {
      "cell_type": "markdown",
      "metadata": {
        "id": "buPJnQJKv22Y"
      },
      "source": [
        "- *flattening or raveling*: the opposite operation of **reshape**\n",
        "- **ravel** : 복사본을 생성하지 않음\n",
        "- **flatten**: 복사본을 반환"
      ]
    },
    {
      "cell_type": "code",
      "execution_count": null,
      "metadata": {
        "id": "7f8Vcn0jv22Y"
      },
      "outputs": [],
      "source": [
        "arr.ravel()"
      ]
    },
    {
      "cell_type": "code",
      "execution_count": null,
      "metadata": {
        "id": "aa0vzd2Fv22Y"
      },
      "outputs": [],
      "source": [
        "arr.flatten()"
      ]
    },
    {
      "cell_type": "markdown",
      "metadata": {
        "id": "Y-smPwasv22Y"
      },
      "source": [
        "### 2.2 C vs. Fortran Order\n",
        "- C Order : row major order\n",
        "- Fortran : column major order\n",
        "![Fig12-3](img/p358.png)"
      ]
    },
    {
      "cell_type": "code",
      "execution_count": null,
      "metadata": {
        "id": "uiIXpqxWv22Y"
      },
      "outputs": [],
      "source": [
        "arr = np.arange(12).reshape((3,4))\n",
        "arr"
      ]
    },
    {
      "cell_type": "code",
      "execution_count": null,
      "metadata": {
        "id": "AJutnFDHv22Z"
      },
      "outputs": [],
      "source": [
        "arr.ravel()   # Raw major 평탄화"
      ]
    },
    {
      "cell_type": "code",
      "execution_count": null,
      "metadata": {
        "id": "1aDZf--Pv22Z"
      },
      "outputs": [],
      "source": [
        "arr.ravel('F')   # Fortran 순서(column major) 평탄화"
      ]
    },
    {
      "cell_type": "markdown",
      "metadata": {
        "id": "rVh3Kbhdv22Z"
      },
      "source": [
        "### 2.3 Concatenating and Splitting Arrays\n",
        "- **concatenate** : 입력 axis 기준에 따라 array를 join\n",
        "- **split** : 입력 axis 기준에 따라 배열을 여러 배열로 쪼깸(split)"
      ]
    },
    {
      "cell_type": "code",
      "execution_count": null,
      "metadata": {
        "id": "oXw3T2I7v22Z"
      },
      "outputs": [],
      "source": [
        "arr1 = np.array([[1,2,3],[4,5,6]])\n",
        "arr2 = np.array([[7,8,9],[10,11,12]])"
      ]
    },
    {
      "cell_type": "code",
      "execution_count": null,
      "metadata": {
        "id": "Bmdvpisuv22Z"
      },
      "outputs": [],
      "source": [
        "np.concatenate([arr1,arr2], axis=0)  # vstack((arr1,arr2)), row_stack"
      ]
    },
    {
      "cell_type": "code",
      "execution_count": null,
      "metadata": {
        "id": "NZwKctVFv22a"
      },
      "outputs": [],
      "source": [
        "np.vstack((arr1,arr2))"
      ]
    },
    {
      "cell_type": "code",
      "execution_count": null,
      "metadata": {
        "id": "FA5euiS8v22a"
      },
      "outputs": [],
      "source": [
        "np.row_stack((arr1,arr2))"
      ]
    },
    {
      "cell_type": "code",
      "execution_count": null,
      "metadata": {
        "id": "WtNyY135v22a"
      },
      "outputs": [],
      "source": [
        "np.concatenate([arr1,arr2], axis=1) # hstack((arr1,arr2)), column_stack"
      ]
    },
    {
      "cell_type": "code",
      "execution_count": null,
      "metadata": {
        "id": "qBssc1tVv22a"
      },
      "outputs": [],
      "source": [
        "np.hstack((arr1,arr2))"
      ]
    },
    {
      "cell_type": "code",
      "execution_count": null,
      "metadata": {
        "id": "JOcnCpWEv22a"
      },
      "outputs": [],
      "source": [
        "np.column_stack((arr1,arr2))"
      ]
    },
    {
      "cell_type": "code",
      "execution_count": null,
      "metadata": {
        "id": "uc6ET_tZv22a"
      },
      "outputs": [],
      "source": [
        "arr = np.arange(10).reshape((5,2))\n",
        "arr"
      ]
    },
    {
      "cell_type": "code",
      "execution_count": null,
      "metadata": {
        "id": "zWWQj_xAv22a"
      },
      "outputs": [],
      "source": [
        "first, second, third = np.split(arr,[1,3])   # 1, 3 열을 기준으로 split\n",
        "print(first)\n",
        "print(second)\n",
        "print(third)"
      ]
    },
    {
      "cell_type": "markdown",
      "metadata": {
        "id": "hvZIW9M9v22a"
      },
      "source": [
        "- hsplit, vsplit, dsplit : 각각 axis 0, 1, 2를 따라 배열을 쪼갬"
      ]
    },
    {
      "cell_type": "code",
      "execution_count": null,
      "metadata": {
        "id": "lNTSqgcsv22b"
      },
      "outputs": [],
      "source": [
        "first, second = np.hsplit(arr,[1])\n",
        "print(first)\n",
        "print(second)"
      ]
    },
    {
      "cell_type": "code",
      "execution_count": null,
      "metadata": {
        "id": "rrHE4pFpv22b"
      },
      "outputs": [],
      "source": [
        "first, second, third = np.vsplit(arr,[1,3])   # 1, 3 열을 기준으로 split\n",
        "print(first)\n",
        "print(second)\n",
        "print(third)"
      ]
    },
    {
      "cell_type": "markdown",
      "metadata": {
        "id": "LcCSIxFXv22b"
      },
      "source": [
        "#### 배열 쌓기 도우미: r_, c_"
      ]
    },
    {
      "cell_type": "code",
      "execution_count": null,
      "metadata": {
        "id": "wBpeUWePv22b"
      },
      "outputs": [],
      "source": [
        "from numpy.random import randn\n",
        "arr = np.arange(6)\n",
        "arr1 = arr.reshape((3,2))\n",
        "arr2 = randn(3,2)"
      ]
    },
    {
      "cell_type": "code",
      "execution_count": null,
      "metadata": {
        "id": "S2qPCBU0v22b"
      },
      "outputs": [],
      "source": [
        "np.r_[arr1,arr2]"
      ]
    },
    {
      "cell_type": "code",
      "execution_count": null,
      "metadata": {
        "id": "0gZNoa1nv22b"
      },
      "outputs": [],
      "source": [
        "np.c_[np.r_[arr1,arr2],arr]"
      ]
    },
    {
      "cell_type": "code",
      "execution_count": null,
      "metadata": {
        "id": "qAXy1Kinv22b"
      },
      "outputs": [],
      "source": [
        "np.c_[1:6, -10:-5]"
      ]
    },
    {
      "cell_type": "markdown",
      "metadata": {
        "id": "ly2cV76Ov22c"
      },
      "source": [
        "### 2.4 원소반복시키기: repeat, tile\n",
        "- repeat: 한 배열의 각 원소를 원하는 만큼 복제"
      ]
    },
    {
      "cell_type": "code",
      "execution_count": null,
      "metadata": {
        "id": "Gq_e_1W-v22c"
      },
      "outputs": [],
      "source": [
        "arr = np.arange(3)\n",
        "print(arr)\n",
        "arr.repeat(3)"
      ]
    },
    {
      "cell_type": "code",
      "execution_count": null,
      "metadata": {
        "id": "YKpffdqHv22c"
      },
      "outputs": [],
      "source": [
        "# 배열을 넘기면 각 원소를 배얄의 정수만큼 반복\n",
        "arr.repeat([2,3,4])"
      ]
    },
    {
      "cell_type": "code",
      "execution_count": null,
      "metadata": {
        "id": "57vHSeT3v22c"
      },
      "outputs": [],
      "source": [
        "arr1 = randn(2,2)\n",
        "arr1"
      ]
    },
    {
      "cell_type": "code",
      "execution_count": null,
      "metadata": {
        "id": "MWv49xFev22c"
      },
      "outputs": [],
      "source": [
        "arr1.repeat(2)   # axis가 없으면 단순 평탄화"
      ]
    },
    {
      "cell_type": "code",
      "execution_count": null,
      "metadata": {
        "id": "Cz8lbEXtv22c"
      },
      "outputs": [],
      "source": [
        "arr1.repeat(2, axis=0)"
      ]
    },
    {
      "cell_type": "code",
      "execution_count": null,
      "metadata": {
        "id": "H_Vv_cMNv22c"
      },
      "outputs": [],
      "source": [
        "arr1.repeat([2,3], axis=0)"
      ]
    },
    {
      "cell_type": "code",
      "execution_count": null,
      "metadata": {
        "id": "zMmPu7PLv22c"
      },
      "outputs": [],
      "source": [
        "arr1.repeat(2,axis=1)"
      ]
    },
    {
      "cell_type": "markdown",
      "metadata": {
        "id": "WSujc12Qv22d"
      },
      "source": [
        "- tile: 축을 따라 배열을 복사해서 쌓음. 같은 내용의 배열을 이어붙임"
      ]
    },
    {
      "cell_type": "code",
      "execution_count": null,
      "metadata": {
        "id": "zIKrd5aHv22d"
      },
      "outputs": [],
      "source": [
        "np.tile(arr1, 2)"
      ]
    },
    {
      "cell_type": "code",
      "execution_count": null,
      "metadata": {
        "id": "-8OIbMJuv22d"
      },
      "outputs": [],
      "source": [
        "np.tile(arr1, (2,1))"
      ]
    },
    {
      "cell_type": "code",
      "execution_count": null,
      "metadata": {
        "id": "rPcj7ZCTv22e"
      },
      "outputs": [],
      "source": [
        "np.tile(arr1, (3,2))"
      ]
    },
    {
      "cell_type": "markdown",
      "metadata": {
        "collapsed": true,
        "id": "0b-oQNEAv22e"
      },
      "source": [
        "## 3. Broadcasting\n",
        "- Broadcating: 다른 모양의 배열간 산술연산을 설명.\n",
        "- http://scipy.github.io/old-wiki/pages/EricsBroadcastingDoc"
      ]
    },
    {
      "cell_type": "code",
      "execution_count": null,
      "metadata": {
        "id": "loVIjODGv22e"
      },
      "outputs": [],
      "source": [
        "# 배열과 scalar 값의 결합\n",
        "arr = np.arange(5)\n",
        "print(arr)\n",
        "arr*4"
      ]
    },
    {
      "cell_type": "markdown",
      "metadata": {
        "id": "CllI9d0Bv22e"
      },
      "source": [
        "- broadcasting over axis 0 with a 1D array\n",
        "\n",
        "![p363.PNG](data:image/png;base64,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)"
      ]
    },
    {
      "cell_type": "code",
      "execution_count": null,
      "metadata": {
        "id": "uFfFh59tv22e"
      },
      "outputs": [],
      "source": [
        "arr = randn(4,3)\n",
        "arr"
      ]
    },
    {
      "cell_type": "code",
      "execution_count": null,
      "metadata": {
        "id": "FX7yqHG0v22e"
      },
      "outputs": [],
      "source": [
        "arr.mean(0)"
      ]
    },
    {
      "cell_type": "code",
      "execution_count": null,
      "metadata": {
        "id": "f3kbCgrAv22e"
      },
      "outputs": [],
      "source": [
        "demeaned = arr - arr.mean(0)\n",
        "demeaned"
      ]
    },
    {
      "cell_type": "code",
      "execution_count": null,
      "metadata": {
        "id": "rliozDoxv22e"
      },
      "outputs": [],
      "source": [
        "demeaned.mean(0)"
      ]
    },
    {
      "cell_type": "markdown",
      "metadata": {
        "id": "-aLxfa-ov22f"
      },
      "source": [
        "- broadcasting over axis 1 with a 2D array\n",
        "\n",
        "![p364.PNG](data:image/png;base64,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)"
      ]
    },
    {
      "cell_type": "code",
      "execution_count": null,
      "metadata": {
        "id": "IsCJzueyv22f"
      },
      "outputs": [],
      "source": [
        "arr"
      ]
    },
    {
      "cell_type": "code",
      "execution_count": null,
      "metadata": {
        "id": "BqM_luRWv22f"
      },
      "outputs": [],
      "source": [
        "row_means = arr.mean(1)\n",
        "print(row_means)\n",
        "row_means.reshape((4,1))"
      ]
    },
    {
      "cell_type": "code",
      "execution_count": null,
      "metadata": {
        "id": "MG2OAXbqv22f"
      },
      "outputs": [],
      "source": [
        "demeaned = arr - row_means.reshape((4,1))\n",
        "demeaned"
      ]
    },
    {
      "cell_type": "code",
      "execution_count": null,
      "metadata": {
        "id": "YfKDsR5Uv22f"
      },
      "outputs": [],
      "source": [
        "demeaned.mean(1)"
      ]
    },
    {
      "cell_type": "markdown",
      "metadata": {
        "id": "q7mtiBaDv22f"
      },
      "source": [
        "- broadcasting over axis 0 with a 3D array\n",
        "\n",
        "![p365.PNG](data:image/png;base64,iVBORw0KGgoAAAANSUhEUgAAAVMAAADACAYAAAC5zoAtAAAAAXNSR0IArs4c6QAAAARnQU1BAACxjwv8YQUAAAAJcEhZcwAADsMAAA7DAcdvqGQAADMhSURBVHhe7Z0J3FVF+cdDc0UlcUEEJVQSt/qAoWLiPzNxF3fccQECwQU1RQRFUaA0N3IJ0jQ0LZTcc0PRzBY3FIpc0wK33CqttGX+fZ/3Dh4O5753Zu455957zvP7fObzvveee++cmWee75l9PmNUKpVKVbcUpiqVSpWCFKYqlUqVghSmKpVKlYIUpiqVSpWCFKYqlUqVghSmKpVKlYJyhem//vUv8+c//7nyKh99+OGHucdZdv3jH/9IJc8bUV7KrkbkeVrlpdHKFabHHHOMOfLIIyXzxo4daw466CAzceJE85e//KXyieqaP3++GTJkiLnxxhsr7yyrBx980Bx99NHm4IMPNtOnTzf/+c9/zIsvvmhWXXVVc9ddd1U+pcpau+22mxk/fnzllTF/+9vfzNChQ82UKVMq7yyrZ555xowcOdLsv//+5qKLLjL//ve/JXzxi180M2bMqHxKlbWiPopvDh482Jxyyinm1VdfrXyiunx8NGrnRYsWFcJHc4PpH/7wB/OZz3zGzJ07VyDXr18/Cbw3fPjwyqeqCyPx2ZNOOqnyzrI644wzzNZbb226du0qn509e7a8z+/vscce8r8qWy1YsMCsssoq0iKwOuecc8Qe//d//1d5Z1ldc801ZtNNNzU9e/aUz06bNk3ex+HWWmstqTGpslXcRzfffHMzYMAAeW/vvfeufKq6fHw0buci+GhuMKV2gZPxxEP//e9/xWDrrLOO2WabbeS9avr9739v1l9/fbP66qu3a6h//vOf8vfJJ58UQ5122mnyes6cOfLks9dV2WncuHFmxx13rLwy5o9//KPp2LGj6datW7swpVxQJvjbuXNnM3DgQHn/6aefFls+9thj8lqVneI+in9ikw022MD07t1b3qsmXx+N27kIPpobTMngKDR5Ck6YMMF06NDB/PCHP6y8myyeWKNGjar51LP69a9/LZ89//zz5fXf//53ef3EE0/Ia1V2ApgjRoyovGqriWy//fbyfnswtaIGikMeccQR8hrnwnZXX321vFZlp7iPvvXWW+biiy+W/D/rrLMq7ybL10fjdi6Cj+YGU/pe6CexuuSSS8zKK68sNRbgV0001Zdbbjnz29/+1tlQo0ePFkjPmzev8o4xa6yxhrntttsqr1RZqUePHvKQRDjj2muvbX75y186w/TSSy8V29HUtKIGYx+MquwU91H6MAEefnrrrbdW3l1Wjz76qLePJtm51X00N5jut99+MuAU1fvvv2823HBD071798o7y4pr6623njn++OPFUAxIPPLII5Wry+qpp54yn/3sZ80JJ5xQeadNn/vc58wdd9xReaXKSl26dJE+UjRmzBgBIbajCUiYNWuWXEvS888/b1ZYYYWlHBrRFTR58uTKK1VWSvJRBg9p4mODauI7vj6aZOdW99HcYHrccceZnXbaqfLqU9GxjQHefffdyjvGfPTRR5X//neD/7sWD9/97nflGk2FaB8LswKoGdFxbvt9EH0/PAXbqwGr0tGXvvQlc/LJJ8v/OFncdrbWwiguTbuoaCrSb/bSSy9V3vnUdldddVXlHVVWquajDA5hu6iP/vWvf63819a1E7ez9dG4na2PVrNzK/tobjBlWgyjsmQazW/6YnhvtdVWkz419PDDD0uGzpw5U17HhZGsMzJtg6bFa6+9Jq/RsGHD5DN0avO573//+/I+8a244orylFVlK0Z099prr8qrTxVt5v/kJz8xyy+/vFm4cKG8RpQFbNe/f3+xne2jw+F4nyk1qmwV99GpU6ea73znO2bNNdc0W2yxhXzG+mi1bpeojybZ2fpo3M5F8NHcYMpoLJn47LPPSv8LTyZeAz77xGMaDO9Xm3caNRQ12vh0DWpFfMaGQYMGyfuTJk0S46my1+23377EIaOKwpSajn2AWsVrN7ZZyeDkSiutpA/CHBT3Ufowed2nTx+ZQ4qsj0ZrqVHxeeujSXaO+6i1cxF8NDeY4lx9+/ZdMpmb6n+0KY723XffJf1t7YnmPX1zTPSuJZyQqR3aTMxH2LVXr17mRz/6UeWdpcV1+k5/8IMfVN5pX9Ry7RQ3VbaK+yiKd8X4+KirnYmjCD6aG0wR06GqNeERtZo4YJPE0rMHHnig8qp9MYn8yiuvNB9//HHlHVXWYp7vzTffXHm1tD744AMZhHKxB2UB27mUCVU6StNHXe1MnEXw0VxhqlKpVEWVwlSlUqlSkMJUpVKpUpDCVKVSqVKQwlSlUqlSkMJUpVKpUpDCVKVSqVKQwlSlUqlSUFPBlI1oyxLKoqS0FzWUQUnpLmrwVdPA1CaAJW1lCKEGaxWV1Z5q0+IEX3s2HKZRA7Ge95NPPpFt9QgsWytKsGliyRxpZI16iMFaQdaepJG0kuai2dSmx9qUsht1wiLJltEkHyUk5U8rhqg9SaO1qU1/LTUUptZAJOChhx4y9957r7n77rvNnXfeKWuAixbYcZ4Nsdl8BeNFjVUUWZuSxrffftu88cYbZvHixXIWFIEtE4sSSM8777wju5yxBy9OGH1IFkGkg5Dko2zknFTOWzlYH2W/VnwUqLras+EwpfD9+Mc/lu242PKL3bbzCOyzyOFhSdeyCGxbRpyvvPKKAAaDFQ2opIG0kCYKJcdZ/OIXv8glsH0cu7snXcsqEB87lwFVHhw8QABq0WBKegANPtqpU6fE8p1F4MQMtl9MupZFwEeJ8+WXXzavv/66ee+992RHK1cfbRhMo453ww03iKHYPSYvsa+i3Q08D7EVGWn81a9+ZX73u99JbY0aDU98HihFcD5rU9IEbF588cXKlezFw4k48xQw5YHBCapsYs1OSdRQKdNFsCciHaTHVnjI57zEHrd2b9Q8ZH308ccfl/Os/vSnP8kuZ64+2nCY8iS//vrrSwNTnvA4/QsvvCBNRJ58RYIpaQEoZYHpPffcY+677z4BKjVUHpC2aVgEWR+96aabSgPTn/70p/KQ5PhqWhyuPtpwmNLUtYkoA0z5+7Of/Ux2M6e5/+GHHxamJkMaSAvNXZrdZYDpLbfcIrU2nI/aKU3DojT1rY+SnhtvvLE0MJ0xY4aczMoDkhakq482FKbQHupfe+21pYEpcXKcLSc0YijAUxSY4nikhc77ssCUGtt1110nZ1RRk+E4D5qFRYIpFR7bFVcGmF522WVybMtvfvMbaW24+mhTwPSaa64pDUwvueQSqc1gqEWLFhUSpjR1ywJTdqWnJkNTn75w+k0VpumoUTC98MIL5aQIBlGZtaEwraFGwZTTHjm1kSNt6eCmFqcwrV+NgikH/n3ve9+Trpsiw5SHRllg+q1vfUtaHAxEvfrqq84+2hQw5UhmhWnxYMogW17CyYkzTylMs1UjYcqBkDycmwqm3EBSsI7HyK+FKXMwkz6bRbAwTbpWb0hSkWAaT68N2JSRbKaTWJgmfS6LwMAPcSZdSyMkqSgwjafVBtJgKzykk/JLPid9NotgYZp0rd6QpKaFqb1paxBuBkeLBp541GIojCSCZmH8M1kFYHr55ZcnXgsJpI90WieKZ3wRYGrtWc2mjPrieEz5AjQLFy5c6nqWAYgRZ9K1kEDaatm01WFq01TNngTSQhllkI3yy1Sh+GeyCjvuuKM54YQTEq+FhFr2bEqY2hvlxkkEBqEGyk0BT2ouNBcY+WR60LRp0yQRzz33nFzLI2y11VbmoosuSrzmG0gTndSABKBEDWbV6jDl/qzTWWiSZmtPAjYFpIyAsuyQGQvRfMoyMFDAIFDSNd9AmrALZZayi32S4FgEmHKfpK+aj1ITffPNN5dUeMjneH5lFXbYYQczcuTIxGu+gTQxxcnFR5sOptwoc+8222wz07t3bwmbbrrpkvCFL3xBQq9evcx6660nidhoo42W+kyWgWVq6667buI137DXXnvJQ4GHAwazxkoyVCvDlDTRemAmAvfPai4Co57RQCFkHTf2j1/LKtg4k675BJsm+u+pheGIOGASUFsZptwb98iyyT59+jj76CabbLLUZ7IMLPdec801E6/5hkGDBi3lo9iomo82HUy5UaaMcHPnnHNOboH1tbvuumvitSzCkCFDzOqrr24WLFggfb44IMaiRh51qFaGKfdGWkgTE5nnzZsnhSyPAKCAFnmbdD2LQN/rE088IfNGmb5GDY0uqbjztTpMSQ/2bISP9uvXL/FaFuGggw4y66+//hIfxUa0qqr5aFPB1Dre1VdfLTeXp9ZZZx2Zy5mXHn74YdOxY0eZtP3kk09KjYamUdyhWh2mOB5AoelOActLFHygRR7lJWqmDzzwgPn5z38ua7Spvdm5htjUqlVhyn0RSA8PjUb46PHHH195lb3wN1qh+Kgtv9RQ4w/IpoUpBerKK68sBUx50pL5c+bMEed76623pGmYZKhWhSn3SI2bB0YZYMrCClaq8T+1GZr7dN8UBabcH+khfWWA6VprrSVzR/FR7ESTnz7ipoYpEdpazBVXXFEKmNK3c9VVV8kmJjSbqMlUM1Qrw5TaGTWZMsCUzXeYW0k/7PPPPy81GQtTa6tWhyn3ycT0MsCUvldayuzByraJ+J5tbVg7NTVMmcdZBpiuvPLKS5aJAhv62ajFFQmmdNtwr2WBKf39zH++//77BZLMUohDsggwBRhlgCn7lV566aVLfDRpmajCNKZGwZRpVuweZCFZRJgyvaQsMAWQBKZ40XWTBEmFaZgaBVPre8xGSYKkwjSmRsGUzREUpumrkTClWQgkFabpqlEwpcLTtDDlx5MCEGEAxk7GT/pMVsHCNOlavSFJRYNpNL024HhRmDJjIelzWQQLU+JPul5PqKYiwTSa3mjg/qjwMA2sET4KTJOu1ROqqalham8eg9gAOGyg4AMTlmtyc9HPZR0w1MUXX5x4rd5g0x1VUZr5Nm02rVF7EgAE8y25b0a3o/mSZWBmBHlsB3/SDDbNcRUBpjZtNq1xe1LmGCRl+lcjfJSVTUnX6g023VE1LUytgTAI0KTg8ISjJkrAQHTsMvoJ1Lg5ey2PsPbaa5tvf/vbidd8A+kifTgymZlkrFaHqU0PaeM+SCtpjuYDNqVWCtioyTCZPXo9y0AeMQhEPiVd9w3YlDRSdrGPtWlUrQ5Ta0/ro6Q37qOUTx6OzFZohI8OHz488ZpvcPHRpoSpNRKORX8ozWngQBMXgHEThKlTp5rzzz9flnDZm8srMIF+7733TrzmE0gP8wx5KJBeDEfBjDtJEWBKmkgHo508AEkL6bc2xZ5Tpkwx5513nmw8MXbs2GXyK6vACpZvfOMbEn/Sdddg0wMYgQj2wQmjDmjVyjC19qTMMjWxPR+94IILpLndCB/t379/4jWfQHqYcVHLR5sWpgCCXahXXHFF2Xkpr4ABunTpkngti9CtWzfZV4BzfZjqhMEwVtz5WhmmxElaKICbb755rvnL8j6O1U26llUgvvHjx4uDUMumBQX4onZCrQ5T0mMPwKMMJ+VFFgE/wG+SrmURPv/5z0samTeKj7LyMMlHmwqm/AiBG+RHmcxMQvIUextSS8lL1Lw33nhjmdTMblbshMQqmLijFAGmpIlNLvLMX2pM9J3lKeKjZs0qLjZsAXzYKZ7/rQpTa0/ro5S3Im+4zimipJHpa/go/pTko00LU/omWB1SBpj26NFDVkzQT8gqGByFPpooJFsdptwjT/OywPSYY46RdfecDktthuahbRpatTpMrY+WBaYWfGxGTv5TnqO+17QwpaAQaRlg2r17dymUnI3OTklJ63lbHabEzb2yTVkZYDp48GAza9YsaXEwKyFpU5pWh6n10bLAlL5h8r/a8elNC1NqZhzNXAaYdu3aVQxlj31NWiZaBJhyD2WB6b777isPSOxGTSZpmWirw9T6aFlgykDU7NmzpfsGH437VNPClCo0p4mWAaZsiMsZ2hgABwN+DFrEYbrccstJ/yqDOH379jXbbbedGTBggNyzDcBKYfqpGgVTZnpQftmOzXbdJMGU0W4Gq9j5DEedO3euLFhgsINWCqFZYWp9tCwwnTx5crs+xTUGH+M+yk7+HI0S91GFacqyMMXpqXGyCzuDUEkwxVC77LKLOfDAA83QoUPNmDFjzLhx48zZZ58t90yw08SaEab0G7KjehlgyqkITKeh35T5stVgyhQxnJRaLJ9lNzBqsnQNACicTGG6tBoFU6ZhWp/CR5NgSutx4MCBslH0sGHDzMknn2zOPPNMM2HChGV8VGGasnxg2urNfIXpsjBt5Wa+wnRZmBaumc8N0a/BpGlfhcKU+7VzCn2kMHUTeTJ//vzKK3fVA1OARfCVwrS2mAlAdwbl0lehMCW/Qny0tDAFHD179pSb5TA75ob5KASmZA47bBMn52/7SGHavigLI0aMkDQRaELhFK4KgSkOd9RRR0l8OIevFKbtiz5kyjzfW2211WSzcx+FwPSuu+6Sskecvj5aWpgeeuihcqOMpjJgwymHwMZVvjBlySPxAboQQylM2xdpJT08IFkayP9sbOMqX5iSn+QzK++IS2G6rIivHpjuvvvu8p39999f/gJUHmCu8oXp9OnTJR5rU4Wpg2g64AgUZn6DwRpumuaEq3xhytxQMsSuPVaYLiviDIXpAQccIOlhabHdeQhndFVIzXT06NFyIBpxKUyXFfFFfZR8coUpy6U7dOggizcQYLT2dZUvTMlnygFTm4hLYeogoMlN0hREp5xyirzmyeSq0D5ThWl1EWcoTHE60sOyzMWLF8v/TD1xVQhMEf3txKUwXVbEFwpTKh98/vDDD5fXRx55pLyeNGmSvHZRaJ8pZYG4FKYOYtI7N8m0BITT8trHeRWm6Ys4Q2HauXNnSQ/NwBDAKUzTF/GFwpS08nn8BYX4jcLUQfxI3FA+MOUQK24yDlOfp57CNH0RZ5owZbDPVQrT9EV8oTDldF0+H4cprUhXKUwdxI/EDeUDU3ucLAUZnXrqqfKa33GVwjR9EWcoTHv16iXpobDZZj6/4SqFafoivlCYMnLP59kIBtlmPgsXXKUwdRA/EjeUD0wpYHRus5QLUUPlpoGsqxoBU2pfo0aNkpVMrNHHEPQtzZkzR3YoB6QUhDLC9Gtf+5qkhzxgiSX/M7DoqkbBdNddd5VZBzgiffnsV/vmm2/Khif8NoFyWTaY8mDh8/gZ4i+vb7jhBnntokbB9LjjjpOyy9JffOvuu++W5cLWR7lWGJiibbfdVm504sSJMuViww03FNi4qhEw5QGwyiqrmFVXXVXueY011jCdOnWSgHEIvF9GmLLzPelhDwIGLfifPHBVo2C6/fbby7Q5ThXAYZjniMOxzSIBBwKSZYMpYm06S6M5UWGFFVaQcv36669XrtZWo2DKfbbno1zjb2FgypMCOHGzBG7WR9rMT1/EGQpTvmOb+oQtt9xS0uyqRsFUm/nVZQeKCfjqjBkzKlfcpM18B/EjcUP5whTRpOI4BfYd9FUoTFnVAfCYwuMjhWltkUaaVJyVxbZvPgqFKfdLnjO31VcK09oirfgoeeOrUJjiByE+WmqY1qNQmIZKYZqtQmFajxSm2SoUpqFSmAZKYZq+iFNhqjBNSwpTB/EjcUMpTNsyVmEaJoVp+iI+hanCtKYUpumLOBWmCtO0pDB1ED8SN5TCtC1jFaZhUpimL+JTmCpMa0phmr6IU2GqME1LClMH8SNxQylM2zJWYRomhWn6Ij6FqcK0phSm6Ys4FaYK07SkMHUQPxI3FMvOAGpeAWCRIUnXsgisyy8bTPPOX05cSLqWVSC+ssG0e/fuiXmRRWDHfOyadC2LsO666xYDpjzlubG8ApuksEFK0rUsApsnlA2meebvkCFDZB110rWsAvGVDabUFJPyIovQo0cP8Zuka1mE0047rRgw5cmQp7SZn76IMwpTbea32UCb+WHSZr6D+JG4oRSmbRmrMA2TwjR9EZ/CVGFaUwrT9EWcClOFaVpSmDqIH4kbSmHalrHAlI73kSNHyv1x/AMGw7mim0ifccYZCtOImh2m06ZNk3vkyB1es+MZR7REN5FWmC6tZoYpe51GfZRTV+ObSFsfVZimLB+YYgDXoDBtU7PDlPPJOF6HY4ivv/56OdYDx5s7d65A1AaF6adqZphGfbBWUJimLB+YrrTSSmbcuHHyHfb25NgLmobUZl555RUp0BdeeKEYSmHapmaHKUdgYM877rjDPP3002bRokWSTx999JHs3UpQmC6tZoYpMznOOuusJT7KqQoLFixI9FGFacrygan2mfqr2WGqfab+0j5TB/EjcUP5wpQm0ogRI+S8oJkzZ8pv+cgXpuzazZPo4IMPlibbBx98ULniJoVp+8JJ+Tz5S3OYmpuPfGFKXtLPNWzYMAkAz1cK0/bFeVjk7VFHHWVmzZpVedddvjClzOCbhx12WJCPlhamdrWCDWPGjKlccZMvTE8//XRpfrPqhfj69+9fueImhWn7Gj58+FL2XH311c3ChQsrV2vLF6Y0r1l1xwGHxIdtfY8uUZhW18cff2w6duy4lE0HDx5cueomX5iSv9iUAVzi8/XR0sKUkW0Mduedd8oN+zgS8oUpmYADcgYUsCPOl19+uXK1thSm7eupp56SmgU25fhkW6hd5QtTRB8XZZDaE/FxtruPFKbti9Yj5YGWI98l+LQ4fGHKEduUf/wgxEdLC1Mrboob5onko9A+UwYKunbtKsZiOourFKbush33NPddFQJTK45pJj4G/XykMHUTaeC7hPnz51fera3QPlMeyCE+WnqYUrvghjmj20chMJ0+fbrp3bu3xEf/qY8Upu4aOnSopI35e64KgSnzPKmVcqY79+vbx6YwdRMj3Xx3+eWXl3LsqhCY4gs070N8tPQwHT16tNzwxIkTK++4KQSmbNxBnylBYbqsiLNemC5evNh06tRJJkW/8cYblXdrKwSmdNmsvfbako/bbLONV5MQKUzddMQRR8h3R40aVXnHTSEwPf7448V/Qny01DCln43mPYX63XffrbzrptBmPoVpww03lEx69NFHK+/WlsK0tigP2IV0sWLIRyEwRcTJfRLnzjvvXHnXTQrT2iJfOnToIDtAUTZ9FNrM5yEc4qOlhSkQ2njjjeUJdO+991bedVcoTBF9a2TS5MmTK+/UlsK0tiZMmCBp2nHHHaVs+CgUpog+NuJlRN9HCtP29c4775guXbrI6Dp54KtQmKIQHy0tTI8++mi5UdbHYmACTuEqX5gyUogY0d9pp50kbjLLVRQKnHXLLbc0X/7ylwUYAwcOFGfcZ599zKBBgyR85StfKSVMKcjUYCikPFCwJ32arvKFKXYkIMBFXlJ78hHxUY7OPfdcM2PGDJlXyfQqVjgx0EJ/PoH3ygZTvrfffvvJd1ijbn3U5rmLfGHKPgeI/ArxUQvTzTbbzPTr12+Jj+65555L+SjXCgNTwMFNxgMF11W+MO3Vq5c0HejLIy7+Z2TfVRSKVVddVWCJgQ444ACZzMwACA8E+noIGKuMMGUAMWpLAnnhKl+YUpPk4bbRRhstiY818z4iPpz2ggsuMNddd5257777xA6UQ/pjX3jhBVnswQBM2WDKg8XmazQALFf5wpQFPOuvv/6SfnBfH7Uw3XbbbZfxURYIWR/lWmFgylPfPiWi4bXXXqt8orZ8YcpAFyBkpJAJ5jiLjygU2syvLgps3J4+TTRfmD7zzDMSB62EPfbYQwq7r4hPm/nJ4gEStyfBp7nvC9PLLrtM/JrBxBAfLW0zv175wrReNTNMuaeQ5X5xEWcoTOuVL0zTkMI0W9XTZxoihWmgFKafirw46aSTKq/CRZwKU4VpWlKYOogfiRtKYdqWsQrTMJUdppQb8rta4LqviE9hqjCtKYXpp1KYhqmZYEpeUx6qhRBbEJ/CVGFaU2WHKdOAbCA+dmmKvhci4lSYNgamWYj4FKYK05oqO0z5jg2bb765jGhH3wsRcSpMGwNTbebXL4VpoLSZ/6m0mR+mZoIp5QE7Vgtc9xXxKUwVpjVFAVOYtom8UJj6q5lgmoWIT2HagjBl1QKR5xVYccMk4qRrWQQ2Hm5WmB533HFyama9Is4oTPPM30MPPVT6fZOuZRWIr2wwZa/ZpLzIImywwQbiN0nXsggnnHBCMWBKpEUPzQrTtEScUZjG01/EUDaYliFoM99T2sxPX8QZhak289tsoM38MGkz30H8SNxQCtO2jFWYhklhmr6IT2GqMK0phWn6Ik6FqcI0LSlMHcSPxA2lMG3LWIVpmBSm6Yv4FKYK05pqZphyegD7bDKZvm/fvma77bYzAwYMkHu2we7/qTBtU7PDdOrUqWb8+PHmiiuuMLNnzzZz5841TzzxhGwFOG/ePAkK06XVzDDluCRO+oj66A477CAbSsd9VGGasnxgyimOwJNVSYcccohMXWJT2hNPPFHmgxJ22WUXhWlEzQ5TajGTJk0y1157rYCS2gywZAPpl156SYLCdGk1M0zZWDzqo8cee2xVH1WYpiwfmGoz31/NDlNt5vtLm/kO4kfihlKYtmWswjRMCtP0RXwK0xLBdMqUKZKwww47rPKOm0JguvXWW0tcNhC3qxSmbiI/6GsifzmIzlUhMAVYUXsSfKQwddPYsWMlbzlbyUchMMWvo/b08dFSw5TDsijQ3DBLF30UAlMO01tjjTWk05ngY2iFqZv4DukikBeuCoEp3yEeO5BA8JHCtLbef//9JYdQ+uZvCEyBHAdXhvhoqWF62mmnma5du8oNZw1TCgXx0MkcIoVpbS1cuFDSbm2aNUwZJCAenyOlo1KY1taQIUPkxFC+mzVM8SXi8WWBVWlhilEZ9R41alRQBvrClGksNp577rlHMsNHCtPa2nnnnaVWwewF0pY1TAEhU1wof4sXL6686y6Faft69tln5TvWR7OGKflPPJwiHOKjpYUpO7x06tRpKcj5yBemd9xxh+wSRFwE+k8/+OCDytXaUpi2rzlz5kh62L3K1hizhun2228vU1yIq2PHjlLgfaQwbV/s+EStlL5vvps1TIEVkOvQoYPE5+ujpYQpzTKAg+NhXG44a5ha8bTt2bOnxOlzrrvCtH3tuuuu0nfJ9/OCKQJUTKYnPvr2Pv7448qV2lKYVteLL74oi08opyxM4LtZw9SKObshPlpKmAJRbnLNNdc0nTt3lv9XXHFFL6CGwhThFMTpM4NAYVpd1B5wPNINoFZZZRVJGwUWQLkoFKZWthw9//zzlXdqS2FaXYxn8Pm11lpL/JT/6Zbz8dFQmKIQHy0lTLlJYEhguoU1GjUaV9UD08svv1zipC/IVRQKHJbvnH322bKsEEPQt0MT96GHHhKQAoWywZTBPWtPQrdu3SRtOJOr89YDU2qj2Ibmoc9gFPFRo6Y84Ih0OVErevPNN817770n6SI8/vjjpYMp9rD2pLnNd+kP9/HRemAa4qMWpvTZU3avvPJK8a27777bPPjgg0t8lGuFgWlUeTXzKeR33nmnZDB9tcQJwFxFoeA7LqGMzfyo8mjmAym+c++995q9995b4mNpoI+Ir3///ub0008XO8ycOdPcfvvtUktl7T1wtKFsMI0qr2b+fffdJ0C87rrrgnzUwtQlKEwj8oWp3bSAsMIKK0hTwEcUCpxvwoQJZtq0abLZBTUWHIvazCuvvCJpuemmmxSmOcDUDnjZwGDUG2+8UbnqJuIDwFdddZXUXp577jmxAd0WlGvmQRPo0lGYZg9TBrysPUN81ML01FNPlXh5jY8uWLBA+oCtj3KtkDCliUZiX3vttco7bvKFKc21+++/X2oy/O8rDKB9pm4CatiUNLvKF6YI+N12220yqBgi4tM+09rigWKB5CNfmOJL+M9dd90V5KMWpqXqM01DvjCtVwrTbBUC03qlMM1W9fSZhkhhGiiFafoiToWpwjQtKUwdxI/EDaUwbctYhWmYFKbpi/gUpgrTmlKYpi/iVJgqTNOSwtRB/EjcUArTtoxVmIZJYZq+iE9hqjCtKYVp+iJOhanCNC0pTB3Ej8QNpTBty1iFaZgUpumL+BSmCtOaUpimL+JUmCpM05LC1EH8SNxQbHRB4cwrsEKCtcJJ17II7EhUNpjmnb+srU+6llUgvrLBlD0MkvIii8Bes9g16VoWgVM0CgFT9gplF/u8Avss9uvXL/FaFoHztMsG0zzzlw2Bybeka1kF4isbTFmymZQXWQQ2L8Jvkq5lEXbfffdiwFSb+W0Zq838MGkzP30RXxym2sxXmC4jhWn6Ik6FqcI0LRUJpmxgxKYpCtMUlBVM+b1bbrlFDLpo0SL5PYVpPsoCpjfccIOZMWOGbCcHTN955x2FaU7KCqYXXnihufnmm8Xn2ZDJ1UcVplXkA1NODWCncmqdPNHYLo6Nh9nlaP78+bIDzwUXXCCGYpNpdj566qmn5FA4hWl+8oEpdmLDYmz15JNPilOxgTT24kFJAKbYm/042YyY33v33Xe9Ycrm1GmI+BSmyTBljOeb3/ym+CigxP58nh3I4j562WWXmVtvvVWga31eYVqHfGCKAVwCx3tcf/31UovBgDgRTqkwzUc+MJ00aZLsk8mRO9iMTaQBZnwT6VmzZkl47LHHzMsvvyxbybHNZC2Y8lmakwz67bfffpV36xPxKUyTYRr1w/YC0L322mulRTJv3jzz+uuvO/uowrSKfGDKtK0DDzzQDB8+3Jx55pniJGwoTTNx+vTp0gzEQHRqs3cjv8UG09Ri2Dsy+nt5ijgVpskwZTf+I444wpx44olm4sSJ5uKLL5ZTG2j+Y1N+g/5SQApkcTy6bXDkTz75RH4vLvKa7/Tp02cpB6ZVk4biPspvK0zbYEpF5qCDDhIfHTdunJkyZYq0PJJ8lJONGXx64YUXpHy4+qjCtIp8Yco5NGPHjpXPU5OhmcCxKezozrlR1EY5kwaDL1y4UJ54GN2lFpOViFNhmgxT8mL06NHmvPPOk535ac5TO+VhiD2pufAbjz76qHn66aelpslv4R9JtRi6C7p06bIURG1IC0DEqTBNhilHgw8dOlQqO5Q9+kcZu0jyUXydfnIejpzC4OqjucOUGtnUqVOl78JHvjDFqHw+GmiyucoHprbPlA5unmzUVOhvifbHYBycl8LNzvQYiSceRm9lmJIXFOpTTjlF+oFd5QtT8i1uTwIO5CofmNK64CBFai6AkLPkgWa0H5yHIrvRUy74HcpGNcfD1pQRTvyMgpTAiRBpiDijPspvh8CUgTQARTeHj3xhSrmJ29PHR31gSvPd+igPRvIcO9OiiPoop91y3AmVHbps7MPRxUdzhSlPA2pxZABw9JEvTDm/xhZWG3yc1wemK620kjQFaSpwTAoGstDk9My3335bAiO9GIjfaDRIEfHWA1Oe3FtuueWS/KVwu8oXptX6pn2c1wemDELYUV1AymdJL/3c1p58l0Ep8u+jjz4SkNZqDtKUZCVWNA1p1R6Jt16YUslhdSPf9bEP8oXpkCFDlsoH3zh9YMpqqXPPPXfJzAsejBaa1kexZz0+mhtMqUpTiIAcfRLcvI98YUrtkMwmnHHGGZLpRx11VOVqbfnClD4YpsngeNS+MQod1+QXRsFhCTgcBuI3GglSRNyhMKW/t2fPnpKv1Ep5upM2V/nClIJu7UmgyYzT+5xT5ANT+kcpA5RVHA+QWmhG7UmgjzTqdNVsynXKMRCxD3uW8FIW0hDxRn2U3/eBKa0qvsNRz3Rj+B5Y6AtTWjL1+Cjf4zsuMOX0U1rEN954o/go/aEwCH9O8lFs6uujucF0wIABknCq0yHyhWlUBxxwgMTNdCVX+cCUeaa2FoMjMo3G9odag8SDzdNGivhDYUpziTxlkCZEvjCNiqY2cQNGH/nA1M4zpS+NBwW1F8q+hWY81LKn/Ry/yW/hvJzhv91221U+Ub+InzhCYbrVVltJN4TvYZdW9fSZhvioD0ztPFN8GftSK7X9oWn5aC4wpRaDkajJAFUKNaOlPgqFKQMDbMDQu3fvyjtu8oVp1FD2c9agSaEZxH2EwnSXXXaRgnzooYfKvgmMUNNP7Kp6YHrsscdK3LR2fBQCU2poVAD4HACMOlk8tCdqRaxbJ7+t8CXuIy1xD1Ef9YEprSk+v8UWW5htttlGav7Dhg2TNLsqFKY0tUN8NBSmfI5J+5T7NH00F5hSYEg0zXw69aly8xoQuSoUpmPGjJG4mA7hozRgGv1cM4p7C4XpBhtsIPm60047mcMOO0z+x0auCoUptQn63QG4r0JhWm0FlKvIYyb+04zOUtxXKExtE58uK8oBZZrXjHO4KhSmfIe4fH3UF6bRpdw+y0RdlQtMSQCJHjhwoLymVsprH+cNgSkws9NRfMCNfGEaNRTLSYsOUwon+UqfJYMy/M97rgqF6ezZsyUu+h195QNT5h4CVAYU64EpMKNFFtq95SPuKxSmFmi22+aYY46R1yeddJK8dlEoTPfZZx+Jy9dHQ2FabTlpvcoFpkxDINF2pYc1nI+hQmDKqB3xUIuiQ9lHvjC99NJLZd4afT4MVjD4VGSYduvWTfJ28eLF8pr/aaq5KhSmdCsQF9OVfOUDUz5DOafshq65x/50Mx1++OHy/azFfYXClMFTPs+kdkRZ4DXzp10VAlPynwn1IT7qC1O7TNQuD25JmDLVgJHXjTfeWF7bpjdPf1eFwJRJusTD0kBfUSiYP8o9M/Lat29fGSzYYYcd5F5soABRGKjFMAH4mWeeWbIErcgwpZVB3lJz4+HB/9a+LgqBKWWPzYcJgM1XxEefPem080d5GFJTwW5MaSMwEZ+VSgCG68w9pN+fwQpXmPK5QYMGyUq4vBT3UWziClOgz+ftgBg1VF/fCYHp5MmTveOxsjCl5h/3UfqnrY9yjU2y4Q0+alerUTFqOZgiW6OgdsoEWmo29H+5ikzxcXacbd1115Vao+8UD2Rhuskmm0inPNNF+vfvL0b66le/Kn2FhJ133tkMHjxYaq84HhO5mXJBPhUZpqQXe/bo0UPygP+Za+uqEJiyEol4fFo0UREfdmRjYdIK6OgTJC3UWOhCILDSiZkZOJ5tEkZXwtQSn6H80Z3FFL28FPdR8soVpshutnzwwQdL2WfaFrV3V/nClJrohhtuKHGF+GgUplEf5YEZ91H4Qw2VvRXwUbqmmOaWpo/mBlOeAjQhunfvLmCkJuAjX5iyFyHf8e3UtqJQ0DQ4+uijzcknnyw7yuDM1FhwNAzDumycjyWGgJQnHs0HauK+TcJGiHsLhSkiLyjAFOYJEybIb7kqBKaUH2xKTTFEFqYjRoww48ePl64ZmvPMPQSo2JSuGmBK856uHWAS3ZDGBabMOaZm5/LZNBX3UV+YUvvmvvFRZmv4TFNCvjClHxl7jho1qvKOnyxMDznkEGntUsvFR1nOzSonbBr1UUCKj9IVwGKLtH00N5jWK1+Y1isKBccwYCRASpqZwI1BADX9M9RaKHAYiKcdIKVvjCeeq+M1UvXCtB6F9pnWI+KjCcgDllop8KRfnUnc9JNamzKZnLmlDK7RZUOtFMdzqcXwGbbkY9J/3or7qC9M61VIM78eWZjycMRHWV2Gj1KxwUexaZKP8tDg4UjNWGGagygUOB9x4hjUVjAMNRWafTzdGLWn7wWHo2mP0wHStI2Ulbi/ssH061//uqz/ZioQD0b2T6C/MGpPBtWYWM+DkUEK5lrah2N7NgXA1NLzBFhUcR8tC0zZpxQfBaTWR0l3ez5qJ+un6aMK0yqiUDCtisnW1DTY8Bkj0bdDMx4A4Wh0X/CUw0DUXgCpNVKahspC3F/ZYLrbbruJbXk4UgPF6RhRxsmsPQnYk7KO07mAFNEtwF4F/FYjFPfRssCULiZ8lB2f8FHAafdMaM9HXWzqI4VpFVmYMjeNWgyb/1IwbX8oBsHJbMA4UQOlaaSsxD2WDaZ77rnnUvNHeTjiaEAzyabYs5bT8TmamvSz8tlGKe6jZYEp2yTSR8oepKQXkNKayNtHFaZVRKGw80wZcLLzTO3ctKhB4qFVxL2SljLB1M4zBXx25gWOF3eyeGhP1HwYQab/tZHiPssIU+aZMthEHyk+SnkGpHn7qMK0iqrBFMcBQFkZJE+RhrLClEn7wDR0ZZMVo8Q0M/l+oxX30bLClAoPMM3bRxWmVWRhyvSZqKEUpumoGWBK/1q9MKWcsCN/Myjuo2WDaXQFlMK0HTUCpl27dpVzYpirhqHsmvuiwZTCt+mmm5YCpqwDZwoNk+mZrxoKU2YBsEyUPtdmKQtxHy0LTJnXi48yko+PtgxM6V+iMFIwmaeXV2BJGAdiJV3LIrAmmZ2JWHaI0VjPy5QZO3m7WRyoHpEG0sIDApjmmb9sVMLu50nXsgrExwo8lokyLYp5pCFr7hEwZuki5aFZFPdRQAPckvIii8BqOPwm6VoWgWNISCODxCwNjh6f3hIwpeCxSoREFD1stNFGZubMmTLyS00kiyVojRRpAKYAgZVBSXlQtMBO7iwdpQ/cjvy6LhO1oo+UucY+38lDUR+lppaU/qIF9km2R5GwaXh0tVrePuoNUwoefWz0IbI5L095JszSbGO3eQ4ia/XApG6edjzd2Wkdx7O1GDvym7ehshBpIC00CwELK0d4UNJEpHuDPVrJi6Q8arVA2aT/G8iQTibYMx/RNgldwYizUov33Zg6D8V9lGYv+7EytY9llkX0Uaa5RY9Px0cpz43wUW+YQnxqZ/Q1sXKENfbMwWTCLJ36TDkpQqAZxzJDmg52IjCOZ2sxeRsqC8WdjyYS283hhI888ojkQVLetGKgbAJRnI4ajF1WiOO51mLIE2DcrIr7KGDhIUmrijmYRfRRbMJyUfq/6b9upI86wdSKm4P43Cz9EgCVDl+gygFVQIfpJkUIGIcnHaODLC0ENjSfSH/RYIrzUeNm5Q41L5qw1MSLZE/SQhnl7B8eGoAU4Pg4HrtVjRw5svKqORX1UZq7AJXllKS7qD7KgzHqo5TnloCpNRZNI57qPAlYFUTfEwW0SIF0kT67DK1IILUiLRaopBEHpFCS9qQ8aeVAGeWBQUWAhwdlGJvWsiefZb9N8qnZleSjpJd0F9VHKa/2wdhIH/WCKbLG4oatwUgEjli0QLpIH6ApIkitovYkrUW3adyetWxKNxaHzOG4rSCbJvXRfOUNU6uowYoebFobZaQ8FE1jUh4ULbjak4G4POdqpqky2tPFplkpGKZRRRNStFBWJeVFUYKrqPXYucatrqR8KEpoFqUCU5WqaGJSP9OfGJBTqVykMFWpEsQihj59+kg/nErlIoWpShURI9+cIcRfphWpVK5SmKpUEbE0kTPcm2nNvao1pDBVqSpiaTRzF7WfVBUihalK9T8xh7Rz586yQ5hKFSKFqar0Yjm0XUarUoVKYaoqvfbff3/Tr1+/yiuVKkwKU1XppTBVpSGFqUqlUqUghalKpVKlIIWpSqVSpSCFqUqlUqUghalKpVKlIIWpSqVSpSCFqUqlUtUtY/4fpmXrlQTsR38AAAAASUVORK5CYII=)"
      ]
    },
    {
      "cell_type": "markdown",
      "metadata": {
        "id": "0bEWmJgTv22f"
      },
      "source": [
        "### 3.1 다른 축에 대해 broadcasting\n",
        "- np.newaxis: broadcasting을 위해 길이가 1인 새로운 축을 추가"
      ]
    },
    {
      "cell_type": "code",
      "execution_count": null,
      "metadata": {
        "id": "5oLxr6IGv22g"
      },
      "outputs": [],
      "source": [
        "arr = np.zeros((4,4))\n",
        "arr_3d = arr[:, np.newaxis, :]\n",
        "arr_3d.shape"
      ]
    },
    {
      "cell_type": "code",
      "execution_count": null,
      "metadata": {
        "id": "_s8v2hdcv22g"
      },
      "outputs": [],
      "source": [
        "arr_1d = np.random.normal(size=3)\n",
        "arr_1d[:,np.newaxis]"
      ]
    },
    {
      "cell_type": "code",
      "execution_count": null,
      "metadata": {
        "id": "zziXS0SMv22g"
      },
      "outputs": [],
      "source": [
        "arr_1d[np.newaxis, :]"
      ]
    },
    {
      "cell_type": "markdown",
      "metadata": {
        "id": "ygmw2Cxvv22g"
      },
      "source": [
        "- Compatible 2D array shapes for broadcasting over a 3D array\n",
        "\n",
        "![p366.PNG](data:image/png;base64,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)"
      ]
    },
    {
      "cell_type": "code",
      "execution_count": null,
      "metadata": {
        "id": "QsxaL5Zbv22g"
      },
      "outputs": [],
      "source": [
        "# 3 차원 배열에서 2번 축에 대해 평균 값 빼기\n",
        "arr = randn(3,4,5)\n",
        "arr"
      ]
    },
    {
      "cell_type": "code",
      "execution_count": null,
      "metadata": {
        "id": "xmIH8pwzv22g"
      },
      "outputs": [],
      "source": [
        "depth_mean = arr.mean(2)\n",
        "depth_mean"
      ]
    },
    {
      "cell_type": "code",
      "execution_count": null,
      "metadata": {
        "id": "cDPDrJQTv22g"
      },
      "outputs": [],
      "source": [
        "demeaned = arr - depth_mean[:,:,np.newaxis]\n",
        "demeaned"
      ]
    },
    {
      "cell_type": "markdown",
      "metadata": {
        "id": "RZHmRQ2Yv22g"
      },
      "source": [
        "### 3.2 Broadcasting을 이용해 배열에 값 대입하기\n",
        "- 배열의 색인을 이용한 값 대입 시 브로드캐스틴 규칙이 적용\n",
        "- 배열의 모양이 호환되는 한 1차원 배열을 그 배열의 column의 값으로 대입할 수 있음"
      ]
    },
    {
      "cell_type": "code",
      "execution_count": 1,
      "metadata": {
        "colab": {
          "base_uri": "https://localhost:8080/",
          "height": 211
        },
        "id": "ydzcGDdev22g",
        "outputId": "90ee9128-c34e-4082-c3dc-f5f120fec1cc"
      },
      "outputs": [
        {
          "output_type": "error",
          "ename": "NameError",
          "evalue": "ignored",
          "traceback": [
            "\u001b[0;31m---------------------------------------------------------------------------\u001b[0m",
            "\u001b[0;31mNameError\u001b[0m                                 Traceback (most recent call last)",
            "\u001b[0;32m<ipython-input-1-74ce867f521a>\u001b[0m in \u001b[0;36m<module>\u001b[0;34m()\u001b[0m\n\u001b[0;32m----> 1\u001b[0;31m \u001b[0marr\u001b[0m \u001b[0;34m=\u001b[0m \u001b[0mnp\u001b[0m\u001b[0;34m.\u001b[0m\u001b[0mzeros\u001b[0m\u001b[0;34m(\u001b[0m\u001b[0;34m(\u001b[0m\u001b[0;36m4\u001b[0m\u001b[0;34m,\u001b[0m\u001b[0;36m3\u001b[0m\u001b[0;34m)\u001b[0m\u001b[0;34m)\u001b[0m\u001b[0;34m\u001b[0m\u001b[0;34m\u001b[0m\u001b[0m\n\u001b[0m\u001b[1;32m      2\u001b[0m \u001b[0marr\u001b[0m\u001b[0;34m[\u001b[0m\u001b[0;34m:\u001b[0m\u001b[0;34m]\u001b[0m\u001b[0;34m=\u001b[0m \u001b[0;36m5\u001b[0m\u001b[0;34m\u001b[0m\u001b[0;34m\u001b[0m\u001b[0m\n\u001b[1;32m      3\u001b[0m \u001b[0marr\u001b[0m\u001b[0;34m\u001b[0m\u001b[0;34m\u001b[0m\u001b[0m\n",
            "\u001b[0;31mNameError\u001b[0m: name 'np' is not defined"
          ]
        }
      ],
      "source": [
        "arr = np.zeros((4,3))\n",
        "arr[:]= 5\n",
        "arr"
      ]
    },
    {
      "cell_type": "code",
      "execution_count": null,
      "metadata": {
        "id": "IGFg4sKZv22h"
      },
      "outputs": [],
      "source": [
        "col = np.array([1.28, -0.42, 0.44, 1.6])\n",
        "arr[:] = col[:, np.newaxis]\n",
        "arr"
      ]
    },
    {
      "cell_type": "code",
      "execution_count": null,
      "metadata": {
        "id": "mrydGvtlv22h"
      },
      "outputs": [],
      "source": [
        "arr[:2] = [[-1.37],[0.509]]\n",
        "arr"
      ]
    },
    {
      "cell_type": "markdown",
      "metadata": {
        "id": "wjir2TGqv22h"
      },
      "source": [
        "## 4. 고급 ufunc 사용법\n",
        "method | 설명\n",
        "-----|-----\n",
        "reduce(x)| 연산의 연속된 적용으로 값을 집계한다.\n",
        "accumulate(x)| 모든 부분적 집계 값을 유지한 채 값을 집계한다.\n",
        "reduceat(x, bins)| 로컬 reduce 또는 groupby. \n",
        "|연속된 데이터 슬라이스를 집계된 배열로 축소\n",
        "outer(x, y)| x와 y의 모든 원소 조합에 대해 연산을 적용. \n",
        "|결과 배열은 x.shape+y.shape의 형태를 가짐\n"
      ]
    },
    {
      "cell_type": "code",
      "execution_count": null,
      "metadata": {
        "id": "AoufhSv9v22h"
      },
      "outputs": [],
      "source": [
        "arr = np.arange(10)\n",
        "np.add.reduce(arr)"
      ]
    },
    {
      "cell_type": "code",
      "execution_count": null,
      "metadata": {
        "id": "ugLREuzBv22h"
      },
      "outputs": [],
      "source": [
        "arr = np.arange(15).reshape((3,5))\n",
        "arr"
      ]
    },
    {
      "cell_type": "code",
      "execution_count": null,
      "metadata": {
        "id": "LNs19hmwv22h"
      },
      "outputs": [],
      "source": [
        "np.add.accumulate(arr, axis=1)"
      ]
    },
    {
      "cell_type": "code",
      "execution_count": null,
      "metadata": {
        "id": "_Z_YnSfev22h"
      },
      "outputs": [],
      "source": [
        "np.add.accumulate(arr, axis=0)"
      ]
    },
    {
      "cell_type": "markdown",
      "metadata": {
        "id": "6Iafg_qTv22h"
      },
      "source": [
        "## 5. Learning SciPy\n",
        "- SciPy offers a magnitude of algorithms working on Numpy arrays\n",
        "- the complete namespace of NumPy is also accessible via SciPy.\n",
        "- https://docs.scipy.org/doc/scipy/reference/"
      ]
    },
    {
      "cell_type": "code",
      "execution_count": null,
      "metadata": {
        "id": "lMVRuelRv22h"
      },
      "outputs": [],
      "source": [
        "import scipy, numpy\n",
        "scipy.version.full_version"
      ]
    },
    {
      "cell_type": "code",
      "execution_count": null,
      "metadata": {
        "id": "aVZZq4lFv22i"
      },
      "outputs": [],
      "source": [
        "scipy.dot is numpy.dot"
      ]
    },
    {
      "cell_type": "markdown",
      "metadata": {
        "id": "jsfu2B6pv22i"
      },
      "source": [
        "package | Functionalities\n",
        "-----|------ \n",
        "cluster | - Hierachical clustering(cluster.hierarchy)\n",
        "|- Vector quantization/K-means(cluster.vq)\n",
        "constants | - Physical and mathmatical constants\n",
        "| - Conversion methods\n",
        "fftpack | Discrete Fourier transform algorithm\n",
        "integrate | Intergration routines\n",
        "interpolate | Interpolation(linear, cubic, and so on)\n",
        "io | Data input and output\n",
        "linalg | Linear algebra routines using the optimize BLAS and LAPACK libraries\n",
        "ndimage | n-dimensional image package\n",
        "odr | Orthogonal distance regression\n",
        "optimize | Optimization (finding minima and roots)\n",
        "signal | Signal processing\n",
        "sparse | Sparse matrices\n",
        "spatial | Spatial data structures and algorithms\n",
        "special | Special mathmatical functions a.a Bessel or Jacobian\n",
        "stats | Statistics toolkit"
      ]
    },
    {
      "cell_type": "markdown",
      "metadata": {
        "id": "Vx5FWeHqv22i"
      },
      "source": [
        "## 6. Learning Scikit-learn\n",
        "\n",
        "http://scikit-learn.org/stable/index.html"
      ]
    }
  ],
  "metadata": {
    "anaconda-cloud": {},
    "kernelspec": {
      "display_name": "Python 3",
      "language": "python",
      "name": "python3"
    },
    "language_info": {
      "codemirror_mode": {
        "name": "ipython",
        "version": 3
      },
      "file_extension": ".py",
      "mimetype": "text/x-python",
      "name": "python",
      "nbconvert_exporter": "python",
      "pygments_lexer": "ipython3",
      "version": "3.8.3"
    },
    "colab": {
      "name": "Numpy 고급.ipynb",
      "provenance": [],
      "collapsed_sections": [
        "Y-smPwasv22Y",
        "rVh3Kbhdv22Z",
        "LcCSIxFXv22b",
        "ly2cV76Ov22c"
      ],
      "include_colab_link": true
    }
  },
  "nbformat": 4,
  "nbformat_minor": 0
}