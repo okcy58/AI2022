{
  "nbformat": 4,
  "nbformat_minor": 0,
  "metadata": {
    "colab": {
      "name": "언어모델.ipynb",
      "provenance": [],
      "collapsed_sections": [],
      "authorship_tag": "ABX9TyOhDFulPMpJ7Cl72Ww9jjYq",
      "include_colab_link": true
    },
    "kernelspec": {
      "name": "python3",
      "display_name": "Python 3"
    },
    "language_info": {
      "name": "python"
    }
  },
  "cells": [
    {
      "cell_type": "markdown",
      "metadata": {
        "id": "view-in-github",
        "colab_type": "text"
      },
      "source": [
        "<a href=\"https://colab.research.google.com/github/okcy58/AI2022/blob/main/%EC%96%B8%EC%96%B4%EB%AA%A8%EB%8D%B8.ipynb\" target=\"_parent\"><img src=\"https://colab.research.google.com/assets/colab-badge.svg\" alt=\"Open In Colab\"/></a>"
      ]
    },
    {
      "cell_type": "markdown",
      "source": [
        "# 03. 언어 모델(Language Model)\n",
        "- 단어 시퀀스(문장)에 확률을 할당하는 모델\n",
        "- 통계를 이용한 방법과 인공 신경망을 이용한 방법\n",
        "- 이전 단어들이 주어졌을 때 다음 단어를 예측\n",
        "\n",
        "- 언어 모델링(Language Modeling): 주어진 단어들로부터 아직 모르는 단어를 예측하는 작업\n",
        "\n",
        "https://www.cs.bgu.ac.il/~elhadad/nlp18/nlp02.html\n",
        "\n",
        "http://www.marekrei.com/pub/Machine_Learning_for_Language_Modelling_-_lecture3.pdf\n",
        "\n",
        "\n",
        "\n"
      ],
      "metadata": {
        "id": "1D8ja8J5WkSg"
      }
    },
    {
      "cell_type": "code",
      "source": [
        ""
      ],
      "metadata": {
        "id": "Nw-JaWSEXgNE"
      },
      "execution_count": null,
      "outputs": []
    }
  ]
}