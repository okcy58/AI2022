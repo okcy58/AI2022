{
  "cells": [
    {
      "cell_type": "markdown",
      "metadata": {
        "id": "view-in-github",
        "colab_type": "text"
      },
      "source": [
        "<a href=\"https://colab.research.google.com/github/okcy58/AI2022/blob/main/%EC%96%B8%EC%96%B4%EB%AA%A8%EB%8D%B8.ipynb\" target=\"_parent\"><img src=\"https://colab.research.google.com/assets/colab-badge.svg\" alt=\"Open In Colab\"/></a>"
      ]
    },
    {
      "cell_type": "markdown",
      "metadata": {
        "id": "1D8ja8J5WkSg"
      },
      "source": [
        "# 언어 모델(Language Model)\n",
        "- 단어 시퀀스(문장)에 확률을 할당하는 모델\n",
        "- 통계를 이용한 방법과 인공 신경망을 이용한 방법\n",
        "- 이전 단어들이 주어졌을 때 다음 단어를 예측\n",
        "\n",
        "- 언어 모델링(Language Modeling): 주어진 단어들로부터 아직 모르는 단어를 예측하는 작업\n",
        "\n",
        "https://www.cs.bgu.ac.il/~elhadad/nlp18/nlp02.html\n",
        "\n",
        "http://www.marekrei.com/pub/Machine_Learning_for_Language_Modelling_-_lecture3.pdf\n",
        "\n",
        "\n",
        "\n"
      ]
    },
    {
      "cell_type": "markdown",
      "metadata": {
        "id": "Nw-JaWSEXgNE"
      },
      "source": [
        "## 통계적 언어 모델(Statistical Language Model, SLM)\n",
        "- 조건부 확률\n",
        "- 카운트 기반의 접근\n",
        "- 카운트 기반 접근의 한계 - 희소 문제(Sparsity Problem)\n",
        "- N-gram 언어 모델(N-gram Language Model)\n",
        "    - 희소 문제(Sparsity Problem)\n",
        "    - n을 선택하는 것은 trade-off 문제.\n",
        "- 참고자료\n",
        "    - 조경현 교수 : https://www.edwith.org/deepnlp/lecture/29214/\n",
        "    - 스탠포드 대학교 강의 자료 : https://web.stanford.edu/~jurafsky/slp3/3.pdf\n",
        "    - 뉴욕대학교 강의 자료 : https://cs.nyu.edu/courses/spring17/CSCI-UA.0480-009/lecture3-and-half-n-grams.pdf"
      ]
    },
    {
      "cell_type": "markdown",
      "metadata": {
        "id": "6xt_4IC9iWsy"
      },
      "source": [
        "## 한국어에서의 언어 모델(Language Model for Korean Sentences)\n",
        "- 한국어는 어순이 중요하지 않다.\n",
        "- 한국어는 교착어이다. => 토큰화를 통해 접사나 조사 등을 분리\n",
        "- 한국어는 띄어쓰기가 제대로 지켜지지 않는다."
      ]
    },
    {
      "cell_type": "markdown",
      "metadata": {
        "id": "doBuoblviWsy"
      },
      "source": [
        "## 언어 모델의 평가 방법(Evaluation metric)\n",
        "- 펄플렉서티(Perplexity, PPL): \n",
        "![PPL수식](PPL.PNG)\n",
        "- PPL은 선택할 수 있는 가능한 경우의 수를 의미하는 분기계수(branching factor)\n",
        "![모델별PPL_비교](모델별PPL_비교.PNG)\n",
        "- 링크 : https://research.fb.com/building-an-efficient-neural-language-model-over-a-billion-words/"
      ]
    },
    {
      "cell_type": "markdown",
      "metadata": {
        "id": "rk5ouypRiWsz"
      },
      "source": [
        "추천하는 참고 링크 :\n",
        "- https://towardsdatascience.com/perplexity-intuition-and-derivation-105dd481c8f3\n",
        "- https://www.slideshare.net/shkulathilake/nlpkashkevaluating-language-model\n",
        "- http://www.statmt.org/book/slides/07-language-models.pdf\n",
        "- https://github.com/kobikun/wiki/wiki/Language-Models\n",
        "- https://courses.engr.illinois.edu/cs447/fa2018/Slides/Lecture03.pdf"
      ]
    },
    {
      "cell_type": "markdown",
      "metadata": {
        "id": "Ha6R07rFiWsz"
      },
      "source": [
        "# 카운트 기반의 단어 표현(Count based word Representation)\n",
        "- DTM(Document Term Matrix)\n",
        "- TF-IDF(Term Frequency-Inverse Document Frequency)\n",
        "\n",
        "## 다양한 단어의 표현 방법\n",
        "- 국소 표현(Local Representation) 방법: \n",
        "    - 해당 단어 그 자체만 보고, 특정값을 맵핑하여 단어를 표현\n",
        "    - 이산표현(Discrete Representation)\n",
        "- 분산 표현(Distributed Representation) 방법: \n",
        "    - 주변을 참고하여 단어를 표현\n",
        "    - 연속 표현(Continuous Represnetation)\n",
        "    \n"
      ]
    },
    {
      "cell_type": "markdown",
      "source": [
        "![단어표현.PNG](data:image/png;base64,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)"
      ],
      "metadata": {
        "id": "kVPf3GGjjR6n"
      }
    },
    {
      "cell_type": "markdown",
      "metadata": {
        "id": "UBo2luE6iWs0"
      },
      "source": [
        "## Bag of Words(BoW)\n",
        "- 단어들의 순서는 전혀 고려하지 않고, 단어들의 출현 빈도(frequency)에만 집중하는 텍스트 데이터의 수치화 표현 방법\n",
        "- 분류 문제나 여러 문서 간의 유사도를 구하는 문제에 주로 사용\n",
        "- BoW를 만드는 과정\n",
        "    - (1) 각 단어에 고유한 정수 인덱스를 부여합니다.  # 단어 집합 생성.\n",
        "    - (2) 각 인덱스의 위치에 단어 토큰의 등장 횟수를 기록한 벡터를 만듭니다.  "
      ]
    },
    {
      "cell_type": "code",
      "execution_count": null,
      "metadata": {
        "ExecuteTime": {
          "end_time": "2022-06-10T04:44:42.603200Z",
          "start_time": "2022-06-10T04:44:41.832653Z"
        },
        "id": "YQvWWBgoiWs0"
      },
      "outputs": [],
      "source": [
        "from konlpy.tag import Okt\n",
        "\n",
        "okt = Okt()\n",
        "\n",
        "def build_bag_of_words(document):\n",
        "  # 온점 제거 및 형태소 분석\n",
        "  document = document.replace('.', '')\n",
        "  tokenized_document = okt.morphs(document)\n",
        "\n",
        "  word_to_index = {}\n",
        "  bow = []\n",
        "\n",
        "  for word in tokenized_document:  \n",
        "    if word not in word_to_index.keys():\n",
        "      word_to_index[word] = len(word_to_index)  \n",
        "      # BoW에 전부 기본값 1을 넣는다.\n",
        "      bow.insert(len(word_to_index) - 1, 1)\n",
        "    else:\n",
        "      # 재등장하는 단어의 인덱스\n",
        "      index = word_to_index.get(word)\n",
        "      # 재등장한 단어는 해당하는 인덱스의 위치에 1을 더한다.\n",
        "      bow[index] = bow[index] + 1\n",
        "\n",
        "  return word_to_index, bow"
      ]
    },
    {
      "cell_type": "code",
      "execution_count": null,
      "metadata": {
        "ExecuteTime": {
          "end_time": "2022-06-10T04:44:57.367669Z",
          "start_time": "2022-06-10T04:44:55.198870Z"
        },
        "id": "G2gJhR9niWs2",
        "outputId": "41f33467-208e-47cd-f97e-0d938bc4da7b"
      },
      "outputs": [
        {
          "name": "stdout",
          "output_type": "stream",
          "text": [
            "vocabulary : {'정부': 0, '가': 1, '발표': 2, '하는': 3, '물가상승률': 4, '과': 5, '소비자': 6, '느끼는': 7, '은': 8, '다르다': 9}\n",
            "bag of words vector : [1, 2, 1, 1, 2, 1, 1, 1, 1, 1]\n"
          ]
        }
      ],
      "source": [
        "doc1 = \"정부가 발표하는 물가상승률과 소비자가 느끼는 물가상승률은 다르다.\"\n",
        "vocab, bow = build_bag_of_words(doc1)\n",
        "print('vocabulary :', vocab)\n",
        "print('bag of words vector :', bow)"
      ]
    },
    {
      "cell_type": "code",
      "execution_count": null,
      "metadata": {
        "ExecuteTime": {
          "end_time": "2022-06-10T04:47:40.055243Z",
          "start_time": "2022-06-10T04:47:40.038243Z"
        },
        "id": "Fqx4TGMQiWs2",
        "outputId": "8b79e8fe-c2c7-4ee7-8a37-2683cc9216b1"
      },
      "outputs": [
        {
          "name": "stdout",
          "output_type": "stream",
          "text": [
            "vocabulary : {'소비자': 0, '는': 1, '주로': 2, '소비': 3, '하는': 4, '상품': 5, '을': 6, '기준': 7, '으로': 8, '물가상승률': 9, '느낀다': 10}\n",
            "bag of words vector : [1, 1, 1, 1, 1, 1, 2, 1, 1, 1, 1]\n"
          ]
        }
      ],
      "source": [
        "doc2 = '소비자는 주로 소비하는 상품을 기준으로 물가상승률을 느낀다.'\n",
        "\n",
        "vocab, bow = build_bag_of_words(doc2)\n",
        "print('vocabulary :', vocab)\n",
        "print('bag of words vector :', bow)"
      ]
    },
    {
      "cell_type": "code",
      "execution_count": null,
      "metadata": {
        "ExecuteTime": {
          "end_time": "2022-06-10T04:47:49.026036Z",
          "start_time": "2022-06-10T04:47:48.998039Z"
        },
        "id": "-wDC_QdOiWs3",
        "outputId": "1d8e47d6-a6e9-4a6a-c018-84611231d901"
      },
      "outputs": [
        {
          "name": "stdout",
          "output_type": "stream",
          "text": [
            "vocabulary : {'정부': 0, '가': 1, '발표': 2, '하는': 3, '물가상승률': 4, '과': 5, '소비자': 6, '느끼는': 7, '은': 8, '다르다': 9, '는': 10, '주로': 11, '소비': 12, '상품': 13, '을': 14, '기준': 15, '으로': 16, '느낀다': 17}\n",
            "bag of words vector : [1, 2, 1, 2, 3, 1, 2, 1, 1, 1, 1, 1, 1, 1, 2, 1, 1, 1]\n"
          ]
        }
      ],
      "source": [
        "doc3 = doc1 + ' ' + doc2\n",
        "vocab, bow = build_bag_of_words(doc3)\n",
        "print('vocabulary :', vocab)\n",
        "print('bag of words vector :', bow)"
      ]
    },
    {
      "cell_type": "markdown",
      "metadata": {
        "id": "Nwab2CtyiWs3"
      },
      "source": [
        "### CountVectorizer 클래스로 BoW 만들기\n",
        "- 길이가 2이상인 문자에 대해서만 토큰으로 인식"
      ]
    },
    {
      "cell_type": "code",
      "execution_count": null,
      "metadata": {
        "ExecuteTime": {
          "end_time": "2022-06-10T05:21:22.266323Z",
          "start_time": "2022-06-10T05:21:22.251327Z"
        },
        "id": "lXye3ooXiWs3",
        "outputId": "24fdecb3-b97b-431b-ca4e-76ae04e2843a"
      },
      "outputs": [
        {
          "name": "stdout",
          "output_type": "stream",
          "text": [
            "bag of words vector : [[1 1 2 1 2 1]]\n",
            "vocabulary : {'you': 4, 'know': 1, 'want': 3, 'your': 5, 'love': 2, 'because': 0}\n"
          ]
        }
      ],
      "source": [
        "from sklearn.feature_extraction.text import CountVectorizer\n",
        "\n",
        "corpus = ['you know I want your love. because I love you.']\n",
        "vector = CountVectorizer()\n",
        "\n",
        "# 코퍼스로부터 각 단어의 빈도수를 기록\n",
        "print('bag of words vector :', vector.fit_transform(corpus).toarray()) \n",
        "\n",
        "# 각 단어의 인덱스가 어떻게 부여되었는지를 출력\n",
        "print('vocabulary :',vector.vocabulary_)"
      ]
    },
    {
      "cell_type": "code",
      "execution_count": null,
      "metadata": {
        "ExecuteTime": {
          "end_time": "2022-06-10T05:20:16.513839Z",
          "start_time": "2022-06-10T05:20:16.496843Z"
        },
        "id": "PDrt6_IniWs4",
        "outputId": "f8e65499-4e83-4788-d5cd-97f9b99b642c"
      },
      "outputs": [
        {
          "data": {
            "text/plain": [
              "CountVectorizer(token_pattern='(?u)\\x08\\\\w+\\x08')"
            ]
          },
          "execution_count": 30,
          "metadata": {},
          "output_type": "execute_result"
        }
      ],
      "source": [
        "vector"
      ]
    },
    {
      "cell_type": "code",
      "execution_count": null,
      "metadata": {
        "ExecuteTime": {
          "end_time": "2022-06-10T05:00:27.753359Z",
          "start_time": "2022-06-10T05:00:27.740362Z"
        },
        "id": "d_JWOe-MiWs4",
        "outputId": "79d35440-a333-486c-82b8-e1cb17390bbd"
      },
      "outputs": [
        {
          "data": {
            "text/plain": [
              "['정부 가 발표 하는 물가상승률 과 소비자 가 느끼는 물가상승률 은 다르다 . 소비자 는 주로 소비 하는 상품 을 기준 으로 물가상승률 을 느낀다 .']"
            ]
          },
          "execution_count": 20,
          "metadata": {},
          "output_type": "execute_result"
        }
      ],
      "source": [
        "tokenized_document = okt.morphs(doc3)\n",
        "str_morphs = ' '.join(tokenized_document)\n",
        "str_morphs"
      ]
    },
    {
      "cell_type": "code",
      "execution_count": null,
      "metadata": {
        "ExecuteTime": {
          "end_time": "2022-06-10T05:01:28.374756Z",
          "start_time": "2022-06-10T05:01:28.364760Z"
        },
        "id": "uVxJlGFjiWs4",
        "outputId": "adb3dce3-5b2b-4ad2-8c4c-a2169b4cd234"
      },
      "outputs": [
        {
          "name": "stdout",
          "output_type": "stream",
          "text": [
            "bag of words vector : [[1 1 1 1 3 1 1 1 2 1 1 1 2]]\n",
            "vocabulary : {'정부': 10, '발표': 5, '하는': 12, '물가상승률': 4, '소비자': 8, '느끼는': 1, '다르다': 3, '주로': 11, '소비': 7, '상품': 6, '기준': 0, '으로': 9, '느낀다': 2}\n"
          ]
        }
      ],
      "source": [
        "print('bag of words vector :', vector.fit_transform([str_morphs]).toarray())\n",
        "print('vocabulary :',vector.vocabulary_)"
      ]
    },
    {
      "cell_type": "code",
      "execution_count": null,
      "metadata": {
        "ExecuteTime": {
          "end_time": "2022-06-10T05:03:18.299221Z",
          "start_time": "2022-06-10T05:03:18.289220Z"
        },
        "id": "uejyUChLiWs5",
        "outputId": "63006415-9321-4892-804c-dbdfd928af1c"
      },
      "outputs": [
        {
          "data": {
            "text/plain": [
              "{'정부': 10,\n",
              " '발표': 5,\n",
              " '하는': 12,\n",
              " '물가상승률': 4,\n",
              " '소비자': 8,\n",
              " '느끼는': 1,\n",
              " '다르다': 3,\n",
              " '주로': 11,\n",
              " '소비': 7,\n",
              " '상품': 6,\n",
              " '기준': 0,\n",
              " '으로': 9,\n",
              " '느낀다': 2}"
            ]
          },
          "execution_count": 24,
          "metadata": {},
          "output_type": "execute_result"
        }
      ],
      "source": [
        "vector.vocabulary_"
      ]
    },
    {
      "cell_type": "code",
      "execution_count": null,
      "metadata": {
        "ExecuteTime": {
          "end_time": "2022-06-10T05:17:13.994877Z",
          "start_time": "2022-06-10T05:17:13.983880Z"
        },
        "id": "pfOyK2dIiWs5",
        "outputId": "5054d7fa-a159-4127-a72f-e79877a9636d"
      },
      "outputs": [
        {
          "name": "stdout",
          "output_type": "stream",
          "text": [
            " was wondering anyone out there could enlighten this car.\n"
          ]
        }
      ],
      "source": [
        "import re\n",
        "text = \"I was wondering if anyone out there could enlighten me on this car.\"\n",
        "\n",
        "# 길이가 1~2인 단어들을 정규 표현식을 이용하여 삭제\n",
        "shortword = re.compile(r'\\W*\\b\\w{1,2}\\b')\n",
        "print(shortword.sub('', text))"
      ]
    },
    {
      "cell_type": "markdown",
      "metadata": {
        "id": "4OM8Ht9AiWs5"
      },
      "source": [
        "## 문서 단어 행렬(Document-Term Matrix, DTM)\n",
        "- 다수의 문서에서 등장하는 각 단어들의 빈도를 행렬로 표현\n",
        "- 한계\n",
        "    - 희소 표현(Sparse representation)\n",
        "    - 단순 빈도 수 기반 접근"
      ]
    },
    {
      "cell_type": "markdown",
      "metadata": {
        "id": "rgDG0zDLiWs5"
      },
      "source": [
        "## TF-IDF(Term Frequency-Inverse Document Frequency)\n",
        "- DTM 내에 있는 각 단어에 대한 중요도를 계산\n",
        "- 문서의 유사도, 검색 시스템에서 검색 결과의 중요도, 문서 내에서 특정 단어의 중요도를 구하는 작업 등에 사용\n",
        "- tf(d,t) : 특정 문서 d에서의 특정 단어 t의 등장 횟수\n",
        "- df(t) : 특정 단어 t가 등장한 문서의 수\n",
        "- idf(d, t) : df(t)에 반비례하는 수\n",
        "![IDF](IDF.PNG)\n",
        "- 모든 문서에서 자주 등장하는 단어는 중요도가 낮고, 특정 문서에서만 자주 등장하는 단어는 중요도가 높다고 판단"
      ]
    },
    {
      "cell_type": "code",
      "execution_count": null,
      "metadata": {
        "ExecuteTime": {
          "end_time": "2022-06-10T05:44:04.624270Z",
          "start_time": "2022-06-10T05:44:04.619272Z"
        },
        "id": "C8XQyaouiWs6"
      },
      "outputs": [],
      "source": [
        "import pandas as pd # 데이터프레임 사용을 위해\n",
        "from math import log # IDF 계산을 위해\n",
        "\n",
        "docs = [\n",
        "  '먹고 싶은 사과',\n",
        "  '먹고 싶은 바나나',\n",
        "  '길고 노란 바나나 바나나',\n",
        "  '저는 과일이 좋아요'\n",
        "] \n",
        "vocab = list(set(w for doc in docs for w in doc.split()))\n",
        "vocab.sort()"
      ]
    },
    {
      "cell_type": "code",
      "execution_count": null,
      "metadata": {
        "ExecuteTime": {
          "end_time": "2022-06-10T05:44:26.768221Z",
          "start_time": "2022-06-10T05:44:26.752220Z"
        },
        "id": "nODyZ_oqiWs6"
      },
      "outputs": [],
      "source": [
        "# 총 문서의 수\n",
        "N = len(docs) \n",
        "\n",
        "def tf(t, d):\n",
        "  return d.count(t)\n",
        "\n",
        "def idf(t):\n",
        "  df = 0\n",
        "  for doc in docs:\n",
        "    df += t in doc\n",
        "  return log(N/(df+1))\n",
        "\n",
        "def tfidf(t, d):\n",
        "  return tf(t,d)* idf(t)"
      ]
    },
    {
      "cell_type": "code",
      "execution_count": null,
      "metadata": {
        "ExecuteTime": {
          "end_time": "2022-06-10T05:45:35.508392Z",
          "start_time": "2022-06-10T05:45:35.485390Z"
        },
        "id": "N3DjTeJOiWs6",
        "outputId": "2c0aeae9-dedf-467e-de47-fff8ebd2fe06"
      },
      "outputs": [
        {
          "data": {
            "text/html": [
              "<div>\n",
              "<style scoped>\n",
              "    .dataframe tbody tr th:only-of-type {\n",
              "        vertical-align: middle;\n",
              "    }\n",
              "\n",
              "    .dataframe tbody tr th {\n",
              "        vertical-align: top;\n",
              "    }\n",
              "\n",
              "    .dataframe thead th {\n",
              "        text-align: right;\n",
              "    }\n",
              "</style>\n",
              "<table border=\"1\" class=\"dataframe\">\n",
              "  <thead>\n",
              "    <tr style=\"text-align: right;\">\n",
              "      <th></th>\n",
              "      <th>과일이</th>\n",
              "      <th>길고</th>\n",
              "      <th>노란</th>\n",
              "      <th>먹고</th>\n",
              "      <th>바나나</th>\n",
              "      <th>사과</th>\n",
              "      <th>싶은</th>\n",
              "      <th>저는</th>\n",
              "      <th>좋아요</th>\n",
              "    </tr>\n",
              "  </thead>\n",
              "  <tbody>\n",
              "    <tr>\n",
              "      <th>0</th>\n",
              "      <td>0</td>\n",
              "      <td>0</td>\n",
              "      <td>0</td>\n",
              "      <td>1</td>\n",
              "      <td>0</td>\n",
              "      <td>1</td>\n",
              "      <td>1</td>\n",
              "      <td>0</td>\n",
              "      <td>0</td>\n",
              "    </tr>\n",
              "    <tr>\n",
              "      <th>1</th>\n",
              "      <td>0</td>\n",
              "      <td>0</td>\n",
              "      <td>0</td>\n",
              "      <td>1</td>\n",
              "      <td>1</td>\n",
              "      <td>0</td>\n",
              "      <td>1</td>\n",
              "      <td>0</td>\n",
              "      <td>0</td>\n",
              "    </tr>\n",
              "    <tr>\n",
              "      <th>2</th>\n",
              "      <td>0</td>\n",
              "      <td>1</td>\n",
              "      <td>1</td>\n",
              "      <td>0</td>\n",
              "      <td>2</td>\n",
              "      <td>0</td>\n",
              "      <td>0</td>\n",
              "      <td>0</td>\n",
              "      <td>0</td>\n",
              "    </tr>\n",
              "    <tr>\n",
              "      <th>3</th>\n",
              "      <td>1</td>\n",
              "      <td>0</td>\n",
              "      <td>0</td>\n",
              "      <td>0</td>\n",
              "      <td>0</td>\n",
              "      <td>0</td>\n",
              "      <td>0</td>\n",
              "      <td>1</td>\n",
              "      <td>1</td>\n",
              "    </tr>\n",
              "  </tbody>\n",
              "</table>\n",
              "</div>"
            ],
            "text/plain": [
              "   과일이  길고  노란  먹고  바나나  사과  싶은  저는  좋아요\n",
              "0    0   0   0   1    0   1   1   0    0\n",
              "1    0   0   0   1    1   0   1   0    0\n",
              "2    0   1   1   0    2   0   0   0    0\n",
              "3    1   0   0   0    0   0   0   1    1"
            ]
          },
          "execution_count": 38,
          "metadata": {},
          "output_type": "execute_result"
        }
      ],
      "source": [
        "result = []\n",
        "\n",
        "# 각 문서에 대해서 아래 연산을 반복\n",
        "for i in range(N):\n",
        "  result.append([])\n",
        "  d = docs[i]\n",
        "  for j in range(len(vocab)):\n",
        "    t = vocab[j]\n",
        "    result[-1].append(tf(t, d))\n",
        "\n",
        "tf_ = pd.DataFrame(result, columns = vocab)\n",
        "tf_"
      ]
    },
    {
      "cell_type": "code",
      "execution_count": null,
      "metadata": {
        "ExecuteTime": {
          "end_time": "2022-06-10T05:44:49.781424Z",
          "start_time": "2022-06-10T05:44:49.760423Z"
        },
        "id": "-zkhZ_QiiWs6",
        "outputId": "f19b2060-74aa-48c7-e379-c107536ab918"
      },
      "outputs": [
        {
          "data": {
            "text/html": [
              "<div>\n",
              "<style scoped>\n",
              "    .dataframe tbody tr th:only-of-type {\n",
              "        vertical-align: middle;\n",
              "    }\n",
              "\n",
              "    .dataframe tbody tr th {\n",
              "        vertical-align: top;\n",
              "    }\n",
              "\n",
              "    .dataframe thead th {\n",
              "        text-align: right;\n",
              "    }\n",
              "</style>\n",
              "<table border=\"1\" class=\"dataframe\">\n",
              "  <thead>\n",
              "    <tr style=\"text-align: right;\">\n",
              "      <th></th>\n",
              "      <th>IDF</th>\n",
              "    </tr>\n",
              "  </thead>\n",
              "  <tbody>\n",
              "    <tr>\n",
              "      <th>과일이</th>\n",
              "      <td>0.693147</td>\n",
              "    </tr>\n",
              "    <tr>\n",
              "      <th>길고</th>\n",
              "      <td>0.693147</td>\n",
              "    </tr>\n",
              "    <tr>\n",
              "      <th>노란</th>\n",
              "      <td>0.693147</td>\n",
              "    </tr>\n",
              "    <tr>\n",
              "      <th>먹고</th>\n",
              "      <td>0.287682</td>\n",
              "    </tr>\n",
              "    <tr>\n",
              "      <th>바나나</th>\n",
              "      <td>0.287682</td>\n",
              "    </tr>\n",
              "    <tr>\n",
              "      <th>사과</th>\n",
              "      <td>0.693147</td>\n",
              "    </tr>\n",
              "    <tr>\n",
              "      <th>싶은</th>\n",
              "      <td>0.287682</td>\n",
              "    </tr>\n",
              "    <tr>\n",
              "      <th>저는</th>\n",
              "      <td>0.693147</td>\n",
              "    </tr>\n",
              "    <tr>\n",
              "      <th>좋아요</th>\n",
              "      <td>0.693147</td>\n",
              "    </tr>\n",
              "  </tbody>\n",
              "</table>\n",
              "</div>"
            ],
            "text/plain": [
              "          IDF\n",
              "과일이  0.693147\n",
              "길고   0.693147\n",
              "노란   0.693147\n",
              "먹고   0.287682\n",
              "바나나  0.287682\n",
              "사과   0.693147\n",
              "싶은   0.287682\n",
              "저는   0.693147\n",
              "좋아요  0.693147"
            ]
          },
          "execution_count": 36,
          "metadata": {},
          "output_type": "execute_result"
        }
      ],
      "source": [
        "result = []\n",
        "for j in range(len(vocab)):\n",
        "    t = vocab[j]\n",
        "    result.append(idf(t))\n",
        "\n",
        "idf_ = pd.DataFrame(result, index=vocab, columns=[\"IDF\"])\n",
        "idf_"
      ]
    },
    {
      "cell_type": "code",
      "execution_count": null,
      "metadata": {
        "ExecuteTime": {
          "end_time": "2022-06-10T05:45:01.244734Z",
          "start_time": "2022-06-10T05:45:01.230733Z"
        },
        "id": "wXwWfGeUiWs6",
        "outputId": "e7485c7b-11c3-4cc1-c479-5623255dd0c3"
      },
      "outputs": [
        {
          "data": {
            "text/html": [
              "<div>\n",
              "<style scoped>\n",
              "    .dataframe tbody tr th:only-of-type {\n",
              "        vertical-align: middle;\n",
              "    }\n",
              "\n",
              "    .dataframe tbody tr th {\n",
              "        vertical-align: top;\n",
              "    }\n",
              "\n",
              "    .dataframe thead th {\n",
              "        text-align: right;\n",
              "    }\n",
              "</style>\n",
              "<table border=\"1\" class=\"dataframe\">\n",
              "  <thead>\n",
              "    <tr style=\"text-align: right;\">\n",
              "      <th></th>\n",
              "      <th>과일이</th>\n",
              "      <th>길고</th>\n",
              "      <th>노란</th>\n",
              "      <th>먹고</th>\n",
              "      <th>바나나</th>\n",
              "      <th>사과</th>\n",
              "      <th>싶은</th>\n",
              "      <th>저는</th>\n",
              "      <th>좋아요</th>\n",
              "    </tr>\n",
              "  </thead>\n",
              "  <tbody>\n",
              "    <tr>\n",
              "      <th>0</th>\n",
              "      <td>0.000000</td>\n",
              "      <td>0.000000</td>\n",
              "      <td>0.000000</td>\n",
              "      <td>0.287682</td>\n",
              "      <td>0.000000</td>\n",
              "      <td>0.693147</td>\n",
              "      <td>0.287682</td>\n",
              "      <td>0.000000</td>\n",
              "      <td>0.000000</td>\n",
              "    </tr>\n",
              "    <tr>\n",
              "      <th>1</th>\n",
              "      <td>0.000000</td>\n",
              "      <td>0.000000</td>\n",
              "      <td>0.000000</td>\n",
              "      <td>0.287682</td>\n",
              "      <td>0.287682</td>\n",
              "      <td>0.000000</td>\n",
              "      <td>0.287682</td>\n",
              "      <td>0.000000</td>\n",
              "      <td>0.000000</td>\n",
              "    </tr>\n",
              "    <tr>\n",
              "      <th>2</th>\n",
              "      <td>0.000000</td>\n",
              "      <td>0.693147</td>\n",
              "      <td>0.693147</td>\n",
              "      <td>0.000000</td>\n",
              "      <td>0.575364</td>\n",
              "      <td>0.000000</td>\n",
              "      <td>0.000000</td>\n",
              "      <td>0.000000</td>\n",
              "      <td>0.000000</td>\n",
              "    </tr>\n",
              "    <tr>\n",
              "      <th>3</th>\n",
              "      <td>0.693147</td>\n",
              "      <td>0.000000</td>\n",
              "      <td>0.000000</td>\n",
              "      <td>0.000000</td>\n",
              "      <td>0.000000</td>\n",
              "      <td>0.000000</td>\n",
              "      <td>0.000000</td>\n",
              "      <td>0.693147</td>\n",
              "      <td>0.693147</td>\n",
              "    </tr>\n",
              "  </tbody>\n",
              "</table>\n",
              "</div>"
            ],
            "text/plain": [
              "        과일이        길고        노란        먹고       바나나        사과        싶은  \\\n",
              "0  0.000000  0.000000  0.000000  0.287682  0.000000  0.693147  0.287682   \n",
              "1  0.000000  0.000000  0.000000  0.287682  0.287682  0.000000  0.287682   \n",
              "2  0.000000  0.693147  0.693147  0.000000  0.575364  0.000000  0.000000   \n",
              "3  0.693147  0.000000  0.000000  0.000000  0.000000  0.000000  0.000000   \n",
              "\n",
              "         저는       좋아요  \n",
              "0  0.000000  0.000000  \n",
              "1  0.000000  0.000000  \n",
              "2  0.000000  0.000000  \n",
              "3  0.693147  0.693147  "
            ]
          },
          "execution_count": 37,
          "metadata": {},
          "output_type": "execute_result"
        }
      ],
      "source": [
        "result = []\n",
        "for i in range(N):\n",
        "  result.append([])\n",
        "  d = docs[i]\n",
        "  for j in range(len(vocab)):\n",
        "    t = vocab[j]\n",
        "    result[-1].append(tfidf(t,d))\n",
        "\n",
        "tfidf_ = pd.DataFrame(result, columns = vocab)\n",
        "tfidf_"
      ]
    },
    {
      "cell_type": "markdown",
      "metadata": {
        "id": "lPrMlNvYiWs7"
      },
      "source": [
        "### 사이킷런을 이용한 DTM과 TF-IDF 실습"
      ]
    },
    {
      "cell_type": "code",
      "execution_count": null,
      "metadata": {
        "ExecuteTime": {
          "end_time": "2022-06-10T05:48:10.762356Z",
          "start_time": "2022-06-10T05:48:10.749358Z"
        },
        "id": "7FCTrsWiiWs7",
        "outputId": "e35bdbe1-8ce5-454b-c978-d55ddd97831f"
      },
      "outputs": [
        {
          "name": "stdout",
          "output_type": "stream",
          "text": [
            "[[0 1 0 1 0 1 0 1 1]\n",
            " [0 0 1 0 0 0 0 1 0]\n",
            " [1 0 0 0 1 0 1 0 0]]\n",
            "{'you': 7, 'know': 1, 'want': 5, 'your': 8, 'love': 3, 'like': 2, 'what': 6, 'should': 4, 'do': 0}\n"
          ]
        }
      ],
      "source": [
        "from sklearn.feature_extraction.text import CountVectorizer\n",
        "\n",
        "corpus = [\n",
        "    'you know I want your love',\n",
        "    'I like you',\n",
        "    'what should I do ',    \n",
        "]\n",
        "\n",
        "vector = CountVectorizer()\n",
        "\n",
        "# 코퍼스로부터 각 단어의 빈도수를 기록\n",
        "print(vector.fit_transform(corpus).toarray())\n",
        "\n",
        "# 각 단어와 맵핑된 인덱스 출력\n",
        "print(vector.vocabulary_)"
      ]
    },
    {
      "cell_type": "code",
      "execution_count": null,
      "metadata": {
        "ExecuteTime": {
          "end_time": "2022-06-10T05:48:32.634133Z",
          "start_time": "2022-06-10T05:48:32.625134Z"
        },
        "id": "X1JxVAkMiWs7",
        "outputId": "19f59817-d5d4-44e6-b773-7a5c21109f26"
      },
      "outputs": [
        {
          "name": "stdout",
          "output_type": "stream",
          "text": [
            "[[0.         0.46735098 0.         0.46735098 0.         0.46735098\n",
            "  0.         0.35543247 0.46735098]\n",
            " [0.         0.         0.79596054 0.         0.         0.\n",
            "  0.         0.60534851 0.        ]\n",
            " [0.57735027 0.         0.         0.         0.57735027 0.\n",
            "  0.57735027 0.         0.        ]]\n",
            "{'you': 7, 'know': 1, 'want': 5, 'your': 8, 'love': 3, 'like': 2, 'what': 6, 'should': 4, 'do': 0}\n"
          ]
        }
      ],
      "source": [
        "from sklearn.feature_extraction.text import TfidfVectorizer\n",
        "\n",
        "corpus = [\n",
        "    'you know I want your love',\n",
        "    'I like you',\n",
        "    'what should I do ',    \n",
        "]\n",
        "\n",
        "tfidfv = TfidfVectorizer().fit(corpus)\n",
        "print(tfidfv.transform(corpus).toarray())\n",
        "print(tfidfv.vocabulary_)"
      ]
    },
    {
      "cell_type": "markdown",
      "metadata": {
        "id": "FfK04jQiiWs7"
      },
      "source": [
        "# 벡터의 유사도(Vector Similarity)\n",
        "## 코사인 유사도(Cosine Similarity)\n",
        "![cosine유사도.PNG](data:image/png;base64,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)\n",
        "\n",
        "- "
      ]
    },
    {
      "cell_type": "code",
      "execution_count": null,
      "metadata": {
        "ExecuteTime": {
          "end_time": "2022-06-10T11:44:56.921263Z",
          "start_time": "2022-06-10T11:44:56.905266Z"
        },
        "id": "_a3wv9gGiWs8",
        "outputId": "7be1c068-110e-4cc0-b4e1-d483fbab8e77"
      },
      "outputs": [
        {
          "name": "stdout",
          "output_type": "stream",
          "text": [
            "문서 1과 문서2의 유사도 : 0.6666666666666667\n",
            "문서 1과 문서3의 유사도 : 0.6666666666666667\n",
            "문서 2와 문서3의 유사도 : 1.0000000000000002\n"
          ]
        }
      ],
      "source": [
        "import numpy as np\n",
        "from numpy import dot\n",
        "from numpy.linalg import norm\n",
        "\n",
        "def cos_sim(A, B):\n",
        "  return dot(A, B)/(norm(A)*norm(B))\n",
        "\n",
        "doc1 = np.array([0,1,1,1])\n",
        "doc2 = np.array([1,0,1,1])\n",
        "doc3 = np.array([2,0,2,2])\n",
        "\n",
        "print('문서 1과 문서2의 유사도 :',cos_sim(doc1, doc2))\n",
        "print('문서 1과 문서3의 유사도 :',cos_sim(doc1, doc3))\n",
        "print('문서 2와 문서3의 유사도 :',cos_sim(doc2, doc3))"
      ]
    },
    {
      "cell_type": "markdown",
      "metadata": {
        "id": "5PewEqn0iWs8"
      },
      "source": [
        "- 유클리드 거리로 유사도를 연산하면 문서 1과 문서3 > 문서 2와 문서 3"
      ]
    },
    {
      "cell_type": "code",
      "execution_count": null,
      "metadata": {
        "ExecuteTime": {
          "end_time": "2022-06-10T11:50:01.913792Z",
          "start_time": "2022-06-10T11:50:01.903796Z"
        },
        "id": "hUV38aEhiWs8"
      },
      "outputs": [],
      "source": [
        "def euclidean_distance(A, B):   \n",
        "    return np.sqrt(np.sum((A-B)**2))"
      ]
    },
    {
      "cell_type": "code",
      "execution_count": null,
      "metadata": {
        "ExecuteTime": {
          "end_time": "2022-06-10T11:50:30.460737Z",
          "start_time": "2022-06-10T11:50:30.454741Z"
        },
        "id": "uOCfK3TOiWs8",
        "outputId": "84bc0716-aa9a-4d6b-ebb6-afdd7a5a9f2b"
      },
      "outputs": [
        {
          "name": "stdout",
          "output_type": "stream",
          "text": [
            "1. 문서1-문서2 간 유사도: 1.4142135623730951\n",
            "2. 문서1-문서3 간 유사도: 2.6457513110645907\n",
            "3. 문서2-문서3 간 유사도: 1.7320508075688772\n"
          ]
        }
      ],
      "source": [
        "print(f\"1. 문서1-문서2 간 유사도: {euclidean_distance(doc1, doc2)}\")\n",
        "print(f\"2. 문서1-문서3 간 유사도: {euclidean_distance(doc1, doc3)}\")\n",
        "print(f\"3. 문서2-문서3 간 유사도: {euclidean_distance(doc2, doc3)}\")"
      ]
    },
    {
      "cell_type": "markdown",
      "metadata": {
        "id": "z-cI4DvmiWs8"
      },
      "source": [
        "## 유사도를 이용한 추천 시스템 구현하기\n",
        "- 다운로드 링크 : https://www.kaggle.com/rounakbanik/the-movies-dataset"
      ]
    },
    {
      "cell_type": "code",
      "execution_count": null,
      "metadata": {
        "ExecuteTime": {
          "end_time": "2022-06-10T11:58:18.800686Z",
          "start_time": "2022-06-10T11:58:18.681677Z"
        },
        "id": "urfotEzGiWs9",
        "outputId": "234dbf59-7b6e-4f60-c1b4-b83da4c0765d"
      },
      "outputs": [
        {
          "data": {
            "text/html": [
              "<div>\n",
              "<style scoped>\n",
              "    .dataframe tbody tr th:only-of-type {\n",
              "        vertical-align: middle;\n",
              "    }\n",
              "\n",
              "    .dataframe tbody tr th {\n",
              "        vertical-align: top;\n",
              "    }\n",
              "\n",
              "    .dataframe thead th {\n",
              "        text-align: right;\n",
              "    }\n",
              "</style>\n",
              "<table border=\"1\" class=\"dataframe\">\n",
              "  <thead>\n",
              "    <tr style=\"text-align: right;\">\n",
              "      <th></th>\n",
              "      <th>Unnamed: 0</th>\n",
              "      <th>budget</th>\n",
              "      <th>genres</th>\n",
              "      <th>homepage</th>\n",
              "      <th>id</th>\n",
              "      <th>plot_keywords</th>\n",
              "      <th>language</th>\n",
              "      <th>original_title</th>\n",
              "      <th>overview</th>\n",
              "      <th>popularity</th>\n",
              "      <th>...</th>\n",
              "      <th>tagline</th>\n",
              "      <th>movie_title</th>\n",
              "      <th>vote_average</th>\n",
              "      <th>num_voted_users</th>\n",
              "      <th>title_year</th>\n",
              "      <th>country</th>\n",
              "      <th>director_name</th>\n",
              "      <th>actor_1_name</th>\n",
              "      <th>actor_2_name</th>\n",
              "      <th>actor_3_name</th>\n",
              "    </tr>\n",
              "  </thead>\n",
              "  <tbody>\n",
              "    <tr>\n",
              "      <th>0</th>\n",
              "      <td>0</td>\n",
              "      <td>237000000</td>\n",
              "      <td>Action|Adventure|Fantasy|Science Fiction</td>\n",
              "      <td>http://www.avatarmovie.com/</td>\n",
              "      <td>19995</td>\n",
              "      <td>culture clash|future|space war|space colony|so...</td>\n",
              "      <td>English</td>\n",
              "      <td>Avatar</td>\n",
              "      <td>In the 22nd century, a paraplegic Marine is di...</td>\n",
              "      <td>150.437577</td>\n",
              "      <td>...</td>\n",
              "      <td>Enter the World of Pandora.</td>\n",
              "      <td>Avatar</td>\n",
              "      <td>7.2</td>\n",
              "      <td>11800</td>\n",
              "      <td>2009.0</td>\n",
              "      <td>United States of America</td>\n",
              "      <td>James Cameron</td>\n",
              "      <td>Zoe Saldana</td>\n",
              "      <td>Sigourney Weaver</td>\n",
              "      <td>Stephen Lang</td>\n",
              "    </tr>\n",
              "    <tr>\n",
              "      <th>1</th>\n",
              "      <td>1</td>\n",
              "      <td>300000000</td>\n",
              "      <td>Adventure|Fantasy|Action</td>\n",
              "      <td>http://disney.go.com/disneypictures/pirates/</td>\n",
              "      <td>285</td>\n",
              "      <td>ocean|drug abuse|exotic island|east india trad...</td>\n",
              "      <td>English</td>\n",
              "      <td>Pirates of the Caribbean: At World's End</td>\n",
              "      <td>Captain Barbossa, long believed to be dead, ha...</td>\n",
              "      <td>139.082615</td>\n",
              "      <td>...</td>\n",
              "      <td>At the end of the world, the adventure begins.</td>\n",
              "      <td>Pirates of the Caribbean: At World's End</td>\n",
              "      <td>6.9</td>\n",
              "      <td>4500</td>\n",
              "      <td>2007.0</td>\n",
              "      <td>United States of America</td>\n",
              "      <td>Gore Verbinski</td>\n",
              "      <td>Orlando Bloom</td>\n",
              "      <td>Keira Knightley</td>\n",
              "      <td>Stellan Skarsgård</td>\n",
              "    </tr>\n",
              "  </tbody>\n",
              "</table>\n",
              "<p>2 rows × 27 columns</p>\n",
              "</div>"
            ],
            "text/plain": [
              "   Unnamed: 0     budget                                    genres  \\\n",
              "0           0  237000000  Action|Adventure|Fantasy|Science Fiction   \n",
              "1           1  300000000                  Adventure|Fantasy|Action   \n",
              "\n",
              "                                       homepage     id  \\\n",
              "0                   http://www.avatarmovie.com/  19995   \n",
              "1  http://disney.go.com/disneypictures/pirates/    285   \n",
              "\n",
              "                                       plot_keywords language  \\\n",
              "0  culture clash|future|space war|space colony|so...  English   \n",
              "1  ocean|drug abuse|exotic island|east india trad...  English   \n",
              "\n",
              "                             original_title  \\\n",
              "0                                    Avatar   \n",
              "1  Pirates of the Caribbean: At World's End   \n",
              "\n",
              "                                            overview  popularity  ...  \\\n",
              "0  In the 22nd century, a paraplegic Marine is di...  150.437577  ...   \n",
              "1  Captain Barbossa, long believed to be dead, ha...  139.082615  ...   \n",
              "\n",
              "                                          tagline  \\\n",
              "0                     Enter the World of Pandora.   \n",
              "1  At the end of the world, the adventure begins.   \n",
              "\n",
              "                                movie_title vote_average  num_voted_users  \\\n",
              "0                                    Avatar          7.2            11800   \n",
              "1  Pirates of the Caribbean: At World's End          6.9             4500   \n",
              "\n",
              "   title_year                   country   director_name   actor_1_name  \\\n",
              "0      2009.0  United States of America   James Cameron    Zoe Saldana   \n",
              "1      2007.0  United States of America  Gore Verbinski  Orlando Bloom   \n",
              "\n",
              "       actor_2_name       actor_3_name  \n",
              "0  Sigourney Weaver       Stephen Lang  \n",
              "1   Keira Knightley  Stellan Skarsgård  \n",
              "\n",
              "[2 rows x 27 columns]"
            ]
          },
          "execution_count": 44,
          "metadata": {},
          "output_type": "execute_result"
        }
      ],
      "source": [
        "import pandas as pd\n",
        "from sklearn.feature_extraction.text import TfidfVectorizer\n",
        "from sklearn.metrics.pairwise import cosine_similarity\n",
        "\n",
        "data = pd.read_csv('movies_metadata.csv', low_memory=False)\n",
        "data.head(2)"
      ]
    },
    {
      "cell_type": "code",
      "execution_count": null,
      "metadata": {
        "ExecuteTime": {
          "end_time": "2022-06-10T11:58:53.245746Z",
          "start_time": "2022-06-10T11:58:53.235742Z"
        },
        "id": "lAkidU92iWs9"
      },
      "outputs": [],
      "source": [
        "# 상위 2만개의 샘플을 data에 저장\n",
        "data = data.head(20000)"
      ]
    },
    {
      "cell_type": "code",
      "execution_count": null,
      "metadata": {
        "ExecuteTime": {
          "end_time": "2022-06-10T11:59:21.447837Z",
          "start_time": "2022-06-10T11:59:21.433841Z"
        },
        "id": "ASDc0QDViWs9",
        "outputId": "0a9b3254-f688-4e38-b000-c3dc234bf31f"
      },
      "outputs": [
        {
          "name": "stdout",
          "output_type": "stream",
          "text": [
            "overview 열의 결측값의 수: 3\n"
          ]
        }
      ],
      "source": [
        "# overview 열에 존재하는 모든 결측값을 전부 카운트하여 출력\n",
        "print('overview 열의 결측값의 수:',data['overview'].isnull().sum())"
      ]
    },
    {
      "cell_type": "code",
      "execution_count": null,
      "metadata": {
        "ExecuteTime": {
          "end_time": "2022-06-10T11:59:34.681895Z",
          "start_time": "2022-06-10T11:59:34.669896Z"
        },
        "id": "CIR3RJAWiWs9"
      },
      "outputs": [],
      "source": [
        "# 결측값을 빈 값으로 대체\n",
        "data['overview'] = data['overview'].fillna('')"
      ]
    },
    {
      "cell_type": "code",
      "execution_count": null,
      "metadata": {
        "ExecuteTime": {
          "end_time": "2022-06-10T11:59:55.272925Z",
          "start_time": "2022-06-10T11:59:55.049874Z"
        },
        "id": "rFIFGhbEiWs-",
        "outputId": "712995eb-d60b-4f7c-80ec-842da21f9642"
      },
      "outputs": [
        {
          "name": "stdout",
          "output_type": "stream",
          "text": [
            "TF-IDF 행렬의 크기(shape) : (4803, 20978)\n"
          ]
        }
      ],
      "source": [
        "tfidf = TfidfVectorizer(stop_words='english')\n",
        "tfidf_matrix = tfidf.fit_transform(data['overview'])\n",
        "print('TF-IDF 행렬의 크기(shape) :',tfidf_matrix.shape)"
      ]
    },
    {
      "cell_type": "code",
      "execution_count": null,
      "metadata": {
        "ExecuteTime": {
          "end_time": "2022-06-10T12:00:45.741531Z",
          "start_time": "2022-06-10T12:00:45.578346Z"
        },
        "id": "vRayvFc0iWs-",
        "outputId": "269b56cc-3fc2-4902-f3f7-2cdaea1c6681"
      },
      "outputs": [
        {
          "name": "stdout",
          "output_type": "stream",
          "text": [
            "코사인 유사도 연산 결과 : (4803, 4803)\n"
          ]
        }
      ],
      "source": [
        "cosine_sim = cosine_similarity(tfidf_matrix, tfidf_matrix)\n",
        "print('코사인 유사도 연산 결과 :',cosine_sim.shape)"
      ]
    },
    {
      "cell_type": "code",
      "execution_count": null,
      "metadata": {
        "ExecuteTime": {
          "end_time": "2022-06-10T12:02:58.941694Z",
          "start_time": "2022-06-10T12:02:58.927697Z"
        },
        "id": "ChME-Ll0iWs-",
        "outputId": "e81701ef-d2f3-49f3-d4e2-a1d0ded6d33a"
      },
      "outputs": [
        {
          "name": "stdout",
          "output_type": "stream",
          "text": [
            "1\n"
          ]
        }
      ],
      "source": [
        "title_to_index = dict(zip(data['movie_title'], data.index))\n",
        "\n",
        "# 영화 제목 Father of the Bride Part II의 인덱스를 리턴\n",
        "idx = title_to_index[\"Pirates of the Caribbean: At World's End\"]\n",
        "print(idx)"
      ]
    },
    {
      "cell_type": "code",
      "execution_count": null,
      "metadata": {
        "ExecuteTime": {
          "end_time": "2022-06-10T12:04:45.384083Z",
          "start_time": "2022-06-10T12:04:45.374085Z"
        },
        "id": "T63FyqXriWs-"
      },
      "outputs": [],
      "source": [
        "def get_recommendations(title, cosine_sim=cosine_sim):\n",
        "    # 선택한 영화의 타이틀로부터 해당 영화의 인덱스를 받아온다.\n",
        "    idx = title_to_index[title]\n",
        "\n",
        "    # 해당 영화와 모든 영화와의 유사도를 가져온다.\n",
        "    sim_scores = list(enumerate(cosine_sim[idx]))\n",
        "\n",
        "    # 유사도에 따라 영화들을 정렬한다.\n",
        "    sim_scores = sorted(sim_scores, key=lambda x: x[1], reverse=True)\n",
        "\n",
        "    # 가장 유사한 10개의 영화를 받아온다.\n",
        "    sim_scores = sim_scores[1:11]\n",
        "\n",
        "    # 가장 유사한 10개의 영화의 인덱스를 얻는다.\n",
        "    movie_indices = [idx[0] for idx in sim_scores]\n",
        "\n",
        "    # 가장 유사한 10개의 영화의 제목을 리턴한다.\n",
        "    return data['movie_title'].iloc[movie_indices]"
      ]
    },
    {
      "cell_type": "code",
      "execution_count": null,
      "metadata": {
        "ExecuteTime": {
          "end_time": "2022-06-10T12:04:46.120225Z",
          "start_time": "2022-06-10T12:04:46.111229Z"
        },
        "id": "fqgQVgH6iWs-",
        "outputId": "d905c2b9-548f-4582-cc76-d251ce7ad3af"
      },
      "outputs": [
        {
          "data": {
            "text/plain": [
              "65                              The Dark Knight\n",
              "299                              Batman Forever\n",
              "428                              Batman Returns\n",
              "1359                                     Batman\n",
              "3854    Batman: The Dark Knight Returns, Part 2\n",
              "119                               Batman Begins\n",
              "2507                                  Slow Burn\n",
              "9            Batman v Superman: Dawn of Justice\n",
              "1181                                        JFK\n",
              "210                              Batman & Robin\n",
              "Name: movie_title, dtype: object"
            ]
          },
          "execution_count": 59,
          "metadata": {},
          "output_type": "execute_result"
        }
      ],
      "source": [
        "get_recommendations('The Dark Knight Rises')"
      ]
    },
    {
      "cell_type": "markdown",
      "metadata": {
        "id": "20ZYAXW0iWs_"
      },
      "source": [
        "## 유클리드 거리(Euclidean distance)\n",
        "![유클리드거리](유클리드거리.PNG)\n",
        "![2차원_유클리드거리](2차원_유클리드거리.PNG)"
      ]
    },
    {
      "cell_type": "code",
      "execution_count": null,
      "metadata": {
        "ExecuteTime": {
          "end_time": "2022-06-10T12:08:40.640497Z",
          "start_time": "2022-06-10T12:08:40.620500Z"
        },
        "id": "2yE99QrNiWs_",
        "outputId": "0f86d229-1d94-4b03-d0b3-b47b9b3e5100"
      },
      "outputs": [
        {
          "name": "stdout",
          "output_type": "stream",
          "text": [
            "문서1과 문서Q의 거리 : 2.23606797749979\n",
            "문서2과 문서Q의 거리 : 3.1622776601683795\n",
            "문서3과 문서Q의 거리 : 2.449489742783178\n"
          ]
        }
      ],
      "source": [
        "import numpy as np\n",
        "\n",
        "def dist(x,y):   \n",
        "    return np.sqrt(np.sum((x-y)**2))\n",
        "\n",
        "doc1 = np.array((2,3,0,1))\n",
        "doc2 = np.array((1,2,3,1))\n",
        "doc3 = np.array((2,1,2,2))\n",
        "docQ = np.array((1,1,0,1))\n",
        "\n",
        "print('문서1과 문서Q의 거리 :',dist(doc1,docQ))\n",
        "print('문서2과 문서Q의 거리 :',dist(doc2,docQ))\n",
        "print('문서3과 문서Q의 거리 :',dist(doc3,docQ))"
      ]
    },
    {
      "cell_type": "markdown",
      "metadata": {
        "id": "IOP2yoQkiWs_"
      },
      "source": [
        "## 자카드 유사도(Jaccard similarity)\n",
        "![자카드유사도](자카드유사도.PNG)"
      ]
    },
    {
      "cell_type": "code",
      "execution_count": null,
      "metadata": {
        "ExecuteTime": {
          "end_time": "2022-06-10T12:10:19.497856Z",
          "start_time": "2022-06-10T12:10:19.491860Z"
        },
        "id": "SwQ-mQpWiWs_",
        "outputId": "6cf295d1-c521-48da-c2d1-e81a16159638"
      },
      "outputs": [
        {
          "name": "stdout",
          "output_type": "stream",
          "text": [
            "문서1 : ['apple', 'banana', 'everyone', 'like', 'likey', 'watch', 'card', 'holder']\n",
            "문서2 : ['apple', 'banana', 'coupon', 'passport', 'love', 'you']\n"
          ]
        }
      ],
      "source": [
        "doc1 = \"apple banana everyone like likey watch card holder\"\n",
        "doc2 = \"apple banana coupon passport love you\"\n",
        "\n",
        "# 토큰화\n",
        "tokenized_doc1 = doc1.split()\n",
        "tokenized_doc2 = doc2.split()\n",
        "\n",
        "print('문서1 :',tokenized_doc1)\n",
        "print('문서2 :',tokenized_doc2)"
      ]
    },
    {
      "cell_type": "code",
      "execution_count": null,
      "metadata": {
        "ExecuteTime": {
          "end_time": "2022-06-10T12:10:28.367777Z",
          "start_time": "2022-06-10T12:10:28.355920Z"
        },
        "id": "dZ5v6ekkiWs_",
        "outputId": "f1df9e63-4f3d-4842-c3c5-411865890510"
      },
      "outputs": [
        {
          "name": "stdout",
          "output_type": "stream",
          "text": [
            "문서1과 문서2의 합집합 : {'love', 'banana', 'passport', 'card', 'apple', 'like', 'everyone', 'likey', 'you', 'holder', 'watch', 'coupon'}\n"
          ]
        }
      ],
      "source": [
        "union = set(tokenized_doc1).union(set(tokenized_doc2))\n",
        "print('문서1과 문서2의 합집합 :',union)"
      ]
    },
    {
      "cell_type": "code",
      "execution_count": null,
      "metadata": {
        "ExecuteTime": {
          "end_time": "2022-06-10T12:10:52.461185Z",
          "start_time": "2022-06-10T12:10:52.451189Z"
        },
        "id": "xh8O0AkBiWtA",
        "outputId": "aaf2c0ed-aeec-4ef5-e6f5-fcbf8a6dbadb"
      },
      "outputs": [
        {
          "name": "stdout",
          "output_type": "stream",
          "text": [
            "문서1과 문서2의 교집합 : {'apple', 'banana'}\n"
          ]
        }
      ],
      "source": [
        "intersection = set(tokenized_doc1).intersection(set(tokenized_doc2))\n",
        "print('문서1과 문서2의 교집합 :',intersection)"
      ]
    },
    {
      "cell_type": "code",
      "execution_count": null,
      "metadata": {
        "ExecuteTime": {
          "end_time": "2022-06-10T12:11:02.408309Z",
          "start_time": "2022-06-10T12:11:02.403309Z"
        },
        "id": "YDMpdYbOiWtA",
        "outputId": "322e2539-d7b5-4212-fee0-d269d9ffb53f"
      },
      "outputs": [
        {
          "name": "stdout",
          "output_type": "stream",
          "text": [
            "자카드 유사도 : 0.16666666666666666\n"
          ]
        }
      ],
      "source": [
        "print('자카드 유사도 :',len(intersection)/len(union))"
      ]
    },
    {
      "cell_type": "code",
      "execution_count": null,
      "metadata": {
        "id": "9U5qNGNYiWtA"
      },
      "outputs": [],
      "source": [
        ""
      ]
    }
  ],
  "metadata": {
    "colab": {
      "collapsed_sections": [],
      "name": "언어모델.ipynb",
      "provenance": [],
      "include_colab_link": true
    },
    "hide_input": false,
    "kernelspec": {
      "display_name": "Python 3 (ipykernel)",
      "language": "python",
      "name": "python3"
    },
    "language_info": {
      "codemirror_mode": {
        "name": "ipython",
        "version": 3
      },
      "file_extension": ".py",
      "mimetype": "text/x-python",
      "name": "python",
      "nbconvert_exporter": "python",
      "pygments_lexer": "ipython3",
      "version": "3.8.10"
    },
    "toc": {
      "base_numbering": 1,
      "nav_menu": {},
      "number_sections": true,
      "sideBar": true,
      "skip_h1_title": false,
      "title_cell": "Table of Contents",
      "title_sidebar": "Contents",
      "toc_cell": false,
      "toc_position": {},
      "toc_section_display": true,
      "toc_window_display": false
    },
    "varInspector": {
      "cols": {
        "lenName": 16,
        "lenType": 16,
        "lenVar": 40
      },
      "kernels_config": {
        "python": {
          "delete_cmd_postfix": "",
          "delete_cmd_prefix": "del ",
          "library": "var_list.py",
          "varRefreshCmd": "print(var_dic_list())"
        },
        "r": {
          "delete_cmd_postfix": ") ",
          "delete_cmd_prefix": "rm(",
          "library": "var_list.r",
          "varRefreshCmd": "cat(var_dic_list()) "
        }
      },
      "types_to_exclude": [
        "module",
        "function",
        "builtin_function_or_method",
        "instance",
        "_Feature"
      ],
      "window_display": false
    }
  },
  "nbformat": 4,
  "nbformat_minor": 0
}