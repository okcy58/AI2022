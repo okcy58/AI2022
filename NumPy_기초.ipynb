{
  "cells": [
    {
      "cell_type": "markdown",
      "metadata": {
        "id": "view-in-github",
        "colab_type": "text"
      },
      "source": [
        "<a href=\"https://colab.research.google.com/github/okcy58/AI2022/blob/main/NumPy_%EA%B8%B0%EC%B4%88.ipynb\" target=\"_parent\"><img src=\"https://colab.research.google.com/assets/colab-badge.svg\" alt=\"Open In Colab\"/></a>"
      ]
    },
    {
      "cell_type": "markdown",
      "metadata": {
        "id": "sLV8723vrjMl"
      },
      "source": [
        "# NumPy: Numerical Python\n",
        "\n",
        "- 빠르고 메모리를 효율적으로 사용하여 벡터 산술연산과 브로드캐스팅 기능을 제외하는 다차원배열 ndarray\n",
        "- 반복문을 작성할 필요없이 전체 데이터배열에 대해 빠른 연산을 제공하는 표준 수학함수\n",
        "- 배열데이터를 디스크에 쓰거나 읽을 수 있는 도구, 메모리에 올려진 파일을 사용하는 도구\n",
        "- 선형대수, 난수발생기, 푸리에 변환 기능\n",
        "- C, C++, 포트란으로 쓰여진 코드를 통합하는 도구\n",
        "\n",
        "> - https://docs.scipy.org/doc/numpy/user/index.html\n",
        "> - http://www.scipy-lectures.org/\n",
        "> - Python for Data Analysis, Wes Mckinney, 한빛미디어, CH.4, CH.12"
      ]
    },
    {
      "cell_type": "markdown",
      "metadata": {
        "id": "uOx9e7eQrjMo"
      },
      "source": [
        "## 파이썬 list와 numpy 배열의 연산 시간 비교\n",
        "- 파이썬 list를 이용한 벡터 덧셈: for 문을 사용하여 요소간 덧셈\n",
        "- numpy : 배열을 사용"
      ]
    },
    {
      "cell_type": "code",
      "execution_count": null,
      "metadata": {
        "id": "YEURIaz_rjMp"
      },
      "outputs": [],
      "source": [
        "import sys\n",
        "from datetime import datetime\n",
        "import numpy as np\n",
        "\n",
        "def numpysum(n):\n",
        "   a = np.arange(n) * 1\n",
        "   b = np.arange(n) * 2\n",
        "   c = a + b\n",
        "\n",
        "   return c\n",
        "\n",
        "def pythonsum(n):\n",
        "   a = list(range(n))\n",
        "   b = list(range(n))\n",
        "   c = []\n",
        "\n",
        "   for i in range(len(a)):\n",
        "       a[i] = i * 1\n",
        "       b[i] = i * 2\n",
        "       c.append(a[i] + b[i])\n",
        "\n",
        "   return c"
      ]
    },
    {
      "cell_type": "code",
      "execution_count": null,
      "metadata": {
        "colab": {
          "base_uri": "https://localhost:8080/"
        },
        "id": "NcKfMe4hrjMq",
        "outputId": "3f63a6ca-bb39-42ae-d2ca-a342471c3dc3"
      },
      "outputs": [
        {
          "output_type": "stream",
          "name": "stdout",
          "text": [
            "The last 2 elements of the sum [2999994, 2999997]\n",
            "PythonSum elapsed time in microseconds 426048\n",
            "\n",
            "The last 2 elements of the sum [2999994 2999997]\n",
            "NumPySum elapsed time in microseconds 17742\n"
          ]
        }
      ],
      "source": [
        "size = 1000000\n",
        "\n",
        "start = datetime.now()\n",
        "c = pythonsum(size)\n",
        "delta = datetime.now() - start\n",
        "print(\"The last 2 elements of the sum\", c[-2:])\n",
        "print(\"PythonSum elapsed time in microseconds\", delta.microseconds)\n",
        "print()\n",
        "\n",
        "start = datetime.now()\n",
        "c = numpysum(size)\n",
        "delta = datetime.now() - start\n",
        "print(\"The last 2 elements of the sum\", c[-2:])\n",
        "print(\"NumPySum elapsed time in microseconds\", delta.microseconds)"
      ]
    },
    {
      "cell_type": "markdown",
      "metadata": {
        "id": "yVDn768NrjMr"
      },
      "source": [
        "### 데이터분석 app.에서 요구되는 기능\n",
        "- 빠른 vector 배열에 대한 연산: data 개조(munging), 정제(cleaning), 부분집합(subsetting), filtering, 변형(transformation)\n",
        "- 공통배열 알고리듬: sorting, unique, set operation\n",
        "- 효과적인 기술통계와 데이터 수집/요약\n",
        "- 데이터 alignment와 관계 조작: 이질적 데이터의 merging과 joining\n",
        "- 배열 표현으로 조건절 logic 표현\n",
        "- group 데이터 조작=> pandas"
      ]
    },
    {
      "cell_type": "markdown",
      "metadata": {
        "id": "9qwYHsTlrjMr"
      },
      "source": [
        "## 1. NumPy ndarray: 다차원 배열 객체\n",
        "\n",
        "- 모든 원소는 같은 자료형\n",
        "- vector 요소 전체에 대한 연산 적용"
      ]
    },
    {
      "cell_type": "code",
      "execution_count": null,
      "metadata": {
        "id": "M6rfxtHurjMs"
      },
      "outputs": [],
      "source": [
        "import numpy as np"
      ]
    },
    {
      "cell_type": "code",
      "execution_count": null,
      "metadata": {
        "colab": {
          "base_uri": "https://localhost:8080/"
        },
        "id": "plAEbaBkrjMs",
        "outputId": "08901dd4-6287-48db-f1b0-675ad586b3fc"
      },
      "outputs": [
        {
          "output_type": "execute_result",
          "data": {
            "text/plain": [
              "array([[ 0.9526, -0.246 , -0.8856],\n",
              "       [ 0.5639,  0.2379,  0.9104]])"
            ]
          },
          "metadata": {},
          "execution_count": 9
        }
      ],
      "source": [
        "data=np.array([[0.9526, -0.246, -0.8856],[0.5639,0.2379,0.9104]])\n",
        "data"
      ]
    },
    {
      "cell_type": "code",
      "execution_count": null,
      "metadata": {
        "colab": {
          "base_uri": "https://localhost:8080/"
        },
        "id": "3fccZf62rjMt",
        "outputId": "42da526c-5624-4d82-d20e-7989d8fe0e50"
      },
      "outputs": [
        {
          "output_type": "execute_result",
          "data": {
            "text/plain": [
              "array([[ 9.526, -2.46 , -8.856],\n",
              "       [ 5.639,  2.379,  9.104]])"
            ]
          },
          "metadata": {},
          "execution_count": 10
        }
      ],
      "source": [
        "data * 10"
      ]
    },
    {
      "cell_type": "code",
      "execution_count": null,
      "metadata": {
        "colab": {
          "base_uri": "https://localhost:8080/"
        },
        "id": "899TzQxyrjMt",
        "outputId": "8694b00e-e19a-48fa-c1aa-59c60cacc634"
      },
      "outputs": [
        {
          "output_type": "execute_result",
          "data": {
            "text/plain": [
              "array([[ 1.9052, -0.492 , -1.7712],\n",
              "       [ 1.1278,  0.4758,  1.8208]])"
            ]
          },
          "metadata": {},
          "execution_count": 11
        }
      ],
      "source": [
        "data + data"
      ]
    },
    {
      "cell_type": "markdown",
      "metadata": {
        "id": "NaftEFUCrjMu"
      },
      "source": [
        "![p354.PNG](data:image/png;base64,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)\n",
        "- shape 튜플: 각 차원의 크기\n",
        "- dtype 객체: 배열의 자료형 (자료형이 명시되지 않으면 float64)\n",
        "- ndim: Number of array dimensions\n",
        "- stride: 하나의 원소에서 다음 원소까지의 너비를 표현\n",
        "    - 3x4x5 크기의 float64(8bytes) 배열의 stride (160,40,8)\n",
        "    - 4x5 x 8 = 160\n",
        "    - 5 x 8 = 40\n",
        "    - 8"
      ]
    },
    {
      "cell_type": "code",
      "execution_count": null,
      "metadata": {
        "colab": {
          "base_uri": "https://localhost:8080/"
        },
        "id": "UVecZ3WZrjMu",
        "outputId": "564ad68c-7841-4a17-f853-db1d47c98b06"
      },
      "outputs": [
        {
          "output_type": "execute_result",
          "data": {
            "text/plain": [
              "(2, 3)"
            ]
          },
          "metadata": {},
          "execution_count": 12
        }
      ],
      "source": [
        "data.shape"
      ]
    },
    {
      "cell_type": "code",
      "execution_count": null,
      "metadata": {
        "colab": {
          "base_uri": "https://localhost:8080/"
        },
        "id": "Q2_ABC5WrjMu",
        "outputId": "ab5431fb-e038-41dc-fde8-4cc4b4ffb7b2"
      },
      "outputs": [
        {
          "output_type": "execute_result",
          "data": {
            "text/plain": [
              "dtype('float64')"
            ]
          },
          "metadata": {},
          "execution_count": 13
        }
      ],
      "source": [
        "data.dtype"
      ]
    },
    {
      "cell_type": "code",
      "execution_count": null,
      "metadata": {
        "colab": {
          "base_uri": "https://localhost:8080/"
        },
        "id": "crrhDuxArjMu",
        "outputId": "f38aaa07-e1fc-4aaf-f407-b08a851c2237"
      },
      "outputs": [
        {
          "output_type": "execute_result",
          "data": {
            "text/plain": [
              "2"
            ]
          },
          "metadata": {},
          "execution_count": 14
        }
      ],
      "source": [
        "data.ndim"
      ]
    },
    {
      "cell_type": "code",
      "execution_count": null,
      "metadata": {
        "colab": {
          "base_uri": "https://localhost:8080/"
        },
        "id": "rHfyxUpzrjMv",
        "outputId": "2e2d2a75-3d0f-461a-d84c-7aee97713626"
      },
      "outputs": [
        {
          "output_type": "execute_result",
          "data": {
            "text/plain": [
              "(24, 8)"
            ]
          },
          "metadata": {},
          "execution_count": 15
        }
      ],
      "source": [
        "data.strides"
      ]
    },
    {
      "cell_type": "markdown",
      "metadata": {
        "id": "JJKf3BTxrjMv"
      },
      "source": [
        "### 1.1 ndarray 생성: array 함수"
      ]
    },
    {
      "cell_type": "code",
      "execution_count": null,
      "metadata": {
        "id": "Jd2rQaVqrjMv"
      },
      "outputs": [],
      "source": [
        "data1 = [6, 7.5, 8, 0, 1]\n",
        "arr1 = np.array(data1)\n",
        "arr1"
      ]
    },
    {
      "cell_type": "code",
      "execution_count": null,
      "metadata": {
        "id": "IMfvUpsIrjMv"
      },
      "outputs": [],
      "source": [
        "data2 = [[1,2,3,4],[5,6,7,8]]\n",
        "arr2 = np.array(data2)\n",
        "arr2"
      ]
    },
    {
      "cell_type": "markdown",
      "metadata": {
        "id": "WQd8hJ0DrjMw"
      },
      "source": [
        "### 배열생성 함수\n",
        "- array: 입력데이터(리스트, 튜플, 배열 등 순차데이터)를 ndarray로 변환, dtype이 명시되지 않은 경우는 추론하여 저장, 입력데이터 복사\n",
        "- asarray: 입력데이터를 ndarray로 변환, 입력 data가 ndarray일 경우는 복사하지 않음\n",
        "- zeros, zero_like: 주어진 dtype과 주어진 모양의 배열 내용은 모두 0로 초기화\n",
        "- ones, ones_like : 주어진 dtype과 주어진 모양의 배열 내용은 모두 1로 초기화\n",
        "- empty, empty_like : 주어진 dtype과 주어진 모양의 배열 내용은 초기화하지 않음\n",
        "- eye, identity: NxN 크기의 단위 행렬"
      ]
    },
    {
      "cell_type": "code",
      "execution_count": null,
      "metadata": {
        "id": "ocHU3NGrrjMw"
      },
      "outputs": [],
      "source": [
        "np.zeros(10)"
      ]
    },
    {
      "cell_type": "code",
      "execution_count": null,
      "metadata": {
        "id": "C3qbeseRrjMw"
      },
      "outputs": [],
      "source": [
        "np.zeros_like((2,5,7), float)"
      ]
    },
    {
      "cell_type": "code",
      "execution_count": null,
      "metadata": {
        "id": "DbnCmKKkrjMw"
      },
      "outputs": [],
      "source": [
        "np.ones((3,6))"
      ]
    },
    {
      "cell_type": "code",
      "execution_count": null,
      "metadata": {
        "id": "ltF25O9ErjMw"
      },
      "outputs": [],
      "source": [
        "np.ones_like((2,5), float)  # 실수 두 개의 원소를 가진 배열(초기값 1) "
      ]
    },
    {
      "cell_type": "code",
      "execution_count": null,
      "metadata": {
        "id": "dZq84dT9rjMx"
      },
      "outputs": [],
      "source": [
        "np.empty((2,3,4)) # 실수를 가진 3차원(2x3x4) 배열(초기값 없음)"
      ]
    },
    {
      "cell_type": "code",
      "execution_count": null,
      "metadata": {
        "id": "YJoALMfVrjMx"
      },
      "outputs": [],
      "source": [
        "np.empty_like((2,3,4)) # 정수 3 개의 원소를 가진 배열 "
      ]
    },
    {
      "cell_type": "code",
      "execution_count": null,
      "metadata": {
        "id": "V_7kyN75rjMx"
      },
      "outputs": [],
      "source": [
        "print(np.identity(3))\n",
        "np.eye(4)"
      ]
    },
    {
      "cell_type": "code",
      "execution_count": null,
      "metadata": {
        "id": "KA7omUwkrjMx"
      },
      "outputs": [],
      "source": [
        "# arange: range 함수의 배열 버전\n",
        "np.arange(10)"
      ]
    },
    {
      "cell_type": "markdown",
      "metadata": {
        "id": "AphLtOW1rjMy"
      },
      "source": [
        "### 1.2 ndarray의 자료형\n",
        "- NumPy dtype Hierarchy\n",
        "\n",
        "![p355.PNG](data:image/png;base64,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)\n",
        "\n",
        "종류 | Type Code | 설명\n",
        "-----| ----------|-----\n",
        "int8, uint8 | i1, u1 | 부호 정수 8bit, unsigned 8bit 정수\n",
        "int16, uint16 | i2, u2 | 부호 정수 16bit, unsigned 16bit 정수\n",
        "int32, uint32 | i4, u4 | 부호 정수 32bit, unsigned 32bit 정수\n",
        "int64, uint64 | i8, u8 | 부호 정수 64bit, unsigned 64bit 정수\n",
        "float16 | f2 | 반정밀도 부동소수점\n",
        "float32 | f4 | 단정밀도 부동소수점 (C의 float와 호환)\n",
        "float64 | f8 | 배정밀도 부동소수점 (C의 double와 호환, python의 float)\n",
        "float128 | f16, g | 확장정밀도 부동소수점\n",
        "complex64 | c8 | 2개의 32bit 부동소수점의 복소수\n",
        "complex128 | c16 | 2개의 64bit 부동소수점의 복소수\n",
        "complex256 | c32 | 2개의 128bit 부동소수점의 복소수\n",
        "bool | ? | True, False\n",
        "object | O | python 객체형\n",
        "string\\_ | S | 고정길이 문자열형\n",
        "unicode\\_ | U | 고정길이 unicode형"
      ]
    },
    {
      "cell_type": "markdown",
      "metadata": {
        "id": "YDNvI6w1rjMy"
      },
      "source": [
        "- astype method: 배열의 dtype 변경\n",
        "- astype: 새로운 배열을 생성(데이터복사하면서 형변환)"
      ]
    },
    {
      "cell_type": "code",
      "execution_count": null,
      "metadata": {
        "id": "_xbbJDBYrjMy"
      },
      "outputs": [],
      "source": [
        "arr = np.array([1,2,3,4,5])\n",
        "arr.dtype"
      ]
    },
    {
      "cell_type": "code",
      "execution_count": null,
      "metadata": {
        "id": "T7GbSraerjMy"
      },
      "outputs": [],
      "source": [
        "float_arr = arr.astype(np.float64)\n",
        "float_arr"
      ]
    },
    {
      "cell_type": "code",
      "execution_count": null,
      "metadata": {
        "id": "wc4yPD8WrjMy"
      },
      "outputs": [],
      "source": [
        "arr = np.array([3.7,-1.2, -2.6, 0.5, 12.9, 10.1])\n",
        "arr.astype(np.int32)"
      ]
    },
    {
      "cell_type": "code",
      "execution_count": null,
      "metadata": {
        "id": "5SHXeoPrrjMy"
      },
      "outputs": [],
      "source": [
        "numeric_string = np.array(['1.25', '-9.6', '42'], dtype=np.string_)\n",
        "numeric_string"
      ]
    },
    {
      "cell_type": "code",
      "execution_count": null,
      "metadata": {
        "id": "wraUgImdrjMz"
      },
      "outputs": [],
      "source": [
        "numeric_string.astype(float64)  # string의 float64변환 실패\n",
        "numeric_string"
      ]
    },
    {
      "cell_type": "code",
      "execution_count": null,
      "metadata": {
        "id": "HEg8tv0xrjMz"
      },
      "outputs": [],
      "source": [
        "numeric_string.astype(float)"
      ]
    },
    {
      "cell_type": "code",
      "execution_count": null,
      "metadata": {
        "id": "NYFCMveyrjMz"
      },
      "outputs": [],
      "source": [
        "empty_unit32 = np.empty(8, dtype='u4')\n",
        "empty_unit32"
      ]
    },
    {
      "cell_type": "markdown",
      "metadata": {
        "id": "HAmU-YRprjMz"
      },
      "source": [
        "### 1.3 배열과 scalar 간의 연산"
      ]
    },
    {
      "cell_type": "markdown",
      "metadata": {
        "id": "tjmxvFAGrjMz"
      },
      "source": [
        "- 벡터화: NumPy에서 배열은 for 문을 사용하지 않고 데이터를 일괄 처리\n",
        "- 같은 크기의 배열 간 산술연산은 배열의 각 요소 단위로 적용\n",
        "- 크기가 다른 배열 산의 연산은 broadcasting => ** 고급 NumPy **"
      ]
    },
    {
      "cell_type": "code",
      "execution_count": null,
      "metadata": {
        "id": "MgnO7vpkrjMz"
      },
      "outputs": [],
      "source": [
        "arr = np.array([[1, 2, 3],[4, 5, 6]])\n",
        "arr"
      ]
    },
    {
      "cell_type": "code",
      "execution_count": null,
      "metadata": {
        "id": "sRFaSxTFrjM0"
      },
      "outputs": [],
      "source": [
        "arr * arr"
      ]
    },
    {
      "cell_type": "code",
      "execution_count": null,
      "metadata": {
        "id": "LkoPHB-frjM0"
      },
      "outputs": [],
      "source": [
        "arr + arr"
      ]
    },
    {
      "cell_type": "markdown",
      "metadata": {
        "id": "KL2Q1Z8trjM0"
      },
      "source": [
        "- scalar 값에 대한 산술연산은 각 요소로 전달"
      ]
    },
    {
      "cell_type": "code",
      "execution_count": null,
      "metadata": {
        "id": "Jj15OJ1GrjM0"
      },
      "outputs": [],
      "source": [
        "1/arr"
      ]
    },
    {
      "cell_type": "code",
      "execution_count": null,
      "metadata": {
        "id": "JplHKdX7rjM0"
      },
      "outputs": [],
      "source": [
        "arr ** .5"
      ]
    },
    {
      "cell_type": "markdown",
      "metadata": {
        "id": "6SDjKLuzrjM0"
      },
      "source": [
        "### 1.4 색인과 slicing"
      ]
    },
    {
      "cell_type": "code",
      "execution_count": null,
      "metadata": {
        "id": "BxarlOGRrjM0"
      },
      "outputs": [],
      "source": [
        "arr = np.arange(10)\n",
        "arr"
      ]
    },
    {
      "cell_type": "code",
      "execution_count": null,
      "metadata": {
        "id": "pf0A_gwErjM0"
      },
      "outputs": [],
      "source": [
        "arr[4] # index 4"
      ]
    },
    {
      "cell_type": "code",
      "execution_count": null,
      "metadata": {
        "id": "4v1N0q7frjM1"
      },
      "outputs": [],
      "source": [
        "arr[5:8] # index 5,6,7"
      ]
    },
    {
      "cell_type": "code",
      "execution_count": null,
      "metadata": {
        "id": "eYUTF79zrjM1"
      },
      "outputs": [],
      "source": [
        "arr[5:8] = 12\n",
        "arr"
      ]
    },
    {
      "cell_type": "markdown",
      "metadata": {
        "id": "m6s3gBSIrjM1"
      },
      "source": [
        "- 배열 조각(slice)은 원본 배열의 뷰(view) => 복사되지 않음\n",
        "- 뷰에 대한 변경은 원본 배열에 반영\n",
        "- slice의 복사 => arr[5:8].copy()"
      ]
    },
    {
      "cell_type": "code",
      "execution_count": null,
      "metadata": {
        "id": "48z8qTP0rjM1"
      },
      "outputs": [],
      "source": [
        "arr_slice = arr[5:8]\n",
        "arr_slice[1] = 234\n",
        "arr"
      ]
    },
    {
      "cell_type": "code",
      "execution_count": null,
      "metadata": {
        "id": "sU1jXzpBrjM1"
      },
      "outputs": [],
      "source": [
        "arr_slice[:] = 64  # 전체\n",
        "arr"
      ]
    },
    {
      "cell_type": "markdown",
      "metadata": {
        "id": "E47CxVm4rjM1"
      },
      "source": [
        "- 다차원 배열\n",
        "- 2차원 배열에서 각 색인: 1차원 배열\n",
        "![그림4-1](img/p087.png)"
      ]
    },
    {
      "cell_type": "code",
      "execution_count": null,
      "metadata": {
        "id": "x-8zB_87rjM1"
      },
      "outputs": [],
      "source": [
        "arr2d = np.array([[1, 2, 3],[4, 5, 6],[7, 8, 9]])\n",
        "arr2d[2]"
      ]
    },
    {
      "cell_type": "code",
      "execution_count": null,
      "metadata": {
        "id": "OvNIVteWrjM1"
      },
      "outputs": [],
      "source": [
        "arr2d[0][2]"
      ]
    },
    {
      "cell_type": "code",
      "execution_count": null,
      "metadata": {
        "id": "tvLEUOBhrjM1"
      },
      "outputs": [],
      "source": [
        "arr2d[0, 2]"
      ]
    },
    {
      "cell_type": "code",
      "execution_count": null,
      "metadata": {
        "id": "8G_EDzSxrjM2"
      },
      "outputs": [],
      "source": [
        "arr2d[[0],[2]]"
      ]
    },
    {
      "cell_type": "code",
      "execution_count": null,
      "metadata": {
        "id": "KdPSXSTirjM2"
      },
      "outputs": [],
      "source": [
        "arr2d.shape"
      ]
    },
    {
      "cell_type": "code",
      "execution_count": null,
      "metadata": {
        "id": "5ztrZ1LerjM2"
      },
      "outputs": [],
      "source": [
        "arr2d[:2]"
      ]
    },
    {
      "cell_type": "code",
      "execution_count": null,
      "metadata": {
        "id": "ybIodxjArjM2"
      },
      "outputs": [],
      "source": [
        "arr2d[:2,1:]"
      ]
    },
    {
      "cell_type": "code",
      "execution_count": null,
      "metadata": {
        "id": "u3KKjGadrjM2"
      },
      "outputs": [],
      "source": [
        "arr3d = np.array([[[1, 2, 3],[4, 5, 6]],[[7, 8, 9],[10,11,12]]])\n",
        "arr3d.shape"
      ]
    },
    {
      "cell_type": "code",
      "execution_count": null,
      "metadata": {
        "id": "hrggQjPSrjM2"
      },
      "outputs": [],
      "source": [
        "arr3d[0]"
      ]
    },
    {
      "cell_type": "code",
      "execution_count": null,
      "metadata": {
        "id": "GGSGGMlwrjM2"
      },
      "outputs": [],
      "source": [
        "arr3d[0][1]"
      ]
    },
    {
      "cell_type": "markdown",
      "metadata": {
        "id": "zDxppwQPrjM2"
      },
      "source": [
        "- Two-dimensional array slicing\n",
        "![그림4-2](img/p090.png)"
      ]
    },
    {
      "cell_type": "markdown",
      "metadata": {
        "id": "BtKM3bc8rjM3"
      },
      "source": [
        "### 1.5 boolean 색인"
      ]
    },
    {
      "cell_type": "code",
      "execution_count": null,
      "metadata": {
        "id": "NMMADmkrrjM3"
      },
      "outputs": [],
      "source": [
        "names = np.array(['Bob','Joe','Will','Bob','Will','Joe','Joe'])\n",
        "names"
      ]
    },
    {
      "cell_type": "code",
      "execution_count": null,
      "metadata": {
        "id": "6J0PwyZ6rjM3"
      },
      "outputs": [],
      "source": [
        "names=='Bob'"
      ]
    },
    {
      "cell_type": "code",
      "execution_count": null,
      "metadata": {
        "id": "GVaAaNzBrjM3"
      },
      "outputs": [],
      "source": [
        "data = np.random.randn(7,4)\n",
        "data"
      ]
    },
    {
      "cell_type": "code",
      "execution_count": null,
      "metadata": {
        "id": "GXvD5n_arjM3"
      },
      "outputs": [],
      "source": [
        "data[names=='Bob']"
      ]
    },
    {
      "cell_type": "markdown",
      "metadata": {
        "id": "BHrEXrUWrjM3"
      },
      "source": [
        "- boolean 배열의 길이는 반드시 색인하려는 축의 길이와 동일해야 함."
      ]
    },
    {
      "cell_type": "code",
      "execution_count": null,
      "metadata": {
        "id": "F6JYqiTdrjM3"
      },
      "outputs": [],
      "source": [
        "data[names=='Bob', 2:]"
      ]
    },
    {
      "cell_type": "code",
      "execution_count": null,
      "metadata": {
        "id": "y-3FDnaurjM3"
      },
      "outputs": [],
      "source": [
        "names != 'Joe'"
      ]
    },
    {
      "cell_type": "code",
      "execution_count": null,
      "metadata": {
        "id": "AEsCqG0VrjM3"
      },
      "outputs": [],
      "source": [
        "data[~(names == 'Joe')]"
      ]
    },
    {
      "cell_type": "code",
      "execution_count": null,
      "metadata": {
        "id": "RDKBrJqmrjM3"
      },
      "outputs": [],
      "source": [
        "mask = (names == 'Bob')|(names == 'Will')\n",
        "mask"
      ]
    },
    {
      "cell_type": "code",
      "execution_count": null,
      "metadata": {
        "id": "3xZYvcVwrjM4"
      },
      "outputs": [],
      "source": [
        "data[mask]"
      ]
    },
    {
      "cell_type": "code",
      "execution_count": null,
      "metadata": {
        "id": "PFM0b3TUrjM4"
      },
      "outputs": [],
      "source": [
        "data[data<0] = 0\n",
        "data"
      ]
    },
    {
      "cell_type": "code",
      "execution_count": null,
      "metadata": {
        "id": "vxWMTzlCrjM4"
      },
      "outputs": [],
      "source": [
        "data[names != 'Joe'] = 7\n",
        "data"
      ]
    },
    {
      "cell_type": "markdown",
      "metadata": {
        "id": "3gYMiyoirjM4"
      },
      "source": [
        "### 1.6 팬시 색인\n",
        "- 정수 배열을 사용한 색인\n",
        "- 선택된 데이터를 새로운 배열로 복사 "
      ]
    },
    {
      "cell_type": "code",
      "execution_count": null,
      "metadata": {
        "id": "GecC2xgerjM4"
      },
      "outputs": [],
      "source": [
        "arr = np.empty((8,4))\n",
        "for i in range(8):\n",
        "    arr[i]=i\n",
        "arr"
      ]
    },
    {
      "cell_type": "code",
      "execution_count": null,
      "metadata": {
        "id": "Pgf3NbejrjM4"
      },
      "outputs": [],
      "source": [
        "arr[[4,3,0,6]]"
      ]
    },
    {
      "cell_type": "code",
      "execution_count": null,
      "metadata": {
        "id": "do-bZ16UrjM4"
      },
      "outputs": [],
      "source": [
        "arr[[-3,-5,-7]]"
      ]
    },
    {
      "cell_type": "code",
      "execution_count": null,
      "metadata": {
        "id": "S9ls9dVVrjM4"
      },
      "outputs": [],
      "source": [
        "arr = np.arange(32).reshape((8,4))\n",
        "arr"
      ]
    },
    {
      "cell_type": "code",
      "execution_count": null,
      "metadata": {
        "id": "arSJaIY1rjM4"
      },
      "outputs": [],
      "source": [
        "arr[[1,5,7,2],[0,3,1,2]]"
      ]
    },
    {
      "cell_type": "code",
      "execution_count": null,
      "metadata": {
        "id": "HU-3uKsirjM5"
      },
      "outputs": [],
      "source": [
        "arr[(1,5,7,2),(0,3,1,2)]"
      ]
    },
    {
      "cell_type": "code",
      "execution_count": null,
      "metadata": {
        "id": "Q2iC95UorjM5"
      },
      "outputs": [],
      "source": [
        "arr[[1,5,7,2]][:,[0,3,1,2]]"
      ]
    },
    {
      "cell_type": "code",
      "execution_count": null,
      "metadata": {
        "id": "hJmhtUU9rjM5"
      },
      "outputs": [],
      "source": [
        "arr[np.ix_([1,5,7,2],[0,3,1,2])]"
      ]
    },
    {
      "cell_type": "markdown",
      "metadata": {
        "id": "6-fUgQVsrjM5"
      },
      "source": [
        "### 1.7 배열 전치(transpose)와 축 바꾸기\n",
        "- 전치: 데이터 보양이 바뀐 view 반환"
      ]
    },
    {
      "cell_type": "code",
      "execution_count": null,
      "metadata": {
        "id": "DJ2DhEhFrjM5"
      },
      "outputs": [],
      "source": [
        "arr = np.arange(15).reshape((3,5))\n",
        "arr"
      ]
    },
    {
      "cell_type": "code",
      "execution_count": null,
      "metadata": {
        "id": "fA2Kwy26rjM5"
      },
      "outputs": [],
      "source": [
        "arr.T # arr.transpose() 와 동일"
      ]
    },
    {
      "cell_type": "code",
      "execution_count": null,
      "metadata": {
        "id": "pYkeqwtgrjM5"
      },
      "outputs": [],
      "source": [
        "arr.transpose()"
      ]
    },
    {
      "cell_type": "markdown",
      "metadata": {
        "id": "gAa2KBovrjM5"
      },
      "source": [
        "- 행렬 내적: $X^{T}\\cdot X$\n",
        "- arr.T, arr.transpose(), arr.swapaxes()"
      ]
    },
    {
      "cell_type": "code",
      "execution_count": null,
      "metadata": {
        "id": "tbZD935xrjM5"
      },
      "outputs": [],
      "source": [
        "arr = np.random.randn(6,3)\n",
        "arr"
      ]
    },
    {
      "cell_type": "code",
      "execution_count": null,
      "metadata": {
        "id": "DLUN-Xg5rjM6"
      },
      "outputs": [],
      "source": [
        "np.dot(arr.T,arr)"
      ]
    },
    {
      "cell_type": "code",
      "execution_count": null,
      "metadata": {
        "id": "78xJEI0ArjM6"
      },
      "outputs": [],
      "source": [
        "arr.T"
      ]
    },
    {
      "cell_type": "code",
      "execution_count": null,
      "metadata": {
        "id": "7UnDq6FJrjM6"
      },
      "outputs": [],
      "source": [
        "arr.transpose(1,0)"
      ]
    },
    {
      "cell_type": "code",
      "execution_count": null,
      "metadata": {
        "id": "A_-Mtz2NrjM6"
      },
      "outputs": [],
      "source": [
        "arr = np.arange(16).reshape((2,2,4))\n",
        "arr"
      ]
    },
    {
      "cell_type": "code",
      "execution_count": null,
      "metadata": {
        "id": "r8dWvVRLrjM6"
      },
      "outputs": [],
      "source": [
        "arr.transpose(1,0,2)"
      ]
    },
    {
      "cell_type": "code",
      "execution_count": null,
      "metadata": {
        "id": "ufMvYt21rjM6"
      },
      "outputs": [],
      "source": [
        "arr.swapaxes(1,2)"
      ]
    },
    {
      "cell_type": "markdown",
      "metadata": {
        "id": "JYxuB_P1rjM6"
      },
      "source": [
        "## 2. 유니버설 함수\n",
        "\n",
        "- ufunc: ndarray 안에 있는 데이터 원소별로 연산을 수행하는 함수"
      ]
    },
    {
      "cell_type": "code",
      "execution_count": null,
      "metadata": {
        "id": "37FfNQQUrjM6"
      },
      "outputs": [],
      "source": [
        "import numpy as np"
      ]
    },
    {
      "cell_type": "code",
      "execution_count": null,
      "metadata": {
        "id": "viFVT1ycrjM6"
      },
      "outputs": [],
      "source": [
        "arr = np.arange(10)\n",
        "np.sqrt(arr)"
      ]
    },
    {
      "cell_type": "code",
      "execution_count": null,
      "metadata": {
        "id": "iNuA-WzNrjM7"
      },
      "outputs": [],
      "source": [
        "np.exp(arr)"
      ]
    },
    {
      "cell_type": "code",
      "execution_count": null,
      "metadata": {
        "id": "STU5JbYtrjM7"
      },
      "outputs": [],
      "source": [
        "x = np.random.randn(10)\n",
        "x"
      ]
    },
    {
      "cell_type": "code",
      "execution_count": null,
      "metadata": {
        "id": "JTVzELUJrjM7"
      },
      "outputs": [],
      "source": [
        "y = np.random.randn(10)\n",
        "y"
      ]
    },
    {
      "cell_type": "code",
      "execution_count": null,
      "metadata": {
        "id": "-5EjD_M8rjM7"
      },
      "outputs": [],
      "source": [
        "np.maximum(x,y)  # element-wise maximum"
      ]
    },
    {
      "cell_type": "code",
      "execution_count": null,
      "metadata": {
        "id": "pa-4AR3vrjM7"
      },
      "outputs": [],
      "source": [
        "arr = x*5\n",
        "arr"
      ]
    },
    {
      "cell_type": "code",
      "execution_count": null,
      "metadata": {
        "id": "ZvKTTX60rjM7"
      },
      "outputs": [],
      "source": [
        "np.modf(arr)"
      ]
    },
    {
      "cell_type": "markdown",
      "metadata": {
        "id": "O9J7f3i9rjM7"
      },
      "source": [
        "### 단항 유니버설 함수\n",
        "\n",
        "함수 | 설명\n",
        "-----|-----\n",
        "abs, fabs|각 원소(정수,실수,복소수)의 절대값. 복소수가 아닌 경우 fabs\n",
        "sqrt| arr ** 0.5\n",
        "square| arr ** 2\n",
        "Exp | e**x\n",
        "Log,log10,log2,log1p| log1p => log(1+x)\n",
        "sign|1(양수), 0(0), -1(음수)\n",
        "ceil|소수자리 올림\n",
        "floor|소수자리 자름\n",
        "rint| 소수자리 반올림\n",
        "modf|몫과 나머지를 배열로 반환\n",
        "isnan|숫자인지 아닌지\n",
        "isfinite, isinf|원소가 유한한지, 무한한지\n",
        "cos,cosh,sin,sinh,tan,tanh|삼각함수\n",
        "arccos,arccosh,arcsin,arcsinh,arctan,arctanh|역삼각함수\n",
        "logical_not|~arr (논리부정)"
      ]
    },
    {
      "cell_type": "markdown",
      "metadata": {
        "id": "_ilerFB4rjM7"
      },
      "source": [
        "### 이항 유니버설 함수\n",
        "\n",
        "함수 | 설명\n",
        "-----|-----\n",
        "add, subtract, mutiply, divide, floor_divide|사칙연산\n",
        "power(x,y)|x**y\n",
        "maximum, fmax, minimum, fmin|최대, 최소값, fmax/fmin는 NaN은 무시\n",
        "mod|나머지\n",
        "copysign(x,y)| x의 기호를 y의 기호로 바꿈\n",
        "greater, greater_equal,..| >,>=, ...\n",
        "logical_and, logical_or, logical_xor| &"
      ]
    },
    {
      "cell_type": "markdown",
      "metadata": {
        "id": "opnWJTxqrjM8"
      },
      "source": [
        "## 3. 배열을 사용한 데이터 처리\n",
        "\n",
        "- 벡터화: 배열연산을 사용해서 반복문을 명시적으로 제거하는 기법\n",
        "- 순수 파이썬 연산에 비해 빠르다"
      ]
    },
    {
      "cell_type": "code",
      "execution_count": null,
      "metadata": {
        "id": "6g329sCYrjM8"
      },
      "outputs": [],
      "source": [
        "import numpy as np\n",
        "import matplotlib.pyplot as plt"
      ]
    },
    {
      "cell_type": "code",
      "execution_count": null,
      "metadata": {
        "id": "alQdMRTSrjM8"
      },
      "outputs": [],
      "source": [
        "point = np.arange(-5,5,0.01)\n",
        "xs,ys = np.meshgrid(point,point)\n",
        "ys"
      ]
    },
    {
      "cell_type": "code",
      "execution_count": null,
      "metadata": {
        "id": "i03FanS6rjM8"
      },
      "outputs": [],
      "source": [
        "z = np.sqrt(xs**2+ys**2)\n",
        "z"
      ]
    },
    {
      "cell_type": "code",
      "execution_count": null,
      "metadata": {
        "id": "7by5olnLrjM8"
      },
      "outputs": [],
      "source": [
        "plt.imshow(z,cmap=plt.cm.gray)\n",
        "plt.colorbar()\n",
        "plt.title(\"Image plot of $\\sqrt{x^2+y^2}$ for a grid of values\")\n",
        "plt.show()"
      ]
    },
    {
      "cell_type": "markdown",
      "metadata": {
        "id": "rKPyLm_UrjM8"
      },
      "source": [
        "### 3.1 배열연산으로 조건절 표현하기\n",
        "- where: x if 조건 else y"
      ]
    },
    {
      "cell_type": "code",
      "execution_count": null,
      "metadata": {
        "id": "6Mt5fk8ErjM8"
      },
      "outputs": [],
      "source": [
        "xarr = np.array([1.1, 1.2, 1.3, 1.4, 1.5])\n",
        "yarr = np.array([2.1, 2.2, 2.3, 2.4, 2.5])\n",
        "cond = np.array([True, False, True, True, False])"
      ]
    },
    {
      "cell_type": "code",
      "execution_count": null,
      "metadata": {
        "id": "kZrezg5grjM9"
      },
      "outputs": [],
      "source": [
        "result = [(x if c else y) for x,y,c in zip(xarr,yarr,cond)]\n",
        "result"
      ]
    },
    {
      "cell_type": "markdown",
      "metadata": {
        "id": "UQf7Luh8rjM9"
      },
      "source": [
        "- 위 (x if c else y) 방식(list comprehension)은 큰 배열을 빠르게 처리하지 못하고 다차원 배열에서는 사용 못함\n",
        "- numpy.where 함수"
      ]
    },
    {
      "cell_type": "code",
      "execution_count": null,
      "metadata": {
        "id": "sYqmXyBUrjM9"
      },
      "outputs": [],
      "source": [
        "result1 = np.where(cond, xarr, yarr)\n",
        "result1"
      ]
    },
    {
      "cell_type": "code",
      "execution_count": null,
      "metadata": {
        "id": "ef5N5wQsrjM9"
      },
      "outputs": [],
      "source": [
        "arr = np.random.randn(4,4)\n",
        "arr"
      ]
    },
    {
      "cell_type": "code",
      "execution_count": null,
      "metadata": {
        "id": "RC4J8E2mrjM9"
      },
      "outputs": [],
      "source": [
        "np.where(arr>0,2,-2)  # arr의 원소가 0보다 크면 2로, 아니면 -2"
      ]
    },
    {
      "cell_type": "code",
      "execution_count": null,
      "metadata": {
        "id": "Dpjnq6gSrjM9"
      },
      "outputs": [],
      "source": [
        "np.where(arr>0,2,arr)  # arr의 원소가 0보다 크면 2로, 본래 원소값"
      ]
    },
    {
      "cell_type": "markdown",
      "metadata": {
        "id": "03wbPuMtrjM9"
      },
      "source": [
        "### 3.2 수학 및 통계 method\n",
        "- where: x if 조건 else y"
      ]
    },
    {
      "cell_type": "markdown",
      "metadata": {
        "id": "egAg4TrarjM9"
      },
      "source": [
        "### 기본 배열 통계 method\n",
        "\n",
        "method | 설명\n",
        "-----|-----\n",
        "sum|배열전체 혹은 특정 axes에 대한 원소의 합\n",
        "mean|산술평균\n",
        "std, var|표준편차(std), 분산(var)\n",
        "min, max|최소값, 최대값\n",
        "argmin, argmax| 최소/최대 원소의 색인값\n",
        "cumsum| 각 원소의 누적 합\n",
        "cumprod| 각 원소의 누적 곱"
      ]
    },
    {
      "cell_type": "code",
      "execution_count": null,
      "metadata": {
        "id": "upUwFbmNrjM-"
      },
      "outputs": [],
      "source": [
        "arr = np.random.randn(5,4)\n",
        "arr"
      ]
    },
    {
      "cell_type": "code",
      "execution_count": null,
      "metadata": {
        "id": "ER2TfcNArjM-"
      },
      "outputs": [],
      "source": [
        "arr.mean()"
      ]
    },
    {
      "cell_type": "code",
      "execution_count": null,
      "metadata": {
        "id": "h8V1-rr2rjM-"
      },
      "outputs": [],
      "source": [
        "np.mean(arr)"
      ]
    },
    {
      "cell_type": "code",
      "execution_count": null,
      "metadata": {
        "id": "MUiHyqUPrjM-"
      },
      "outputs": [],
      "source": [
        "arr.mean(axis=0) # arr.mean(0)와 동일"
      ]
    },
    {
      "cell_type": "code",
      "execution_count": null,
      "metadata": {
        "id": "dpBDmrQnrjM-"
      },
      "outputs": [],
      "source": [
        "arr.mean(axis=1) # arr.mean(1)와 동일"
      ]
    },
    {
      "cell_type": "markdown",
      "metadata": {
        "id": "lLJ4Yg8jrjM-"
      },
      "source": [
        "- axes = 0 : 첫번째 원소 중심(arr[0,0,0], arr[1,0,0], arr[2,0,0], arr[3,0,0],,,)\n",
        "- axes = 1 : 두번째 원소 중심(arr[0,0,0], arr[0,1,0], arr[0,2,0], arr[0,3,0],,,)"
      ]
    },
    {
      "cell_type": "code",
      "execution_count": null,
      "metadata": {
        "id": "KK4T3MJ0rjM-"
      },
      "outputs": [],
      "source": [
        "arr.max()"
      ]
    },
    {
      "cell_type": "code",
      "execution_count": null,
      "metadata": {
        "id": "GgWx-F9RrjM-"
      },
      "outputs": [],
      "source": [
        "arr.argmax()"
      ]
    },
    {
      "cell_type": "markdown",
      "metadata": {
        "id": "7IoUQlE3rjM_"
      },
      "source": [
        "### 3.3 boolean 배열을 위한 method\n",
        "- boolean 값: 1(True), 0(False)\n",
        "- sum: True 갯수\n",
        "- any: 하나 이상의 True 값이 있는지?\n",
        "- all: 모든 원소가 True인가?"
      ]
    },
    {
      "cell_type": "code",
      "execution_count": null,
      "metadata": {
        "id": "MOhiKQeBrjM_"
      },
      "outputs": [],
      "source": [
        "arr = np.random.randn(100)\n",
        "\n",
        "(arr>0).sum()  # 0 보다 큰 수의 갯수"
      ]
    },
    {
      "cell_type": "code",
      "execution_count": null,
      "metadata": {
        "id": "QixuYWpWrjM_"
      },
      "outputs": [],
      "source": [
        "bools = np.array([False, True, False, False])\n",
        "bools.any()"
      ]
    },
    {
      "cell_type": "code",
      "execution_count": null,
      "metadata": {
        "id": "_hQVq4forjM_"
      },
      "outputs": [],
      "source": [
        "bools.all()"
      ]
    },
    {
      "cell_type": "markdown",
      "metadata": {
        "id": "qYUN1LhHrjM_"
      },
      "source": [
        "### 3.4 정렬\n",
        "- sort method\n",
        "- 배열을 직접 변경하지 않고 정렬된 결과를 가진 복사본을 반환"
      ]
    },
    {
      "cell_type": "code",
      "execution_count": null,
      "metadata": {
        "id": "zFuEH2_OrjM_"
      },
      "outputs": [],
      "source": [
        "arr = np.random.randn(10)\n",
        "arr"
      ]
    },
    {
      "cell_type": "code",
      "execution_count": null,
      "metadata": {
        "id": "DklNb-76rjM_"
      },
      "outputs": [],
      "source": [
        "arr.sort()\n",
        "arr"
      ]
    },
    {
      "cell_type": "markdown",
      "metadata": {
        "id": "K7zRVrsmrjM_"
      },
      "source": [
        "- 다차원 배열의 정렬은 축의 값에 따라 1차원 부분을 정렬"
      ]
    },
    {
      "cell_type": "code",
      "execution_count": null,
      "metadata": {
        "id": "ADWn_fc9rjNA"
      },
      "outputs": [],
      "source": [
        "arr.sort(0)\n",
        "arr"
      ]
    },
    {
      "cell_type": "code",
      "execution_count": null,
      "metadata": {
        "id": "ggCOwswjrjNA"
      },
      "outputs": [],
      "source": [
        "arr = np.random.randn(5,3)\n",
        "arr"
      ]
    },
    {
      "cell_type": "code",
      "execution_count": null,
      "metadata": {
        "id": "rQaekW2PrjNA"
      },
      "outputs": [],
      "source": [
        "arr.sort(1)\n",
        "arr"
      ]
    },
    {
      "cell_type": "code",
      "execution_count": null,
      "metadata": {
        "id": "c0LntqSorjNA"
      },
      "outputs": [],
      "source": [
        "arr.sort(0)\n",
        "arr"
      ]
    },
    {
      "cell_type": "markdown",
      "metadata": {
        "id": "prVLJ7nhrjNA"
      },
      "source": [
        "- 배열의 분위수(quantile)"
      ]
    },
    {
      "cell_type": "code",
      "execution_count": null,
      "metadata": {
        "id": "W_51NYsSrjNA"
      },
      "outputs": [],
      "source": [
        "large_arr = np.random.randn(1000)\n",
        "large_arr.sort()"
      ]
    },
    {
      "cell_type": "code",
      "execution_count": null,
      "metadata": {
        "id": "nuB09f7srjNA"
      },
      "outputs": [],
      "source": [
        "large_arr[int(0.05 * len(large_arr))]  # 5% 분위값"
      ]
    },
    {
      "cell_type": "markdown",
      "metadata": {
        "id": "Xfw5_6CarjNA"
      },
      "source": [
        "### 3.5 집합함수\n",
        "method | 설명\n",
        "-----|-----\n",
        "unique(x)| 배열 x에서 중복된 원소 제거하고 남은 원소를 정렬\n",
        "intersect1d(x,y)| 배열 x와 y에 공통적인 원소를 정렬\n",
        "union1d(x,y)| 두 배열의 합집합\n",
        "in1d(x,y):|x의 각 원소가 y에 포함하는지의 boolean\n",
        "setdiff1d(x,y)| x와 y의 차집합\n",
        "setxor1d(x,y)| 한 배열에는 포함되지만 다른 배열에는 포함되지 않는 원소들의 집합"
      ]
    },
    {
      "cell_type": "code",
      "execution_count": null,
      "metadata": {
        "id": "XCPorURBrjNA"
      },
      "outputs": [],
      "source": [
        "names=np.array(['Bob', 'Joe', 'Will', 'Bob', 'Will', 'Joe', 'Joe'])\n",
        "np.unique(names)"
      ]
    },
    {
      "cell_type": "code",
      "execution_count": null,
      "metadata": {
        "id": "TYcoe4xDrjNB"
      },
      "outputs": [],
      "source": [
        "sorted(set(names))"
      ]
    },
    {
      "cell_type": "code",
      "execution_count": null,
      "metadata": {
        "id": "yBPamolTrjNB"
      },
      "outputs": [],
      "source": [
        "values = np.array([6,0,0,3,2,5,6])\n",
        "np.in1d(values,[2,3,6])"
      ]
    },
    {
      "cell_type": "markdown",
      "metadata": {
        "id": "tNJBCTKvrjNB"
      },
      "source": [
        "## 4. 배열의 파일 입출력\n",
        "\n",
        "### 4.1 배열을 바이너리 형식으로 저장하기\n",
        "- np.save/load: 압축되지 않은 raw 바이너리 형식을 저장/불러오기, .npy 확장자\n",
        "- np.savez: 여러 개의 배열을 압축된 형식으로 저장, npz 확장자\n",
        "  => 불러오기(load) : 각각의 배열을 사전형식의 객체에 저장"
      ]
    },
    {
      "cell_type": "code",
      "execution_count": null,
      "metadata": {
        "id": "6J8JvZR9rjNB"
      },
      "outputs": [],
      "source": [
        "import numpy as np"
      ]
    },
    {
      "cell_type": "code",
      "execution_count": null,
      "metadata": {
        "id": "8gjBuhJ3rjNB"
      },
      "outputs": [],
      "source": [
        "arr = np.arange(10)\n",
        "np.save('some_array', arr)"
      ]
    },
    {
      "cell_type": "code",
      "execution_count": null,
      "metadata": {
        "id": "_t6l7fIerjNB"
      },
      "outputs": [],
      "source": [
        "np.load('some_array.npy')"
      ]
    },
    {
      "cell_type": "code",
      "execution_count": null,
      "metadata": {
        "id": "tIKBZuEsrjNB"
      },
      "outputs": [],
      "source": [
        "np.savez('array_archive.npz', a=arr, b=arr)"
      ]
    },
    {
      "cell_type": "code",
      "execution_count": null,
      "metadata": {
        "id": "90WQA5HYrjNB"
      },
      "outputs": [],
      "source": [
        "arch = np.load('array_archive.npz')\n",
        "arch['b']"
      ]
    },
    {
      "cell_type": "markdown",
      "metadata": {
        "id": "JH6qBUD3rjNC"
      },
      "source": [
        "### 4.2 텍스트 파일 불러오기와 저장하기\n",
        "- read_cvs, read_table: pandas 모듈\n",
        "- np.loadtxt, np.getfromtxt"
      ]
    },
    {
      "cell_type": "code",
      "execution_count": null,
      "metadata": {
        "id": "yM7ZswkwrjNC"
      },
      "outputs": [],
      "source": [
        "!type array_ex.txt"
      ]
    },
    {
      "cell_type": "code",
      "execution_count": null,
      "metadata": {
        "id": "pd-dKEp2rjNC"
      },
      "outputs": [],
      "source": [
        "arr = np.loadtxt('array_ex.txt', delimiter=',')\n",
        "arr"
      ]
    },
    {
      "cell_type": "markdown",
      "metadata": {
        "id": "izZ-5eXurjNC"
      },
      "source": [
        "## 5. 선형대수\n",
        "function | 설명\n",
        "-----|-----\n",
        "diag| 정사각행렬의 대각선 원소를 1차원 배열로 반환\n",
        "|1차원 배열을 정사각행렬의 대가선 원소로 하고 나머지는 0\n",
        "dot| 행렬곱셉(내적)\n",
        "trace| 대각선 원소의 합을 계산\n",
        "det| 행렬식 계산\n",
        "eig| 정사각형 행렬의 고유갑(eigen value)과 고유벡터\n",
        "inv| 역행렬\n",
        "pinv| 행렬의 무어-펜로즈 유사역원 역행렬\n",
        "qr| QR 분해를 계산\n",
        "svd| 특이값 분해(SVD)\n",
        "solve| Ax=b를 만족하는 x\n",
        "lstsq| y=xb를 만족하는 최소제곱해"
      ]
    },
    {
      "cell_type": "code",
      "execution_count": null,
      "metadata": {
        "id": "S9P7IN0xrjNC"
      },
      "outputs": [],
      "source": [
        "import numpy as np"
      ]
    },
    {
      "cell_type": "code",
      "execution_count": null,
      "metadata": {
        "id": "UJSBdO95rjNC"
      },
      "outputs": [],
      "source": [
        "X = np.random.randn(5,5)\n",
        "X"
      ]
    },
    {
      "cell_type": "code",
      "execution_count": null,
      "metadata": {
        "id": "nqjbfphWrjNC"
      },
      "outputs": [],
      "source": [
        "mat=X.T.dot(X)\n",
        "mat"
      ]
    },
    {
      "cell_type": "code",
      "execution_count": null,
      "metadata": {
        "id": "2YxfXJRIrjND"
      },
      "outputs": [],
      "source": [
        "INV=np.linalg.inv(mat)\n",
        "INV"
      ]
    },
    {
      "cell_type": "code",
      "execution_count": null,
      "metadata": {
        "id": "n5qOfOmUrjND"
      },
      "outputs": [],
      "source": [
        "mat.dot(INV)"
      ]
    },
    {
      "cell_type": "code",
      "execution_count": null,
      "metadata": {
        "id": "VUxkBHPFrjND"
      },
      "outputs": [],
      "source": [
        "q,r=np.linalg.qr(mat)\n",
        "r"
      ]
    },
    {
      "cell_type": "code",
      "execution_count": null,
      "metadata": {
        "id": "crIcUD23rjND"
      },
      "outputs": [],
      "source": [
        "q"
      ]
    },
    {
      "cell_type": "markdown",
      "metadata": {
        "collapsed": true,
        "id": "TiMOJGhhrjND"
      },
      "source": [
        "## 6. 난수 생성\n",
        "function | 설명\n",
        "-----|-----\n",
        "seed| 난수 발생기의 seed를 지정\n",
        "permutation| 순서를 임의로 바꾸거나 임의의 순열을 반환\n",
        "shuffle| 리스트나 배열의 순서를 뒤섞는다\n",
        "rand| 균등분포에서 표본 추출\n",
        "randint| 주어진 최소/최대 범위 내에서 임의의 난수 추출\n",
        "randn| 표준편차가 1이고 평균값이 0인 정규분포에서 표본 추출\n",
        "binomial| 이항분포에서 표본 추출\n",
        "normal| 정규분포(가우시안)에서 표본 추출\n",
        "beta| 베타분포에서 표본 추출\n",
        "chisquare| 카이제곱분포에서 표본 추출\n",
        "gamma| 감마분포에서 표본 추출\n",
        "uniform| 균등(0,1)분포에서 표본 추출"
      ]
    },
    {
      "cell_type": "code",
      "execution_count": null,
      "metadata": {
        "id": "nIWV6hoNrjND"
      },
      "outputs": [],
      "source": [
        "# random.normal은 다양한 종류의 확률분포로부터 표본 값을 생성\n",
        "samples = np.random.normal(size=(4,4))\n",
        "samples"
      ]
    },
    {
      "cell_type": "markdown",
      "metadata": {
        "id": "VRYy2PNorjND"
      },
      "source": [
        "- 파이썬 내장함수 random은 한 번에 하나의 값만 생성\n",
        "- random.normal은 매우 큰 표본을 빠르게 생성"
      ]
    },
    {
      "cell_type": "code",
      "execution_count": null,
      "metadata": {
        "id": "Iz_AOCp-rjND"
      },
      "outputs": [],
      "source": [
        "from random import normalvariate\n",
        "N = 1000000\n",
        "%timeit samples = [normalvariate(0,1) for _ in range(N)]"
      ]
    },
    {
      "cell_type": "code",
      "execution_count": null,
      "metadata": {
        "id": "iz4FQth2rjNE"
      },
      "outputs": [],
      "source": [
        "%timeit np.random.normal(size=N)"
      ]
    },
    {
      "cell_type": "markdown",
      "metadata": {
        "id": "UBKETscRrjNE"
      },
      "source": [
        "## 7. 계단 오르내리기 예제\n",
        "- 배열 연산의 활용"
      ]
    },
    {
      "cell_type": "code",
      "execution_count": null,
      "metadata": {
        "id": "vtByDobfrjNE"
      },
      "outputs": [],
      "source": [
        "import random\n",
        "position=0\n",
        "walk = [position]\n",
        "steps =100\n",
        "for i in range(steps):\n",
        "    step = 1 if random.randint(0,1) else -1\n",
        "    position += step\n",
        "    walk.append(position)"
      ]
    },
    {
      "cell_type": "code",
      "execution_count": null,
      "metadata": {
        "id": "iKt3vUgqrjNE"
      },
      "outputs": [],
      "source": [
        "walk"
      ]
    },
    {
      "cell_type": "code",
      "execution_count": null,
      "metadata": {
        "id": "XfmJDVAnrjNE"
      },
      "outputs": [],
      "source": [
        "plt.plot(walk[:100])"
      ]
    },
    {
      "cell_type": "code",
      "execution_count": null,
      "metadata": {
        "id": "NkBbFoO7rjNE"
      },
      "outputs": [],
      "source": [
        "import numpy as np"
      ]
    },
    {
      "cell_type": "code",
      "execution_count": null,
      "metadata": {
        "id": "fE88DPQFrjNE"
      },
      "outputs": [],
      "source": [
        "nsteps = 100"
      ]
    },
    {
      "cell_type": "code",
      "execution_count": null,
      "metadata": {
        "id": "EGOB3Eq-rjNE"
      },
      "outputs": [],
      "source": [
        "draws = np.random.randint(0,2,size=nsteps)"
      ]
    },
    {
      "cell_type": "code",
      "execution_count": null,
      "metadata": {
        "id": "YKTf8esirjNE"
      },
      "outputs": [],
      "source": [
        "draws"
      ]
    },
    {
      "cell_type": "code",
      "execution_count": null,
      "metadata": {
        "id": "GbFg37kBrjNE"
      },
      "outputs": [],
      "source": [
        "steps = np.where(draws>0, 1, -1)\n",
        "steps"
      ]
    },
    {
      "cell_type": "code",
      "execution_count": null,
      "metadata": {
        "id": "qUMsUCj3rjNF"
      },
      "outputs": [],
      "source": [
        "walk = steps.cumsum()"
      ]
    },
    {
      "cell_type": "code",
      "execution_count": null,
      "metadata": {
        "id": "AURDUREhrjNF"
      },
      "outputs": [],
      "source": [
        "walk.min()"
      ]
    },
    {
      "cell_type": "code",
      "execution_count": null,
      "metadata": {
        "id": "d1_fYChlrjNF"
      },
      "outputs": [],
      "source": [
        "walk.max()"
      ]
    },
    {
      "cell_type": "code",
      "execution_count": null,
      "metadata": {
        "id": "gItnsTIRrjNF"
      },
      "outputs": [],
      "source": [
        "(np.abs(walk) >= 6).argmax()"
      ]
    },
    {
      "cell_type": "code",
      "execution_count": null,
      "metadata": {
        "id": "AQS_iR98rjNF"
      },
      "outputs": [],
      "source": [
        "nwalks = 5000\n",
        "nsteps = 1000"
      ]
    },
    {
      "cell_type": "code",
      "execution_count": null,
      "metadata": {
        "id": "4lm1MBRIrjNF"
      },
      "outputs": [],
      "source": [
        "draws = np.random.randint(0,2,size=(nwalks,nsteps))\n",
        "draws.shape"
      ]
    },
    {
      "cell_type": "code",
      "execution_count": null,
      "metadata": {
        "id": "_VS2gzkgrjNF"
      },
      "outputs": [],
      "source": [
        "steps = np.where(draws>0, 1, -1)\n",
        "steps"
      ]
    },
    {
      "cell_type": "code",
      "execution_count": null,
      "metadata": {
        "id": "-avMDUAlrjNF"
      },
      "outputs": [],
      "source": [
        "walks = steps.cumsum(1)  # 각 열의 누적 합(첫번째열,첫번째+두번째열, 첫번째+두번째+세번째열, .....)\n",
        "walks"
      ]
    },
    {
      "cell_type": "code",
      "execution_count": null,
      "metadata": {
        "id": "KpAMGpWUrjNF"
      },
      "outputs": [],
      "source": [
        "walks.min()"
      ]
    },
    {
      "cell_type": "code",
      "execution_count": null,
      "metadata": {
        "id": "hIKPq0pUrjNG"
      },
      "outputs": [],
      "source": [
        "walks.max()"
      ]
    },
    {
      "cell_type": "code",
      "execution_count": null,
      "metadata": {
        "id": "slOqs8lQrjNG"
      },
      "outputs": [],
      "source": [
        "hit30 = (np.abs(walks) >= 30).any(1)\n",
        "hit30"
      ]
    },
    {
      "cell_type": "code",
      "execution_count": null,
      "metadata": {
        "id": "IctD4fu0rjNG"
      },
      "outputs": [],
      "source": [
        "hit30.sum()"
      ]
    },
    {
      "cell_type": "code",
      "execution_count": null,
      "metadata": {
        "id": "T4qnNt9orjNG"
      },
      "outputs": [],
      "source": [
        "crossing_times = (np.abs(walks[hit30]) >= 30).argmax(1)\n",
        "crossing_times.shape"
      ]
    },
    {
      "cell_type": "code",
      "execution_count": null,
      "metadata": {
        "id": "NUJxtwPGrjNG"
      },
      "outputs": [],
      "source": [
        "crossing_times"
      ]
    },
    {
      "cell_type": "code",
      "execution_count": null,
      "metadata": {
        "id": "zn0v59MXrjNG"
      },
      "outputs": [],
      "source": [
        "crossing_times.mean()"
      ]
    },
    {
      "cell_type": "code",
      "execution_count": null,
      "metadata": {
        "id": "AaAbn7uLrjNG"
      },
      "outputs": [],
      "source": [
        ""
      ]
    }
  ],
  "metadata": {
    "kernelspec": {
      "display_name": "Python 3",
      "language": "python",
      "name": "python3"
    },
    "language_info": {
      "codemirror_mode": {
        "name": "ipython",
        "version": 3
      },
      "file_extension": ".py",
      "mimetype": "text/x-python",
      "name": "python",
      "nbconvert_exporter": "python",
      "pygments_lexer": "ipython3",
      "version": "3.8.3"
    },
    "colab": {
      "name": "NumPy 기초.ipynb",
      "provenance": [],
      "collapsed_sections": [
        "HAmU-YRprjMz",
        "6SDjKLuzrjM0",
        "BtKM3bc8rjM3",
        "3gYMiyoirjM4",
        "6-fUgQVsrjM5",
        "JYxuB_P1rjM6",
        "O9J7f3i9rjM7",
        "_ilerFB4rjM7",
        "opnWJTxqrjM8",
        "rKPyLm_UrjM8",
        "03wbPuMtrjM9",
        "egAg4TrarjM9",
        "7IoUQlE3rjM_",
        "qYUN1LhHrjM_",
        "Xfw5_6CarjNA",
        "tNJBCTKvrjNB",
        "JH6qBUD3rjNC",
        "izZ-5eXurjNC",
        "TiMOJGhhrjND"
      ],
      "toc_visible": true,
      "include_colab_link": true
    }
  },
  "nbformat": 4,
  "nbformat_minor": 0
}